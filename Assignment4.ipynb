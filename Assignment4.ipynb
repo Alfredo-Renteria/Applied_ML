{
  "cells": [
    {
      "attachments": {},
      "cell_type": "markdown",
      "metadata": {
        "colab_type": "text",
        "id": "IDo6Mz1MoJxR"
      },
      "source": [
        "# Assignment 4\n",
        "\n",
        "To write legible answers you will need to be familiar with both [Markdown](https://github.com/adam-p/markdown-here/wiki/Markdown-Cheatsheet) and [Latex](https://www.latex-tutorial.com/tutorials/amsmath/)\n",
        "\n",
        "Before you turn this problem in, make sure everything runs as expected. First, restart the kernel (in the menubar, select Runtime→→Restart runtime) and then run all cells (in the menubar, select Runtime→→Run All)."
      ]
    },
    {
      "cell_type": "code",
      "execution_count": 1,
      "metadata": {
        "colab": {},
        "colab_type": "code",
        "id": "nOfazHDtoJxS",
        "vscode": {
          "languageId": "python"
        }
      },
      "outputs": [],
      "source": [
        "NAME = \"Alfredo Renteria\""
      ]
    },
    {
      "cell_type": "code",
      "execution_count": 2,
      "metadata": {
        "colab": {
          "base_uri": "https://localhost:8080/",
          "height": 74
        },
        "colab_type": "code",
        "id": "8v9z0Mpb-BQP",
        "outputId": "a7b8b010-58b5-4f5f-b27e-11e4353c141a",
        "vscode": {
          "languageId": "python"
        }
      },
      "outputs": [
        {
          "name": "stderr",
          "output_type": "stream",
          "text": [
            "/usr/local/lib/python3.6/dist-packages/statsmodels/tools/_testing.py:19: FutureWarning: pandas.util.testing is deprecated. Use the functions in the public API at pandas.testing instead.\n",
            "  import pandas.util.testing as tm\n"
          ]
        }
      ],
      "source": [
        "# TensorFlow and tf.keras\n",
        "import tensorflow as tf\n",
        "from tensorflow import keras\n",
        "\n",
        "# Helper libraries\n",
        "import numpy as np\n",
        "import matplotlib.pyplot as plt\n",
        "\n",
        "import numpy as np\n",
        "import seaborn as sns\n",
        "import pandas as pd\n"
      ]
    },
    {
      "cell_type": "markdown",
      "metadata": {
        "colab_type": "text",
        "id": "450ttnh1rTHv"
      },
      "source": [
        "## Data Exploration and Preprocessing"
      ]
    },
    {
      "attachments": {},
      "cell_type": "markdown",
      "metadata": {
        "colab_type": "text",
        "id": "7Af39xEm-BQV"
      },
      "source": [
        "### Load the Fashion-MNIST dataset\n",
        "Keras has lots of datsets that you can just load right into python numpy arrays, see: https://keras.io/datasets/\n",
        "\n",
        "We will be using the Fashion-MNIST dataset, which is a cool little dataset with gray scale $28\\times28$ images of articles of clothing.\\\n",
        "Keep in mind that they will be downloaded from the internet, so it may take a while."
      ]
    },
    {
      "cell_type": "code",
      "execution_count": 3,
      "metadata": {
        "colab": {
          "base_uri": "https://localhost:8080/",
          "height": 187
        },
        "colab_type": "code",
        "id": "riBPz-sW-BQW",
        "outputId": "f2a5d84e-50b1-4860-eaa9-ab238da855dd",
        "vscode": {
          "languageId": "python"
        }
      },
      "outputs": [
        {
          "name": "stdout",
          "output_type": "stream",
          "text": [
            "Downloading data from https://storage.googleapis.com/tensorflow/tf-keras-datasets/train-labels-idx1-ubyte.gz\n",
            "32768/29515 [=================================] - 0s 0us/step\n",
            "Downloading data from https://storage.googleapis.com/tensorflow/tf-keras-datasets/train-images-idx3-ubyte.gz\n",
            "26427392/26421880 [==============================] - 0s 0us/step\n",
            "Downloading data from https://storage.googleapis.com/tensorflow/tf-keras-datasets/t10k-labels-idx1-ubyte.gz\n",
            "8192/5148 [===============================================] - 0s 0us/step\n",
            "Downloading data from https://storage.googleapis.com/tensorflow/tf-keras-datasets/t10k-images-idx3-ubyte.gz\n",
            "4423680/4422102 [==============================] - 0s 0us/step\n"
          ]
        }
      ],
      "source": [
        "fashion_mnist = keras.datasets.fashion_mnist\n",
        "# Splitting training and test data and corresponding labels \n",
        "(train_images, train_labels), (test_images, test_labels) = fashion_mnist.load_data()"
      ]
    },
    {
      "cell_type": "code",
      "execution_count": 4,
      "metadata": {
        "colab": {},
        "colab_type": "code",
        "id": "yvKkk6RF-BQb",
        "vscode": {
          "languageId": "python"
        }
      },
      "outputs": [],
      "source": [
        "class_names = ['T-shirt/top', 'Trouser', 'Pullover', 'Dress', 'Coat',\n",
        "               'Sandal', 'Shirt', 'Sneaker', 'Bag', 'Ankle boot']\n",
        "class_dict = {i:class_name for i,class_name in enumerate(class_names)}"
      ]
    },
    {
      "cell_type": "code",
      "execution_count": 5,
      "metadata": {
        "colab": {
          "base_uri": "https://localhost:8080/",
          "height": 167
        },
        "colab_type": "code",
        "id": "sBrReYvIW2Wm",
        "outputId": "d1aef434-693b-4f29-c4da-90936c02592a",
        "vscode": {
          "languageId": "python"
        }
      },
      "outputs": [
        {
          "name": "stdout",
          "output_type": "stream",
          "text": [
            "(60000, 28, 28)\n",
            "(60000,)\n",
            "(10000, 28, 28)\n",
            "(10000,)\n",
            "0 72.94035223214286 255\n",
            "0 4.5 9\n",
            "0 73.14656658163265 255\n",
            "0 4.5 9\n"
          ]
        }
      ],
      "source": [
        "print(train_images.shape)\n",
        "print(train_labels.shape)\n",
        "print(test_images.shape)\n",
        "print(test_labels.shape)\n",
        "print(np.min(train_images), np.mean(train_images), np.max(train_images))\n",
        "print(np.min(train_labels), np.mean(train_labels), np.max(train_labels))\n",
        "print(np.min(test_images), np.mean(test_images), np.max(test_images))\n",
        "print(np.min(test_labels), np.mean(test_labels), np.max(test_labels))"
      ]
    },
    {
      "cell_type": "code",
      "execution_count": 6,
      "metadata": {
        "colab": {},
        "colab_type": "code",
        "id": "dUMy4xjA-BQe",
        "vscode": {
          "languageId": "python"
        }
      },
      "outputs": [],
      "source": [
        "def show_image(index):\n",
        "    plt.figure()\n",
        "    # cmap=plt.cm.binary allows us to show the picture in grayscale\n",
        "    plt.imshow(train_images[index], cmap=plt.cm.binary)\n",
        "    plt.title(class_names[train_labels[index]])\n",
        "    plt.colorbar() # Adds a bar to the side with values\n",
        "    plt.show()"
      ]
    },
    {
      "cell_type": "code",
      "execution_count": 7,
      "metadata": {
        "colab": {
          "base_uri": "https://localhost:8080/",
          "height": 281
        },
        "colab_type": "code",
        "id": "vLEyV9VJ-BQm",
        "outputId": "6f0054ff-d1a1-4f53-ff24-f864eee2e6c7",
        "vscode": {
          "languageId": "python"
        }
      },
      "outputs": [
        {
          "data": {
            "image/png": "[encoded data removed]",
            "text/plain": [
              "<Figure size 432x288 with 2 Axes>"
            ]
          },
          "metadata": {
            "needs_background": "light",
            "tags": []
          },
          "output_type": "display_data"
        }
      ],
      "source": [
        "show_image(0)"
      ]
    },
    {
      "cell_type": "code",
      "execution_count": 8,
      "metadata": {
        "colab": {
          "base_uri": "https://localhost:8080/",
          "height": 281
        },
        "colab_type": "code",
        "id": "TlveGtQmiisg",
        "outputId": "d4462a96-d5fe-4fd7-a244-1e9bf7477030",
        "vscode": {
          "languageId": "python"
        }
      },
      "outputs": [
        {
          "data": {
            "image/png": "[encoded data removed]",
            "text/plain": [
              "<Figure size 432x288 with 2 Axes>"
            ]
          },
          "metadata": {
            "needs_background": "light",
            "tags": []
          },
          "output_type": "display_data"
        }
      ],
      "source": [
        "show_image(1)"
      ]
    },
    {
      "cell_type": "code",
      "execution_count": 9,
      "metadata": {
        "colab": {
          "base_uri": "https://localhost:8080/",
          "height": 281
        },
        "colab_type": "code",
        "id": "dyHUnJ8KinYi",
        "outputId": "4d6b3afa-ce26-412c-d7bc-e52b9a4d5d2f",
        "vscode": {
          "languageId": "python"
        }
      },
      "outputs": [
        {
          "data": {
            "image/png": "[encoded data removed]",
            "text/plain": [
              "<Figure size 432x288 with 2 Axes>"
            ]
          },
          "metadata": {
            "needs_background": "light",
            "tags": []
          },
          "output_type": "display_data"
        }
      ],
      "source": [
        "show_image(2)"
      ]
    },
    {
      "attachments": {},
      "cell_type": "markdown",
      "metadata": {
        "colab_type": "text",
        "id": "a9JIPCjflnFV"
      },
      "source": [
        "## Question 1: Data Preprocessing\n",
        "As you can see above, the images are valued from $[0,255]$. This is the normal range for images.\\\n",
        "Recall from the previous lectures and excercises that we need to normalize our data.\n",
        "\n",
        "In order to normalize our data to $[0,1]$ we use the equation:\n",
        "\n",
        "$$x_{norm}=\\frac{x-x_{min}}{x_{max}-x_{min}}$$\n",
        "\n",
        "In our case we can assume that $x_{min}=0$ and $x_{max}=255$, this is a safe assumption since we are working with image data.\n",
        "\n",
        "This means that for image data, if we want to normlize to $[0,1]$ the equation simplifies to:\n",
        "\n",
        "$$img_{norm}=\\frac{img}{255}$$\n",
        "\n",
        "Anytime you work with image data in any kind of model you will be normalizing with this equation. Unless the range you want to normalize is different\\\n",
        "Sometimes you want to normalize between $[-1,1]$, for that you would use a slightly different equation.\n",
        "\n",
        "\n"
      ]
    },
    {
      "cell_type": "markdown",
      "metadata": {
        "colab_type": "text",
        "id": "eNlUuEcBfqzH"
      },
      "source": [
        "### Question 1.1) Normalizing the data\n",
        "Normalize BOTH the training and testing images using the above equation."
      ]
    },
    {
      "cell_type": "code",
      "execution_count": 10,
      "metadata": {
        "colab": {
          "base_uri": "https://localhost:8080/",
          "height": 92
        },
        "colab_type": "code",
        "id": "rfN4Lkys-BQr",
        "outputId": "ffa015c3-ddb6-41b1-c602-a5e30c05da82",
        "vscode": {
          "languageId": "python"
        }
      },
      "outputs": [
        {
          "name": "stdout",
          "output_type": "stream",
          "text": [
            "0.0 0.2860405969887955 1.0\n",
            "0 4.5 9\n",
            "0.0 0.2868492807122849 1.0\n",
            "0 4.5 9\n"
          ]
        }
      ],
      "source": [
        "train_images = train_images/255\n",
        "test_images = test_images/255\n",
        "\n",
        "# Test print\n",
        "print(np.min(train_images), np.mean(train_images), np.max(train_images))\n",
        "print(np.min(train_labels), np.mean(train_labels), np.max(train_labels))\n",
        "print(np.min(test_images), np.mean(test_images), np.max(test_images))\n",
        "print(np.min(test_labels), np.mean(test_labels), np.max(test_labels))\n"
      ]
    },
    {
      "cell_type": "markdown",
      "metadata": {
        "colab_type": "text",
        "id": "-QumntnM-BQv"
      },
      "source": [
        "If we show the image again, you will see the values are all scaled correctly."
      ]
    },
    {
      "cell_type": "code",
      "execution_count": 11,
      "metadata": {
        "colab": {
          "base_uri": "https://localhost:8080/",
          "height": 281
        },
        "colab_type": "code",
        "id": "o15roqPA-BQw",
        "outputId": "8b2e4502-eeeb-420d-9b43-45415560229a",
        "vscode": {
          "languageId": "python"
        }
      },
      "outputs": [
        {
          "data": {
            "image/png": "[encoded data removed]",
            "text/plain": [
              "<Figure size 432x288 with 2 Axes>"
            ]
          },
          "metadata": {
            "needs_background": "light",
            "tags": []
          },
          "output_type": "display_data"
        }
      ],
      "source": [
        "show_image(0)"
      ]
    },
    {
      "cell_type": "code",
      "execution_count": 12,
      "metadata": {
        "colab": {
          "base_uri": "https://localhost:8080/",
          "height": 589
        },
        "colab_type": "code",
        "id": "bsg3Mbzb-BQ2",
        "outputId": "a8d2c405-599c-4c6e-e257-ac3041958ca6",
        "vscode": {
          "languageId": "python"
        }
      },
      "outputs": [
        {
          "data": {
            "image/png": "[encoded data removed]",
            "text/plain": [
              "<Figure size 720x720 with 25 Axes>"
            ]
          },
          "metadata": {
            "tags": []
          },
          "output_type": "display_data"
        }
      ],
      "source": [
        "# Lets sample our data to see what kind of images are stored.\n",
        "# see documentation for subplot here:\n",
        "# https://matplotlib.org/3.2.1/api/_as_gen/matplotlib.pyplot.subplot.html\n",
        "plt.figure(figsize=(10,10))\n",
        "for i in range(25):\n",
        "    plt.subplot(5,5,i+1)\n",
        "    plt.xticks([])\n",
        "    plt.yticks([])\n",
        "    plt.grid(False)\n",
        "    plt.imshow(train_images[i], cmap=plt.cm.binary)\n",
        "    plt.xlabel(class_names[train_labels[i]])\n",
        "plt.show()"
      ]
    },
    {
      "attachments": {},
      "cell_type": "markdown",
      "metadata": {
        "colab_type": "text",
        "id": "ZAwvboqPf-B_"
      },
      "source": [
        "### Question 1.2) Data Transformation\n",
        "Since our data is composed of grayscale images (one channel) with a resolution of $28\\times28$, we can think of this as the images existing in a $28\\times28=784$ dimensional space. This means that every single image in our dataset can be represented by a vector of length $784$.\n",
        "\n",
        "Please reshape BOTH the training and testing images to be $784D$. "
      ]
    },
    {
      "cell_type": "code",
      "execution_count": 13,
      "metadata": {
        "colab": {
          "base_uri": "https://localhost:8080/",
          "height": 54
        },
        "colab_type": "code",
        "id": "iJ--OeGe-BQ7",
        "outputId": "693f96bd-07ee-4426-8866-181e32f80627",
        "vscode": {
          "languageId": "python"
        }
      },
      "outputs": [
        {
          "name": "stdout",
          "output_type": "stream",
          "text": [
            "Before reshape, train_images shape: (60000, 28, 28) test_images shape: (10000, 28, 28)\n",
            "Before reshape, train_images shape: (60000, 784) test_images shape: (10000, 784)\n"
          ]
        }
      ],
      "source": [
        "print(f'Before reshape, train_images shape: {train_images.shape} test_images shape: {test_images.shape}')\n",
        "train_images = train_images.reshape(-1, 784)\n",
        "test_images = test_images.reshape(-1, 784)\n",
        "print(f'Before reshape, train_images shape: {train_images.shape} test_images shape: {test_images.shape}')"
      ]
    },
    {
      "cell_type": "code",
      "execution_count": 14,
      "metadata": {
        "colab": {
          "base_uri": "https://localhost:8080/",
          "height": 36
        },
        "colab_type": "code",
        "id": "0qdBd1wK7Bm0",
        "outputId": "6ddeb895-b06d-4a29-cf73-8aed6d1e3fb0",
        "vscode": {
          "languageId": "python"
        }
      },
      "outputs": [
        {
          "name": "stdout",
          "output_type": "stream",
          "text": [
            "2 (60000, 784)\n"
          ]
        }
      ],
      "source": [
        "print(train_images.ndim, train_images.shape)"
      ]
    },
    {
      "cell_type": "markdown",
      "metadata": {
        "colab_type": "text",
        "id": "tmk0lLTRg2wu"
      },
      "source": [
        "We create a dataframe using our training and testing data to keep everything tidy."
      ]
    },
    {
      "cell_type": "code",
      "execution_count": 15,
      "metadata": {
        "colab": {
          "base_uri": "https://localhost:8080/",
          "height": 273
        },
        "colab_type": "code",
        "id": "_gMY-eeSlBqs",
        "outputId": "0293950f-4d0f-485d-9ebe-67a9945458b6",
        "vscode": {
          "languageId": "python"
        }
      },
      "outputs": [
        {
          "data": {
            "text/html": [
              "<div>\n",
              "<style scoped>\n",
              "    .dataframe tbody tr th:only-of-type {\n",
              "        vertical-align: middle;\n",
              "    }\n",
              "\n",
              "    .dataframe tbody tr th {\n",
              "        vertical-align: top;\n",
              "    }\n",
              "\n",
              "    .dataframe thead th {\n",
              "        text-align: right;\n",
              "    }\n",
              "</style>\n",
              "<table border=\"1\" class=\"dataframe\">\n",
              "  <thead>\n",
              "    <tr style=\"text-align: right;\">\n",
              "      <th></th>\n",
              "      <th>z0</th>\n",
              "      <th>z1</th>\n",
              "      <th>z2</th>\n",
              "      <th>z3</th>\n",
              "      <th>z4</th>\n",
              "      <th>z5</th>\n",
              "      <th>z6</th>\n",
              "      <th>z7</th>\n",
              "      <th>z8</th>\n",
              "      <th>z9</th>\n",
              "      <th>z10</th>\n",
              "      <th>z11</th>\n",
              "      <th>z12</th>\n",
              "      <th>z13</th>\n",
              "      <th>z14</th>\n",
              "      <th>z15</th>\n",
              "      <th>z16</th>\n",
              "      <th>z17</th>\n",
              "      <th>z18</th>\n",
              "      <th>z19</th>\n",
              "      <th>z20</th>\n",
              "      <th>z21</th>\n",
              "      <th>z22</th>\n",
              "      <th>z23</th>\n",
              "      <th>z24</th>\n",
              "      <th>z25</th>\n",
              "      <th>z26</th>\n",
              "      <th>z27</th>\n",
              "      <th>z28</th>\n",
              "      <th>z29</th>\n",
              "      <th>z30</th>\n",
              "      <th>z31</th>\n",
              "      <th>z32</th>\n",
              "      <th>z33</th>\n",
              "      <th>z34</th>\n",
              "      <th>z35</th>\n",
              "      <th>z36</th>\n",
              "      <th>z37</th>\n",
              "      <th>z38</th>\n",
              "      <th>z39</th>\n",
              "      <th>...</th>\n",
              "      <th>z746</th>\n",
              "      <th>z747</th>\n",
              "      <th>z748</th>\n",
              "      <th>z749</th>\n",
              "      <th>z750</th>\n",
              "      <th>z751</th>\n",
              "      <th>z752</th>\n",
              "      <th>z753</th>\n",
              "      <th>z754</th>\n",
              "      <th>z755</th>\n",
              "      <th>z756</th>\n",
              "      <th>z757</th>\n",
              "      <th>z758</th>\n",
              "      <th>z759</th>\n",
              "      <th>z760</th>\n",
              "      <th>z761</th>\n",
              "      <th>z762</th>\n",
              "      <th>z763</th>\n",
              "      <th>z764</th>\n",
              "      <th>z765</th>\n",
              "      <th>z766</th>\n",
              "      <th>z767</th>\n",
              "      <th>z768</th>\n",
              "      <th>z769</th>\n",
              "      <th>z770</th>\n",
              "      <th>z771</th>\n",
              "      <th>z772</th>\n",
              "      <th>z773</th>\n",
              "      <th>z774</th>\n",
              "      <th>z775</th>\n",
              "      <th>z776</th>\n",
              "      <th>z777</th>\n",
              "      <th>z778</th>\n",
              "      <th>z779</th>\n",
              "      <th>z780</th>\n",
              "      <th>z781</th>\n",
              "      <th>z782</th>\n",
              "      <th>z783</th>\n",
              "      <th>label</th>\n",
              "      <th>class</th>\n",
              "    </tr>\n",
              "  </thead>\n",
              "  <tbody>\n",
              "    <tr>\n",
              "      <th>0</th>\n",
              "      <td>0.0</td>\n",
              "      <td>0.0</td>\n",
              "      <td>0.0</td>\n",
              "      <td>0.0</td>\n",
              "      <td>0.0</td>\n",
              "      <td>0.000000</td>\n",
              "      <td>0.0</td>\n",
              "      <td>0.0</td>\n",
              "      <td>0.000000</td>\n",
              "      <td>0.000000</td>\n",
              "      <td>0.000000</td>\n",
              "      <td>0.000000</td>\n",
              "      <td>0.000000</td>\n",
              "      <td>0.000000</td>\n",
              "      <td>0.000000</td>\n",
              "      <td>0.000000</td>\n",
              "      <td>0.000000</td>\n",
              "      <td>0.000000</td>\n",
              "      <td>0.000000</td>\n",
              "      <td>0.000000</td>\n",
              "      <td>0.0</td>\n",
              "      <td>0.0</td>\n",
              "      <td>0.0</td>\n",
              "      <td>0.0</td>\n",
              "      <td>0.0</td>\n",
              "      <td>0.0</td>\n",
              "      <td>0.0</td>\n",
              "      <td>0.0</td>\n",
              "      <td>0.0</td>\n",
              "      <td>0.0</td>\n",
              "      <td>0.0</td>\n",
              "      <td>0.000000</td>\n",
              "      <td>0.0</td>\n",
              "      <td>0.0</td>\n",
              "      <td>0.000000</td>\n",
              "      <td>0.000000</td>\n",
              "      <td>0.000000</td>\n",
              "      <td>0.000000</td>\n",
              "      <td>0.000000</td>\n",
              "      <td>0.000000</td>\n",
              "      <td>...</td>\n",
              "      <td>0.000000</td>\n",
              "      <td>0.000000</td>\n",
              "      <td>0.000000</td>\n",
              "      <td>0.000000</td>\n",
              "      <td>0.000000</td>\n",
              "      <td>0.000000</td>\n",
              "      <td>0.0</td>\n",
              "      <td>0.0</td>\n",
              "      <td>0.0</td>\n",
              "      <td>0.0</td>\n",
              "      <td>0.0</td>\n",
              "      <td>0.0</td>\n",
              "      <td>0.0</td>\n",
              "      <td>0.0</td>\n",
              "      <td>0.0</td>\n",
              "      <td>0.000000</td>\n",
              "      <td>0.000000</td>\n",
              "      <td>0.0</td>\n",
              "      <td>0.000000</td>\n",
              "      <td>0.000000</td>\n",
              "      <td>0.000000</td>\n",
              "      <td>0.000000</td>\n",
              "      <td>0.000000</td>\n",
              "      <td>0.000000</td>\n",
              "      <td>0.000000</td>\n",
              "      <td>0.000000</td>\n",
              "      <td>0.000000</td>\n",
              "      <td>0.000000</td>\n",
              "      <td>0.000000</td>\n",
              "      <td>0.000000</td>\n",
              "      <td>0.000000</td>\n",
              "      <td>0.000000</td>\n",
              "      <td>0.0</td>\n",
              "      <td>0.0</td>\n",
              "      <td>0.0</td>\n",
              "      <td>0.0</td>\n",
              "      <td>0.0</td>\n",
              "      <td>0.0</td>\n",
              "      <td>9</td>\n",
              "      <td>Ankle boot</td>\n",
              "    </tr>\n",
              "    <tr>\n",
              "      <th>1</th>\n",
              "      <td>0.0</td>\n",
              "      <td>0.0</td>\n",
              "      <td>0.0</td>\n",
              "      <td>0.0</td>\n",
              "      <td>0.0</td>\n",
              "      <td>0.003922</td>\n",
              "      <td>0.0</td>\n",
              "      <td>0.0</td>\n",
              "      <td>0.000000</td>\n",
              "      <td>0.000000</td>\n",
              "      <td>0.160784</td>\n",
              "      <td>0.737255</td>\n",
              "      <td>0.403922</td>\n",
              "      <td>0.211765</td>\n",
              "      <td>0.188235</td>\n",
              "      <td>0.168627</td>\n",
              "      <td>0.341176</td>\n",
              "      <td>0.658824</td>\n",
              "      <td>0.521569</td>\n",
              "      <td>0.062745</td>\n",
              "      <td>0.0</td>\n",
              "      <td>0.0</td>\n",
              "      <td>0.0</td>\n",
              "      <td>0.0</td>\n",
              "      <td>0.0</td>\n",
              "      <td>0.0</td>\n",
              "      <td>0.0</td>\n",
              "      <td>0.0</td>\n",
              "      <td>0.0</td>\n",
              "      <td>0.0</td>\n",
              "      <td>0.0</td>\n",
              "      <td>0.003922</td>\n",
              "      <td>0.0</td>\n",
              "      <td>0.0</td>\n",
              "      <td>0.000000</td>\n",
              "      <td>0.192157</td>\n",
              "      <td>0.533333</td>\n",
              "      <td>0.858824</td>\n",
              "      <td>0.847059</td>\n",
              "      <td>0.894118</td>\n",
              "      <td>...</td>\n",
              "      <td>0.952941</td>\n",
              "      <td>0.839216</td>\n",
              "      <td>0.878431</td>\n",
              "      <td>0.635294</td>\n",
              "      <td>0.000000</td>\n",
              "      <td>0.007843</td>\n",
              "      <td>0.0</td>\n",
              "      <td>0.0</td>\n",
              "      <td>0.0</td>\n",
              "      <td>0.0</td>\n",
              "      <td>0.0</td>\n",
              "      <td>0.0</td>\n",
              "      <td>0.0</td>\n",
              "      <td>0.0</td>\n",
              "      <td>0.0</td>\n",
              "      <td>0.003922</td>\n",
              "      <td>0.000000</td>\n",
              "      <td>0.0</td>\n",
              "      <td>0.545098</td>\n",
              "      <td>0.572549</td>\n",
              "      <td>0.509804</td>\n",
              "      <td>0.529412</td>\n",
              "      <td>0.529412</td>\n",
              "      <td>0.537255</td>\n",
              "      <td>0.490196</td>\n",
              "      <td>0.486275</td>\n",
              "      <td>0.490196</td>\n",
              "      <td>0.474510</td>\n",
              "      <td>0.466667</td>\n",
              "      <td>0.447059</td>\n",
              "      <td>0.509804</td>\n",
              "      <td>0.298039</td>\n",
              "      <td>0.0</td>\n",
              "      <td>0.0</td>\n",
              "      <td>0.0</td>\n",
              "      <td>0.0</td>\n",
              "      <td>0.0</td>\n",
              "      <td>0.0</td>\n",
              "      <td>0</td>\n",
              "      <td>T-shirt/top</td>\n",
              "    </tr>\n",
              "    <tr>\n",
              "      <th>2</th>\n",
              "      <td>0.0</td>\n",
              "      <td>0.0</td>\n",
              "      <td>0.0</td>\n",
              "      <td>0.0</td>\n",
              "      <td>0.0</td>\n",
              "      <td>0.000000</td>\n",
              "      <td>0.0</td>\n",
              "      <td>0.0</td>\n",
              "      <td>0.000000</td>\n",
              "      <td>0.086275</td>\n",
              "      <td>0.462745</td>\n",
              "      <td>0.094118</td>\n",
              "      <td>0.000000</td>\n",
              "      <td>0.000000</td>\n",
              "      <td>0.000000</td>\n",
              "      <td>0.000000</td>\n",
              "      <td>0.000000</td>\n",
              "      <td>0.188235</td>\n",
              "      <td>0.345098</td>\n",
              "      <td>0.019608</td>\n",
              "      <td>0.0</td>\n",
              "      <td>0.0</td>\n",
              "      <td>0.0</td>\n",
              "      <td>0.0</td>\n",
              "      <td>0.0</td>\n",
              "      <td>0.0</td>\n",
              "      <td>0.0</td>\n",
              "      <td>0.0</td>\n",
              "      <td>0.0</td>\n",
              "      <td>0.0</td>\n",
              "      <td>0.0</td>\n",
              "      <td>0.000000</td>\n",
              "      <td>0.0</td>\n",
              "      <td>0.0</td>\n",
              "      <td>0.000000</td>\n",
              "      <td>0.000000</td>\n",
              "      <td>0.047059</td>\n",
              "      <td>0.392157</td>\n",
              "      <td>0.831373</td>\n",
              "      <td>0.803922</td>\n",
              "      <td>...</td>\n",
              "      <td>0.294118</td>\n",
              "      <td>0.039216</td>\n",
              "      <td>0.000000</td>\n",
              "      <td>0.000000</td>\n",
              "      <td>0.000000</td>\n",
              "      <td>0.000000</td>\n",
              "      <td>0.0</td>\n",
              "      <td>0.0</td>\n",
              "      <td>0.0</td>\n",
              "      <td>0.0</td>\n",
              "      <td>0.0</td>\n",
              "      <td>0.0</td>\n",
              "      <td>0.0</td>\n",
              "      <td>0.0</td>\n",
              "      <td>0.0</td>\n",
              "      <td>0.000000</td>\n",
              "      <td>0.000000</td>\n",
              "      <td>0.0</td>\n",
              "      <td>0.003922</td>\n",
              "      <td>0.000000</td>\n",
              "      <td>0.000000</td>\n",
              "      <td>0.000000</td>\n",
              "      <td>0.070588</td>\n",
              "      <td>0.164706</td>\n",
              "      <td>0.223529</td>\n",
              "      <td>0.219608</td>\n",
              "      <td>0.125490</td>\n",
              "      <td>0.031373</td>\n",
              "      <td>0.000000</td>\n",
              "      <td>0.000000</td>\n",
              "      <td>0.003922</td>\n",
              "      <td>0.000000</td>\n",
              "      <td>0.0</td>\n",
              "      <td>0.0</td>\n",
              "      <td>0.0</td>\n",
              "      <td>0.0</td>\n",
              "      <td>0.0</td>\n",
              "      <td>0.0</td>\n",
              "      <td>0</td>\n",
              "      <td>T-shirt/top</td>\n",
              "    </tr>\n",
              "    <tr>\n",
              "      <th>3</th>\n",
              "      <td>0.0</td>\n",
              "      <td>0.0</td>\n",
              "      <td>0.0</td>\n",
              "      <td>0.0</td>\n",
              "      <td>0.0</td>\n",
              "      <td>0.000000</td>\n",
              "      <td>0.0</td>\n",
              "      <td>0.0</td>\n",
              "      <td>0.129412</td>\n",
              "      <td>0.376471</td>\n",
              "      <td>0.686275</td>\n",
              "      <td>0.611765</td>\n",
              "      <td>0.250980</td>\n",
              "      <td>0.054902</td>\n",
              "      <td>0.211765</td>\n",
              "      <td>0.537255</td>\n",
              "      <td>0.800000</td>\n",
              "      <td>0.760784</td>\n",
              "      <td>0.400000</td>\n",
              "      <td>0.000000</td>\n",
              "      <td>0.0</td>\n",
              "      <td>0.0</td>\n",
              "      <td>0.0</td>\n",
              "      <td>0.0</td>\n",
              "      <td>0.0</td>\n",
              "      <td>0.0</td>\n",
              "      <td>0.0</td>\n",
              "      <td>0.0</td>\n",
              "      <td>0.0</td>\n",
              "      <td>0.0</td>\n",
              "      <td>0.0</td>\n",
              "      <td>0.000000</td>\n",
              "      <td>0.0</td>\n",
              "      <td>0.0</td>\n",
              "      <td>0.286275</td>\n",
              "      <td>0.729412</td>\n",
              "      <td>0.694118</td>\n",
              "      <td>0.717647</td>\n",
              "      <td>0.686275</td>\n",
              "      <td>0.737255</td>\n",
              "      <td>...</td>\n",
              "      <td>0.333333</td>\n",
              "      <td>0.627451</td>\n",
              "      <td>0.521569</td>\n",
              "      <td>0.392157</td>\n",
              "      <td>0.047059</td>\n",
              "      <td>0.000000</td>\n",
              "      <td>0.0</td>\n",
              "      <td>0.0</td>\n",
              "      <td>0.0</td>\n",
              "      <td>0.0</td>\n",
              "      <td>0.0</td>\n",
              "      <td>0.0</td>\n",
              "      <td>0.0</td>\n",
              "      <td>0.0</td>\n",
              "      <td>0.0</td>\n",
              "      <td>0.000000</td>\n",
              "      <td>0.015686</td>\n",
              "      <td>0.0</td>\n",
              "      <td>0.007843</td>\n",
              "      <td>0.000000</td>\n",
              "      <td>0.137255</td>\n",
              "      <td>0.015686</td>\n",
              "      <td>0.129412</td>\n",
              "      <td>0.000000</td>\n",
              "      <td>0.000000</td>\n",
              "      <td>0.000000</td>\n",
              "      <td>0.000000</td>\n",
              "      <td>0.000000</td>\n",
              "      <td>0.000000</td>\n",
              "      <td>0.000000</td>\n",
              "      <td>0.000000</td>\n",
              "      <td>0.000000</td>\n",
              "      <td>0.0</td>\n",
              "      <td>0.0</td>\n",
              "      <td>0.0</td>\n",
              "      <td>0.0</td>\n",
              "      <td>0.0</td>\n",
              "      <td>0.0</td>\n",
              "      <td>3</td>\n",
              "      <td>Dress</td>\n",
              "    </tr>\n",
              "    <tr>\n",
              "      <th>4</th>\n",
              "      <td>0.0</td>\n",
              "      <td>0.0</td>\n",
              "      <td>0.0</td>\n",
              "      <td>0.0</td>\n",
              "      <td>0.0</td>\n",
              "      <td>0.000000</td>\n",
              "      <td>0.0</td>\n",
              "      <td>0.0</td>\n",
              "      <td>0.000000</td>\n",
              "      <td>0.000000</td>\n",
              "      <td>0.000000</td>\n",
              "      <td>0.000000</td>\n",
              "      <td>0.000000</td>\n",
              "      <td>0.000000</td>\n",
              "      <td>0.000000</td>\n",
              "      <td>0.000000</td>\n",
              "      <td>0.000000</td>\n",
              "      <td>0.101961</td>\n",
              "      <td>0.000000</td>\n",
              "      <td>0.000000</td>\n",
              "      <td>0.0</td>\n",
              "      <td>0.0</td>\n",
              "      <td>0.0</td>\n",
              "      <td>0.0</td>\n",
              "      <td>0.0</td>\n",
              "      <td>0.0</td>\n",
              "      <td>0.0</td>\n",
              "      <td>0.0</td>\n",
              "      <td>0.0</td>\n",
              "      <td>0.0</td>\n",
              "      <td>0.0</td>\n",
              "      <td>0.000000</td>\n",
              "      <td>0.0</td>\n",
              "      <td>0.0</td>\n",
              "      <td>0.000000</td>\n",
              "      <td>0.000000</td>\n",
              "      <td>0.741176</td>\n",
              "      <td>0.807843</td>\n",
              "      <td>0.733333</td>\n",
              "      <td>0.125490</td>\n",
              "      <td>...</td>\n",
              "      <td>1.000000</td>\n",
              "      <td>0.274510</td>\n",
              "      <td>0.000000</td>\n",
              "      <td>0.000000</td>\n",
              "      <td>0.000000</td>\n",
              "      <td>0.000000</td>\n",
              "      <td>0.0</td>\n",
              "      <td>0.0</td>\n",
              "      <td>0.0</td>\n",
              "      <td>0.0</td>\n",
              "      <td>0.0</td>\n",
              "      <td>0.0</td>\n",
              "      <td>0.0</td>\n",
              "      <td>0.0</td>\n",
              "      <td>0.0</td>\n",
              "      <td>0.000000</td>\n",
              "      <td>0.000000</td>\n",
              "      <td>0.0</td>\n",
              "      <td>0.000000</td>\n",
              "      <td>0.000000</td>\n",
              "      <td>0.239216</td>\n",
              "      <td>0.400000</td>\n",
              "      <td>0.658824</td>\n",
              "      <td>0.098039</td>\n",
              "      <td>0.000000</td>\n",
              "      <td>0.545098</td>\n",
              "      <td>0.631373</td>\n",
              "      <td>0.290196</td>\n",
              "      <td>0.000000</td>\n",
              "      <td>0.000000</td>\n",
              "      <td>0.000000</td>\n",
              "      <td>0.000000</td>\n",
              "      <td>0.0</td>\n",
              "      <td>0.0</td>\n",
              "      <td>0.0</td>\n",
              "      <td>0.0</td>\n",
              "      <td>0.0</td>\n",
              "      <td>0.0</td>\n",
              "      <td>0</td>\n",
              "      <td>T-shirt/top</td>\n",
              "    </tr>\n",
              "  </tbody>\n",
              "</table>\n",
              "<p>5 rows × 786 columns</p>\n",
              "</div>"
            ],
            "text/plain": [
              "    z0   z1   z2   z3   z4  ...  z781  z782  z783  label        class\n",
              "0  0.0  0.0  0.0  0.0  0.0  ...   0.0   0.0   0.0      9   Ankle boot\n",
              "1  0.0  0.0  0.0  0.0  0.0  ...   0.0   0.0   0.0      0  T-shirt/top\n",
              "2  0.0  0.0  0.0  0.0  0.0  ...   0.0   0.0   0.0      0  T-shirt/top\n",
              "3  0.0  0.0  0.0  0.0  0.0  ...   0.0   0.0   0.0      3        Dress\n",
              "4  0.0  0.0  0.0  0.0  0.0  ...   0.0   0.0   0.0      0  T-shirt/top\n",
              "\n",
              "[5 rows x 786 columns]"
            ]
          },
          "execution_count": 15,
          "metadata": {
            "tags": []
          },
          "output_type": "execute_result"
        }
      ],
      "source": [
        "# Add training data into a dataframe\n",
        "img_data = {f\"z{i}\":train_images[:,i] for i in range(784)}\n",
        "img_data[\"label\"] = train_labels\n",
        "df_img_train = pd.DataFrame(img_data)\n",
        "df_img_train[\"class\"] = df_img_train[\"label\"].map(class_dict)\n",
        "df_img_train.head()"
      ]
    },
    {
      "cell_type": "code",
      "execution_count": 16,
      "metadata": {
        "colab": {
          "base_uri": "https://localhost:8080/",
          "height": 273
        },
        "colab_type": "code",
        "id": "f4Cwpg90Grrx",
        "outputId": "fcf6adca-f9fb-44f7-dccd-278858a1bd3d",
        "vscode": {
          "languageId": "python"
        }
      },
      "outputs": [
        {
          "data": {
            "text/html": [
              "<div>\n",
              "<style scoped>\n",
              "    .dataframe tbody tr th:only-of-type {\n",
              "        vertical-align: middle;\n",
              "    }\n",
              "\n",
              "    .dataframe tbody tr th {\n",
              "        vertical-align: top;\n",
              "    }\n",
              "\n",
              "    .dataframe thead th {\n",
              "        text-align: right;\n",
              "    }\n",
              "</style>\n",
              "<table border=\"1\" class=\"dataframe\">\n",
              "  <thead>\n",
              "    <tr style=\"text-align: right;\">\n",
              "      <th></th>\n",
              "      <th>z0</th>\n",
              "      <th>z1</th>\n",
              "      <th>z2</th>\n",
              "      <th>z3</th>\n",
              "      <th>z4</th>\n",
              "      <th>z5</th>\n",
              "      <th>z6</th>\n",
              "      <th>z7</th>\n",
              "      <th>z8</th>\n",
              "      <th>z9</th>\n",
              "      <th>z10</th>\n",
              "      <th>z11</th>\n",
              "      <th>z12</th>\n",
              "      <th>z13</th>\n",
              "      <th>z14</th>\n",
              "      <th>z15</th>\n",
              "      <th>z16</th>\n",
              "      <th>z17</th>\n",
              "      <th>z18</th>\n",
              "      <th>z19</th>\n",
              "      <th>z20</th>\n",
              "      <th>z21</th>\n",
              "      <th>z22</th>\n",
              "      <th>z23</th>\n",
              "      <th>z24</th>\n",
              "      <th>z25</th>\n",
              "      <th>z26</th>\n",
              "      <th>z27</th>\n",
              "      <th>z28</th>\n",
              "      <th>z29</th>\n",
              "      <th>z30</th>\n",
              "      <th>z31</th>\n",
              "      <th>z32</th>\n",
              "      <th>z33</th>\n",
              "      <th>z34</th>\n",
              "      <th>z35</th>\n",
              "      <th>z36</th>\n",
              "      <th>z37</th>\n",
              "      <th>z38</th>\n",
              "      <th>z39</th>\n",
              "      <th>...</th>\n",
              "      <th>z746</th>\n",
              "      <th>z747</th>\n",
              "      <th>z748</th>\n",
              "      <th>z749</th>\n",
              "      <th>z750</th>\n",
              "      <th>z751</th>\n",
              "      <th>z752</th>\n",
              "      <th>z753</th>\n",
              "      <th>z754</th>\n",
              "      <th>z755</th>\n",
              "      <th>z756</th>\n",
              "      <th>z757</th>\n",
              "      <th>z758</th>\n",
              "      <th>z759</th>\n",
              "      <th>z760</th>\n",
              "      <th>z761</th>\n",
              "      <th>z762</th>\n",
              "      <th>z763</th>\n",
              "      <th>z764</th>\n",
              "      <th>z765</th>\n",
              "      <th>z766</th>\n",
              "      <th>z767</th>\n",
              "      <th>z768</th>\n",
              "      <th>z769</th>\n",
              "      <th>z770</th>\n",
              "      <th>z771</th>\n",
              "      <th>z772</th>\n",
              "      <th>z773</th>\n",
              "      <th>z774</th>\n",
              "      <th>z775</th>\n",
              "      <th>z776</th>\n",
              "      <th>z777</th>\n",
              "      <th>z778</th>\n",
              "      <th>z779</th>\n",
              "      <th>z780</th>\n",
              "      <th>z781</th>\n",
              "      <th>z782</th>\n",
              "      <th>z783</th>\n",
              "      <th>label</th>\n",
              "      <th>class</th>\n",
              "    </tr>\n",
              "  </thead>\n",
              "  <tbody>\n",
              "    <tr>\n",
              "      <th>0</th>\n",
              "      <td>0.0</td>\n",
              "      <td>0.0</td>\n",
              "      <td>0.0</td>\n",
              "      <td>0.000000</td>\n",
              "      <td>0.0</td>\n",
              "      <td>0.000000</td>\n",
              "      <td>0.000000</td>\n",
              "      <td>0.0</td>\n",
              "      <td>0.000000</td>\n",
              "      <td>0.000000</td>\n",
              "      <td>0.000000</td>\n",
              "      <td>0.000000</td>\n",
              "      <td>0.000000</td>\n",
              "      <td>0.000000</td>\n",
              "      <td>0.000000</td>\n",
              "      <td>0.000000</td>\n",
              "      <td>0.000000</td>\n",
              "      <td>0.000000</td>\n",
              "      <td>0.000000</td>\n",
              "      <td>0.000000</td>\n",
              "      <td>0.0</td>\n",
              "      <td>0.0</td>\n",
              "      <td>0.0</td>\n",
              "      <td>0.0</td>\n",
              "      <td>0.0</td>\n",
              "      <td>0.0</td>\n",
              "      <td>0.0</td>\n",
              "      <td>0.0</td>\n",
              "      <td>0.0</td>\n",
              "      <td>0.0</td>\n",
              "      <td>0.0</td>\n",
              "      <td>0.000000</td>\n",
              "      <td>0.000000</td>\n",
              "      <td>0.000000</td>\n",
              "      <td>0.0</td>\n",
              "      <td>0.000000</td>\n",
              "      <td>0.000000</td>\n",
              "      <td>0.000000</td>\n",
              "      <td>0.000000</td>\n",
              "      <td>0.000000</td>\n",
              "      <td>...</td>\n",
              "      <td>0.000000</td>\n",
              "      <td>0.000000</td>\n",
              "      <td>0.000000</td>\n",
              "      <td>0.000000</td>\n",
              "      <td>0.000000</td>\n",
              "      <td>0.0</td>\n",
              "      <td>0.000000</td>\n",
              "      <td>0.0</td>\n",
              "      <td>0.0</td>\n",
              "      <td>0.0</td>\n",
              "      <td>0.0</td>\n",
              "      <td>0.0</td>\n",
              "      <td>0.0</td>\n",
              "      <td>0.0</td>\n",
              "      <td>0.000000</td>\n",
              "      <td>0.000000</td>\n",
              "      <td>0.000000</td>\n",
              "      <td>0.000000</td>\n",
              "      <td>0.0</td>\n",
              "      <td>0.000000</td>\n",
              "      <td>0.000000</td>\n",
              "      <td>0.000000</td>\n",
              "      <td>0.000000</td>\n",
              "      <td>0.000000</td>\n",
              "      <td>0.000000</td>\n",
              "      <td>0.000000</td>\n",
              "      <td>0.000000</td>\n",
              "      <td>0.000000</td>\n",
              "      <td>0.000000</td>\n",
              "      <td>0.000000</td>\n",
              "      <td>0.0</td>\n",
              "      <td>0.000000</td>\n",
              "      <td>0.000000</td>\n",
              "      <td>0.000000</td>\n",
              "      <td>0.000000</td>\n",
              "      <td>0.0</td>\n",
              "      <td>0.0</td>\n",
              "      <td>0.0</td>\n",
              "      <td>9</td>\n",
              "      <td>Ankle boot</td>\n",
              "    </tr>\n",
              "    <tr>\n",
              "      <th>1</th>\n",
              "      <td>0.0</td>\n",
              "      <td>0.0</td>\n",
              "      <td>0.0</td>\n",
              "      <td>0.000000</td>\n",
              "      <td>0.0</td>\n",
              "      <td>0.000000</td>\n",
              "      <td>0.000000</td>\n",
              "      <td>0.0</td>\n",
              "      <td>0.000000</td>\n",
              "      <td>0.000000</td>\n",
              "      <td>0.050980</td>\n",
              "      <td>0.262745</td>\n",
              "      <td>0.000000</td>\n",
              "      <td>0.000000</td>\n",
              "      <td>0.000000</td>\n",
              "      <td>0.000000</td>\n",
              "      <td>0.196078</td>\n",
              "      <td>0.149020</td>\n",
              "      <td>0.000000</td>\n",
              "      <td>0.000000</td>\n",
              "      <td>0.0</td>\n",
              "      <td>0.0</td>\n",
              "      <td>0.0</td>\n",
              "      <td>0.0</td>\n",
              "      <td>0.0</td>\n",
              "      <td>0.0</td>\n",
              "      <td>0.0</td>\n",
              "      <td>0.0</td>\n",
              "      <td>0.0</td>\n",
              "      <td>0.0</td>\n",
              "      <td>0.0</td>\n",
              "      <td>0.000000</td>\n",
              "      <td>0.000000</td>\n",
              "      <td>0.000000</td>\n",
              "      <td>0.0</td>\n",
              "      <td>0.031373</td>\n",
              "      <td>0.470588</td>\n",
              "      <td>0.819608</td>\n",
              "      <td>0.886275</td>\n",
              "      <td>0.968627</td>\n",
              "      <td>...</td>\n",
              "      <td>0.000000</td>\n",
              "      <td>0.000000</td>\n",
              "      <td>0.000000</td>\n",
              "      <td>0.152941</td>\n",
              "      <td>0.976471</td>\n",
              "      <td>1.0</td>\n",
              "      <td>0.482353</td>\n",
              "      <td>0.0</td>\n",
              "      <td>0.0</td>\n",
              "      <td>0.0</td>\n",
              "      <td>0.0</td>\n",
              "      <td>0.0</td>\n",
              "      <td>0.0</td>\n",
              "      <td>0.0</td>\n",
              "      <td>0.192157</td>\n",
              "      <td>0.803922</td>\n",
              "      <td>0.772549</td>\n",
              "      <td>0.043137</td>\n",
              "      <td>0.0</td>\n",
              "      <td>0.015686</td>\n",
              "      <td>0.003922</td>\n",
              "      <td>0.007843</td>\n",
              "      <td>0.007843</td>\n",
              "      <td>0.007843</td>\n",
              "      <td>0.007843</td>\n",
              "      <td>0.007843</td>\n",
              "      <td>0.007843</td>\n",
              "      <td>0.007843</td>\n",
              "      <td>0.007843</td>\n",
              "      <td>0.011765</td>\n",
              "      <td>0.0</td>\n",
              "      <td>0.011765</td>\n",
              "      <td>0.682353</td>\n",
              "      <td>0.741176</td>\n",
              "      <td>0.262745</td>\n",
              "      <td>0.0</td>\n",
              "      <td>0.0</td>\n",
              "      <td>0.0</td>\n",
              "      <td>2</td>\n",
              "      <td>Pullover</td>\n",
              "    </tr>\n",
              "    <tr>\n",
              "      <th>2</th>\n",
              "      <td>0.0</td>\n",
              "      <td>0.0</td>\n",
              "      <td>0.0</td>\n",
              "      <td>0.000000</td>\n",
              "      <td>0.0</td>\n",
              "      <td>0.000000</td>\n",
              "      <td>0.000000</td>\n",
              "      <td>0.0</td>\n",
              "      <td>0.003922</td>\n",
              "      <td>0.000000</td>\n",
              "      <td>0.262745</td>\n",
              "      <td>0.694118</td>\n",
              "      <td>0.505882</td>\n",
              "      <td>0.600000</td>\n",
              "      <td>0.458824</td>\n",
              "      <td>0.505882</td>\n",
              "      <td>0.572549</td>\n",
              "      <td>0.552941</td>\n",
              "      <td>0.686275</td>\n",
              "      <td>0.000000</td>\n",
              "      <td>0.0</td>\n",
              "      <td>0.0</td>\n",
              "      <td>0.0</td>\n",
              "      <td>0.0</td>\n",
              "      <td>0.0</td>\n",
              "      <td>0.0</td>\n",
              "      <td>0.0</td>\n",
              "      <td>0.0</td>\n",
              "      <td>0.0</td>\n",
              "      <td>0.0</td>\n",
              "      <td>0.0</td>\n",
              "      <td>0.000000</td>\n",
              "      <td>0.000000</td>\n",
              "      <td>0.000000</td>\n",
              "      <td>0.0</td>\n",
              "      <td>0.000000</td>\n",
              "      <td>0.007843</td>\n",
              "      <td>0.000000</td>\n",
              "      <td>0.768627</td>\n",
              "      <td>1.000000</td>\n",
              "      <td>...</td>\n",
              "      <td>0.988235</td>\n",
              "      <td>0.466667</td>\n",
              "      <td>0.000000</td>\n",
              "      <td>0.000000</td>\n",
              "      <td>0.000000</td>\n",
              "      <td>0.0</td>\n",
              "      <td>0.000000</td>\n",
              "      <td>0.0</td>\n",
              "      <td>0.0</td>\n",
              "      <td>0.0</td>\n",
              "      <td>0.0</td>\n",
              "      <td>0.0</td>\n",
              "      <td>0.0</td>\n",
              "      <td>0.0</td>\n",
              "      <td>0.000000</td>\n",
              "      <td>0.000000</td>\n",
              "      <td>0.000000</td>\n",
              "      <td>0.000000</td>\n",
              "      <td>0.0</td>\n",
              "      <td>0.000000</td>\n",
              "      <td>0.000000</td>\n",
              "      <td>0.384314</td>\n",
              "      <td>0.623529</td>\n",
              "      <td>0.278431</td>\n",
              "      <td>0.000000</td>\n",
              "      <td>0.000000</td>\n",
              "      <td>0.266667</td>\n",
              "      <td>0.690196</td>\n",
              "      <td>0.643137</td>\n",
              "      <td>0.227451</td>\n",
              "      <td>0.0</td>\n",
              "      <td>0.000000</td>\n",
              "      <td>0.000000</td>\n",
              "      <td>0.000000</td>\n",
              "      <td>0.000000</td>\n",
              "      <td>0.0</td>\n",
              "      <td>0.0</td>\n",
              "      <td>0.0</td>\n",
              "      <td>1</td>\n",
              "      <td>Trouser</td>\n",
              "    </tr>\n",
              "    <tr>\n",
              "      <th>3</th>\n",
              "      <td>0.0</td>\n",
              "      <td>0.0</td>\n",
              "      <td>0.0</td>\n",
              "      <td>0.000000</td>\n",
              "      <td>0.0</td>\n",
              "      <td>0.000000</td>\n",
              "      <td>0.000000</td>\n",
              "      <td>0.0</td>\n",
              "      <td>0.000000</td>\n",
              "      <td>0.082353</td>\n",
              "      <td>0.482353</td>\n",
              "      <td>0.423529</td>\n",
              "      <td>0.388235</td>\n",
              "      <td>0.388235</td>\n",
              "      <td>0.329412</td>\n",
              "      <td>0.325490</td>\n",
              "      <td>0.337255</td>\n",
              "      <td>0.360784</td>\n",
              "      <td>0.274510</td>\n",
              "      <td>0.023529</td>\n",
              "      <td>0.0</td>\n",
              "      <td>0.0</td>\n",
              "      <td>0.0</td>\n",
              "      <td>0.0</td>\n",
              "      <td>0.0</td>\n",
              "      <td>0.0</td>\n",
              "      <td>0.0</td>\n",
              "      <td>0.0</td>\n",
              "      <td>0.0</td>\n",
              "      <td>0.0</td>\n",
              "      <td>0.0</td>\n",
              "      <td>0.000000</td>\n",
              "      <td>0.000000</td>\n",
              "      <td>0.000000</td>\n",
              "      <td>0.0</td>\n",
              "      <td>0.000000</td>\n",
              "      <td>0.000000</td>\n",
              "      <td>0.415686</td>\n",
              "      <td>0.972549</td>\n",
              "      <td>0.901961</td>\n",
              "      <td>...</td>\n",
              "      <td>0.180392</td>\n",
              "      <td>0.000000</td>\n",
              "      <td>0.000000</td>\n",
              "      <td>0.000000</td>\n",
              "      <td>0.000000</td>\n",
              "      <td>0.0</td>\n",
              "      <td>0.000000</td>\n",
              "      <td>0.0</td>\n",
              "      <td>0.0</td>\n",
              "      <td>0.0</td>\n",
              "      <td>0.0</td>\n",
              "      <td>0.0</td>\n",
              "      <td>0.0</td>\n",
              "      <td>0.0</td>\n",
              "      <td>0.000000</td>\n",
              "      <td>0.000000</td>\n",
              "      <td>0.000000</td>\n",
              "      <td>0.000000</td>\n",
              "      <td>0.0</td>\n",
              "      <td>0.000000</td>\n",
              "      <td>0.078431</td>\n",
              "      <td>0.682353</td>\n",
              "      <td>0.396078</td>\n",
              "      <td>0.000000</td>\n",
              "      <td>0.000000</td>\n",
              "      <td>0.000000</td>\n",
              "      <td>0.572549</td>\n",
              "      <td>0.572549</td>\n",
              "      <td>0.003922</td>\n",
              "      <td>0.000000</td>\n",
              "      <td>0.0</td>\n",
              "      <td>0.000000</td>\n",
              "      <td>0.000000</td>\n",
              "      <td>0.000000</td>\n",
              "      <td>0.000000</td>\n",
              "      <td>0.0</td>\n",
              "      <td>0.0</td>\n",
              "      <td>0.0</td>\n",
              "      <td>1</td>\n",
              "      <td>Trouser</td>\n",
              "    </tr>\n",
              "    <tr>\n",
              "      <th>4</th>\n",
              "      <td>0.0</td>\n",
              "      <td>0.0</td>\n",
              "      <td>0.0</td>\n",
              "      <td>0.007843</td>\n",
              "      <td>0.0</td>\n",
              "      <td>0.003922</td>\n",
              "      <td>0.003922</td>\n",
              "      <td>0.0</td>\n",
              "      <td>0.000000</td>\n",
              "      <td>0.000000</td>\n",
              "      <td>0.000000</td>\n",
              "      <td>0.223529</td>\n",
              "      <td>0.262745</td>\n",
              "      <td>0.286275</td>\n",
              "      <td>0.298039</td>\n",
              "      <td>0.298039</td>\n",
              "      <td>0.325490</td>\n",
              "      <td>0.243137</td>\n",
              "      <td>0.000000</td>\n",
              "      <td>0.000000</td>\n",
              "      <td>0.0</td>\n",
              "      <td>0.0</td>\n",
              "      <td>0.0</td>\n",
              "      <td>0.0</td>\n",
              "      <td>0.0</td>\n",
              "      <td>0.0</td>\n",
              "      <td>0.0</td>\n",
              "      <td>0.0</td>\n",
              "      <td>0.0</td>\n",
              "      <td>0.0</td>\n",
              "      <td>0.0</td>\n",
              "      <td>0.003922</td>\n",
              "      <td>0.003922</td>\n",
              "      <td>0.003922</td>\n",
              "      <td>0.0</td>\n",
              "      <td>0.000000</td>\n",
              "      <td>0.050980</td>\n",
              "      <td>0.309804</td>\n",
              "      <td>0.501961</td>\n",
              "      <td>0.788235</td>\n",
              "      <td>...</td>\n",
              "      <td>0.772549</td>\n",
              "      <td>0.713725</td>\n",
              "      <td>0.635294</td>\n",
              "      <td>0.239216</td>\n",
              "      <td>0.000000</td>\n",
              "      <td>0.0</td>\n",
              "      <td>0.000000</td>\n",
              "      <td>0.0</td>\n",
              "      <td>0.0</td>\n",
              "      <td>0.0</td>\n",
              "      <td>0.0</td>\n",
              "      <td>0.0</td>\n",
              "      <td>0.0</td>\n",
              "      <td>0.0</td>\n",
              "      <td>0.000000</td>\n",
              "      <td>0.000000</td>\n",
              "      <td>0.000000</td>\n",
              "      <td>0.000000</td>\n",
              "      <td>0.0</td>\n",
              "      <td>0.000000</td>\n",
              "      <td>0.117647</td>\n",
              "      <td>0.282353</td>\n",
              "      <td>0.372549</td>\n",
              "      <td>0.427451</td>\n",
              "      <td>0.435294</td>\n",
              "      <td>0.435294</td>\n",
              "      <td>0.415686</td>\n",
              "      <td>0.396078</td>\n",
              "      <td>0.278431</td>\n",
              "      <td>0.047059</td>\n",
              "      <td>0.0</td>\n",
              "      <td>0.000000</td>\n",
              "      <td>0.000000</td>\n",
              "      <td>0.000000</td>\n",
              "      <td>0.000000</td>\n",
              "      <td>0.0</td>\n",
              "      <td>0.0</td>\n",
              "      <td>0.0</td>\n",
              "      <td>6</td>\n",
              "      <td>Shirt</td>\n",
              "    </tr>\n",
              "  </tbody>\n",
              "</table>\n",
              "<p>5 rows × 786 columns</p>\n",
              "</div>"
            ],
            "text/plain": [
              "    z0   z1   z2        z3   z4  ...  z781  z782  z783  label       class\n",
              "0  0.0  0.0  0.0  0.000000  0.0  ...   0.0   0.0   0.0      9  Ankle boot\n",
              "1  0.0  0.0  0.0  0.000000  0.0  ...   0.0   0.0   0.0      2    Pullover\n",
              "2  0.0  0.0  0.0  0.000000  0.0  ...   0.0   0.0   0.0      1     Trouser\n",
              "3  0.0  0.0  0.0  0.000000  0.0  ...   0.0   0.0   0.0      1     Trouser\n",
              "4  0.0  0.0  0.0  0.007843  0.0  ...   0.0   0.0   0.0      6       Shirt\n",
              "\n",
              "[5 rows x 786 columns]"
            ]
          },
          "execution_count": 16,
          "metadata": {
            "tags": []
          },
          "output_type": "execute_result"
        }
      ],
      "source": [
        "# Add test data into a dataframe\n",
        "img_data = {f\"z{i}\":test_images[:,i] for i in range(784)}\n",
        "img_data[\"label\"] = test_labels\n",
        "df_img_test = pd.DataFrame(img_data)\n",
        "df_img_test[\"class\"] = df_img_test[\"label\"].map(class_dict)\n",
        "df_img_test.head()"
      ]
    },
    {
      "cell_type": "markdown",
      "metadata": {
        "colab_type": "text",
        "id": "vSxMPe7n-BRD"
      },
      "source": [
        "Now we have our data reshaped into the $784D$ vectors, we can classify the images using a feed forward artifical neural network.\n",
        "\n"
      ]
    },
    {
      "cell_type": "markdown",
      "metadata": {
        "colab_type": "text",
        "id": "Vv36QfGvgkTQ"
      },
      "source": [
        "## Question 2: Neural Network\n",
        "In this question we will build different neural network models. \n",
        "\n",
        "### Question 2.1) Pullovers vs. Coats. \n",
        "\n",
        "Build a neural network to your liking and train it for 50 epochs with a 0.2 train/validation split. You will want to use binary cross entropy (\"bce\") loss as the loss function. See if you can tune your model to achieve 70% accuracy."
      ]
    },
    {
      "cell_type": "code",
      "execution_count": 17,
      "metadata": {
        "colab": {},
        "colab_type": "code",
        "id": "7EXXqZmah9ms",
        "vscode": {
          "languageId": "python"
        }
      },
      "outputs": [],
      "source": [
        "from tensorflow.keras.layers import Input, Dense # Only use these layers\n",
        "from tensorflow.keras.models import Model, Sequential\n",
        "from tensorflow.keras.optimizers import * # You can use any optimizer\n",
        "from tensorflow.keras import regularizers\n",
        "\n",
        "# Defining model here\n",
        "model = Sequential() \n",
        "model.add(Dense(units=16, input_dim=784, activation='relu', kernel_regularizer=regularizers.l1(0.00608)))\n",
        "model.add(Dense(units=8, activation='relu', kernel_regularizer=regularizers.l1(0.00608)))\n",
        "model.add(Dense(units=8, activation='relu', kernel_regularizer=regularizers.l1(0.00608)))\n",
        "model.add(Dense(units=1, activation='sigmoid'))"
      ]
    },
    {
      "cell_type": "code",
      "execution_count": 18,
      "metadata": {
        "colab": {
          "base_uri": "https://localhost:8080/",
          "height": 316
        },
        "colab_type": "code",
        "id": "Fyf3VAHEiFXy",
        "outputId": "4b99f61c-2f09-4555-91ef-16aaa5639227",
        "vscode": {
          "languageId": "python"
        }
      },
      "outputs": [
        {
          "name": "stdout",
          "output_type": "stream",
          "text": [
            "Model: \"sequential\"\n",
            "_________________________________________________________________\n",
            "Layer (type)                 Output Shape              Param #   \n",
            "=================================================================\n",
            "dense (Dense)                (None, 16)                12560     \n",
            "_________________________________________________________________\n",
            "dense_1 (Dense)              (None, 8)                 136       \n",
            "_________________________________________________________________\n",
            "dense_2 (Dense)              (None, 8)                 72        \n",
            "_________________________________________________________________\n",
            "dense_3 (Dense)              (None, 1)                 9         \n",
            "=================================================================\n",
            "Total params: 12,777\n",
            "Trainable params: 12,777\n",
            "Non-trainable params: 0\n",
            "_________________________________________________________________\n"
          ]
        }
      ],
      "source": [
        "# Show a summary of your model\n",
        "model.summary()"
      ]
    },
    {
      "cell_type": "code",
      "execution_count": 19,
      "metadata": {
        "colab": {},
        "colab_type": "code",
        "id": "Xd4FEmAzhBWm",
        "vscode": {
          "languageId": "python"
        }
      },
      "outputs": [],
      "source": [
        "# A function for getting a subset of the data\n",
        "def get_data_subset(df, classes=[], shuffle=True, shuffle_seed=42):\n",
        "    \"\"\"\n",
        "    Used to retrieve columns from df\n",
        "    \"\"\"\n",
        "    if classes == []:\n",
        "        print(\"Pleas\")\n",
        "    else:\n",
        "        df_filtered = df[(df[\"class\"] == classes[0]) | (df[\"class\"] == classes[1])].copy()\n",
        "        df_filtered[\"binary_label\"] = 0\n",
        "        df_filtered.loc[df[\"class\"] == classes[1], \"binary_label\"] = 1\n",
        "        data = df_filtered.filter(regex=(\"z[0-9]+\")).values\n",
        "        labels = df_filtered[\"binary_label\"].values\n",
        "        if shuffle:\n",
        "            np.random.seed(shuffle_seed)\n",
        "            np.random.shuffle(data)\n",
        "            np.random.seed(shuffle_seed)\n",
        "            np.random.shuffle(labels)\n",
        "\n",
        "    return data, labels.reshape(-1,1)"
      ]
    },
    {
      "cell_type": "code",
      "execution_count": 20,
      "metadata": {
        "colab": {},
        "colab_type": "code",
        "id": "NqPfiJkZiHjr",
        "vscode": {
          "languageId": "python"
        }
      },
      "outputs": [],
      "source": [
        "# Preparing data for training, use get_data_subset along with df_img_train\n",
        "X, y = get_data_subset(df_img_train, classes = [\"Coat\", \"Pullover\"])"
      ]
    },
    {
      "cell_type": "code",
      "execution_count": 21,
      "metadata": {
        "colab": {},
        "colab_type": "code",
        "id": "vd5TyTGUiJU7",
        "vscode": {
          "languageId": "python"
        }
      },
      "outputs": [],
      "source": [
        "# Compile your model with your chosen optimizer, binary cross entropy for the loss, and accuracy as the metric\n",
        "adam = Adam(learning_rate=0.00205)\n",
        "model.compile(optimizer=adam, loss='bce', metrics=['accuracy'])"
      ]
    },
    {
      "cell_type": "code",
      "execution_count": 22,
      "metadata": {
        "colab": {
          "base_uri": "https://localhost:8080/",
          "height": 1000
        },
        "colab_type": "code",
        "id": "9jD9zSj_ifjq",
        "outputId": "e55475b6-d9f8-405b-f47d-ee65d2e8a0bd",
        "vscode": {
          "languageId": "python"
        }
      },
      "outputs": [
        {
          "name": "stdout",
          "output_type": "stream",
          "text": [
            "Epoch 1/50\n",
            "240/240 [==============================] - 1s 3ms/step - loss: 1.0935 - accuracy: 0.7912 - val_loss: 0.6350 - val_accuracy: 0.8167\n",
            "Epoch 2/50\n",
            "240/240 [==============================] - 1s 3ms/step - loss: 0.6054 - accuracy: 0.8268 - val_loss: 0.6535 - val_accuracy: 0.7937\n",
            "Epoch 3/50\n",
            "240/240 [==============================] - 1s 3ms/step - loss: 0.5613 - accuracy: 0.8321 - val_loss: 0.5661 - val_accuracy: 0.8263\n",
            "Epoch 4/50\n",
            "240/240 [==============================] - 1s 3ms/step - loss: 0.5183 - accuracy: 0.8443 - val_loss: 0.5333 - val_accuracy: 0.8346\n",
            "Epoch 5/50\n",
            "240/240 [==============================] - 1s 3ms/step - loss: 0.5204 - accuracy: 0.8439 - val_loss: 0.5199 - val_accuracy: 0.8354\n",
            "Epoch 6/50\n",
            "240/240 [==============================] - 1s 3ms/step - loss: 0.5003 - accuracy: 0.8505 - val_loss: 0.4850 - val_accuracy: 0.8529\n",
            "Epoch 7/50\n",
            "240/240 [==============================] - 1s 3ms/step - loss: 0.4901 - accuracy: 0.8523 - val_loss: 0.4801 - val_accuracy: 0.8567\n",
            "Epoch 8/50\n",
            "240/240 [==============================] - 1s 3ms/step - loss: 0.4822 - accuracy: 0.8547 - val_loss: 0.5169 - val_accuracy: 0.8354\n",
            "Epoch 9/50\n",
            "240/240 [==============================] - 1s 3ms/step - loss: 0.4830 - accuracy: 0.8500 - val_loss: 0.4741 - val_accuracy: 0.8554\n",
            "Epoch 10/50\n",
            "240/240 [==============================] - 1s 3ms/step - loss: 0.4671 - accuracy: 0.8584 - val_loss: 0.4601 - val_accuracy: 0.8646\n",
            "Epoch 11/50\n",
            "240/240 [==============================] - 1s 3ms/step - loss: 0.4608 - accuracy: 0.8568 - val_loss: 0.4556 - val_accuracy: 0.8608\n",
            "Epoch 12/50\n",
            "240/240 [==============================] - 1s 3ms/step - loss: 0.4783 - accuracy: 0.8543 - val_loss: 0.4581 - val_accuracy: 0.8621\n",
            "Epoch 13/50\n",
            "240/240 [==============================] - 1s 3ms/step - loss: 0.4628 - accuracy: 0.8556 - val_loss: 0.4518 - val_accuracy: 0.8600\n",
            "Epoch 14/50\n",
            "240/240 [==============================] - 1s 3ms/step - loss: 0.4719 - accuracy: 0.8502 - val_loss: 0.4589 - val_accuracy: 0.8579\n",
            "Epoch 15/50\n",
            "240/240 [==============================] - 1s 3ms/step - loss: 0.4571 - accuracy: 0.8593 - val_loss: 0.4483 - val_accuracy: 0.8608\n",
            "Epoch 16/50\n",
            "240/240 [==============================] - 1s 3ms/step - loss: 0.4590 - accuracy: 0.8569 - val_loss: 0.4494 - val_accuracy: 0.8608\n",
            "Epoch 17/50\n",
            "240/240 [==============================] - 1s 3ms/step - loss: 0.4485 - accuracy: 0.8596 - val_loss: 0.4617 - val_accuracy: 0.8542\n",
            "Epoch 18/50\n",
            "240/240 [==============================] - 1s 3ms/step - loss: 0.4568 - accuracy: 0.8530 - val_loss: 0.4561 - val_accuracy: 0.8592\n",
            "Epoch 19/50\n",
            "240/240 [==============================] - 1s 3ms/step - loss: 0.4563 - accuracy: 0.8547 - val_loss: 0.4491 - val_accuracy: 0.8617\n",
            "Epoch 20/50\n",
            "240/240 [==============================] - 1s 3ms/step - loss: 0.4547 - accuracy: 0.8578 - val_loss: 0.4492 - val_accuracy: 0.8633\n",
            "Epoch 21/50\n",
            "240/240 [==============================] - 1s 3ms/step - loss: 0.4594 - accuracy: 0.8580 - val_loss: 0.4426 - val_accuracy: 0.8662\n",
            "Epoch 22/50\n",
            "240/240 [==============================] - 1s 3ms/step - loss: 0.4467 - accuracy: 0.8621 - val_loss: 0.4617 - val_accuracy: 0.8525\n",
            "Epoch 23/50\n",
            "240/240 [==============================] - 1s 3ms/step - loss: 0.4560 - accuracy: 0.8533 - val_loss: 0.4411 - val_accuracy: 0.8671\n",
            "Epoch 24/50\n",
            "240/240 [==============================] - 1s 3ms/step - loss: 0.4496 - accuracy: 0.8590 - val_loss: 0.4585 - val_accuracy: 0.8504\n",
            "Epoch 25/50\n",
            "240/240 [==============================] - 1s 3ms/step - loss: 0.4425 - accuracy: 0.8631 - val_loss: 0.4587 - val_accuracy: 0.8525\n",
            "Epoch 26/50\n",
            "240/240 [==============================] - 1s 3ms/step - loss: 0.4464 - accuracy: 0.8605 - val_loss: 0.4532 - val_accuracy: 0.8592\n",
            "Epoch 27/50\n",
            "240/240 [==============================] - 1s 3ms/step - loss: 0.4534 - accuracy: 0.8545 - val_loss: 0.4748 - val_accuracy: 0.8413\n",
            "Epoch 28/50\n",
            "240/240 [==============================] - 1s 3ms/step - loss: 0.4520 - accuracy: 0.8546 - val_loss: 0.4405 - val_accuracy: 0.8646\n",
            "Epoch 29/50\n",
            "240/240 [==============================] - 1s 3ms/step - loss: 0.4429 - accuracy: 0.8621 - val_loss: 0.4409 - val_accuracy: 0.8629\n",
            "Epoch 30/50\n",
            "240/240 [==============================] - 1s 3ms/step - loss: 0.4451 - accuracy: 0.8604 - val_loss: 0.4516 - val_accuracy: 0.8583\n",
            "Epoch 31/50\n",
            "240/240 [==============================] - 1s 3ms/step - loss: 0.4513 - accuracy: 0.8570 - val_loss: 0.4834 - val_accuracy: 0.8379\n",
            "Epoch 32/50\n",
            "240/240 [==============================] - 1s 3ms/step - loss: 0.4346 - accuracy: 0.8628 - val_loss: 0.4328 - val_accuracy: 0.8662\n",
            "Epoch 33/50\n",
            "240/240 [==============================] - 1s 3ms/step - loss: 0.4555 - accuracy: 0.8545 - val_loss: 0.5213 - val_accuracy: 0.8188\n",
            "Epoch 34/50\n",
            "240/240 [==============================] - 1s 3ms/step - loss: 0.4509 - accuracy: 0.8540 - val_loss: 0.4535 - val_accuracy: 0.8583\n",
            "Epoch 35/50\n",
            "240/240 [==============================] - 1s 3ms/step - loss: 0.4402 - accuracy: 0.8618 - val_loss: 0.4358 - val_accuracy: 0.8637\n",
            "Epoch 36/50\n",
            "240/240 [==============================] - 1s 3ms/step - loss: 0.4399 - accuracy: 0.8580 - val_loss: 0.5324 - val_accuracy: 0.7979\n",
            "Epoch 37/50\n",
            "240/240 [==============================] - 1s 3ms/step - loss: 0.4334 - accuracy: 0.8623 - val_loss: 0.4388 - val_accuracy: 0.8646\n",
            "Epoch 38/50\n",
            "240/240 [==============================] - 1s 3ms/step - loss: 0.4347 - accuracy: 0.8614 - val_loss: 0.4408 - val_accuracy: 0.8642\n",
            "Epoch 39/50\n",
            "240/240 [==============================] - 1s 3ms/step - loss: 0.4415 - accuracy: 0.8592 - val_loss: 0.4446 - val_accuracy: 0.8608\n",
            "Epoch 40/50\n",
            "240/240 [==============================] - 1s 3ms/step - loss: 0.4397 - accuracy: 0.8615 - val_loss: 0.4884 - val_accuracy: 0.8321\n",
            "Epoch 41/50\n",
            "240/240 [==============================] - 1s 3ms/step - loss: 0.4307 - accuracy: 0.8621 - val_loss: 0.4250 - val_accuracy: 0.8633\n",
            "Epoch 42/50\n",
            "240/240 [==============================] - 1s 3ms/step - loss: 0.4347 - accuracy: 0.8586 - val_loss: 0.4393 - val_accuracy: 0.8617\n",
            "Epoch 43/50\n",
            "240/240 [==============================] - 1s 3ms/step - loss: 0.4293 - accuracy: 0.8598 - val_loss: 0.4222 - val_accuracy: 0.8679\n",
            "Epoch 44/50\n",
            "240/240 [==============================] - 1s 3ms/step - loss: 0.4386 - accuracy: 0.8598 - val_loss: 0.4296 - val_accuracy: 0.8617\n",
            "Epoch 45/50\n",
            "240/240 [==============================] - 1s 3ms/step - loss: 0.4272 - accuracy: 0.8602 - val_loss: 0.4301 - val_accuracy: 0.8667\n",
            "Epoch 46/50\n",
            "240/240 [==============================] - 1s 3ms/step - loss: 0.4454 - accuracy: 0.8524 - val_loss: 0.4489 - val_accuracy: 0.8525\n",
            "Epoch 47/50\n",
            "240/240 [==============================] - 1s 3ms/step - loss: 0.4274 - accuracy: 0.8609 - val_loss: 0.4336 - val_accuracy: 0.8621\n",
            "Epoch 48/50\n",
            "240/240 [==============================] - 1s 3ms/step - loss: 0.4260 - accuracy: 0.8595 - val_loss: 0.4453 - val_accuracy: 0.8525\n",
            "Epoch 49/50\n",
            "240/240 [==============================] - 1s 3ms/step - loss: 0.4316 - accuracy: 0.8620 - val_loss: 0.4303 - val_accuracy: 0.8650\n",
            "Epoch 50/50\n",
            "240/240 [==============================] - 1s 3ms/step - loss: 0.4333 - accuracy: 0.8619 - val_loss: 0.4257 - val_accuracy: 0.8662\n"
          ]
        }
      ],
      "source": [
        "# Call fit on your model passing in the train_images, train_labels data above, train for 50 epochs 0.2 train/validation split\n",
        "hist = model.fit(X, y, batch_size=40, epochs=50, validation_split=0.2)"
      ]
    },
    {
      "cell_type": "code",
      "execution_count": 23,
      "metadata": {
        "colab": {},
        "colab_type": "code",
        "id": "DKqfHYZOjjYM",
        "vscode": {
          "languageId": "python"
        }
      },
      "outputs": [],
      "source": [
        "def plot_losses(hist):\n",
        "    plt.plot(hist.history['loss'])\n",
        "    plt.plot(hist.history['val_loss'])\n",
        "    plt.title('Model Loss')\n",
        "    plt.ylabel('Loss')\n",
        "    plt.xlabel('Epoch')\n",
        "    plt.legend(['Train', 'Val'])\n",
        "    plt.show()\n",
        "def plot_accuracies(hist):\n",
        "    plt.plot(hist.history['accuracy'])\n",
        "    plt.plot(hist.history['val_accuracy'])\n",
        "    plt.title('Model Accuracy')\n",
        "    plt.ylabel('Accuracy')\n",
        "    plt.xlabel('Epoch')\n",
        "    plt.legend(['Train', 'Val'])\n",
        "    plt.show()"
      ]
    },
    {
      "cell_type": "code",
      "execution_count": 24,
      "metadata": {
        "colab": {
          "base_uri": "https://localhost:8080/",
          "height": 573
        },
        "colab_type": "code",
        "id": "txkzNQ07jjYR",
        "outputId": "f3c17474-d9e4-4787-f7d6-8744434d3cac",
        "vscode": {
          "languageId": "python"
        }
      },
      "outputs": [
        {
          "data": {
            "image/png": "[encoded data removed]",
            "text/plain": [
              "<Figure size 432x288 with 1 Axes>"
            ]
          },
          "metadata": {
            "needs_background": "light",
            "tags": []
          },
          "output_type": "display_data"
        },
        {
          "data": {
            "image/png": "[encoded data removed]",
            "text/plain": [
              "<Figure size 432x288 with 1 Axes>"
            ]
          },
          "metadata": {
            "needs_background": "light",
            "tags": []
          },
          "output_type": "display_data"
        }
      ],
      "source": [
        "# Plot your losses and accuracies\n",
        "plot_losses(hist)\n",
        "plot_accuracies(hist)"
      ]
    },
    {
      "cell_type": "markdown",
      "metadata": {
        "colab_type": "text",
        "id": "WktCDSpCjcsO"
      },
      "source": [
        "### Question 2.2) Observation\n",
        "How did your neural network perform? What hyperparameters and optimizer did you choose?"
      ]
    },
    {
      "attachments": {},
      "cell_type": "markdown",
      "metadata": {
        "colab_type": "text",
        "id": "HNnkjhAijcsS"
      },
      "source": [
        "My NN performed with 80+% accuracy. After a lot of fine tuning, I managed to minimize my overfitting issue while still netting good accuracy. \\\n",
        "By general observation of the produced loss vs epoch, and accuracy vs epoch graphs, the overfitting issue was lessened. \\\n",
        "I believe, the reason for 'sharpness' in the validation set, is because it is a small dataset. \\\n",
        "Generally, there is a good fit loss function produced, to the best of my ability, after spending upwards on 6+ hours on developing the right model. $$ \\\\ $$\n",
        "My model's hyperparameters: $$ \\\\ $$\n",
        "1 input layer - of 16 neurons, 2 Hidden layers - of 8 neurons each, and\n",
        "1 output layer - of 1 neuron. \\\n",
        "'relu' activation for input and 2 hidden layers, and 'sigmoid' for the output. To minimize overfitting, the first 3 layers, have L1-norm regularizers set at 0.00609. \\\n",
        "Total trainable parameters are 12,777. The optimizer used is Adam with learning rate set at 0.00205 (selected by testing), and selected loss function of binary cross entropy. \\\n",
        "There is a modified batch size per gradient update of 40.  $$ \\\\ $$\n"
      ]
    },
    {
      "cell_type": "markdown",
      "metadata": {
        "colab_type": "text",
        "id": "tCUyOXpIKOys"
      },
      "source": [
        "### Question 2.3) Multi-class Neural Network"
      ]
    },
    {
      "attachments": {},
      "cell_type": "markdown",
      "metadata": {
        "colab_type": "text",
        "id": "exBaTpbhWF2d"
      },
      "source": [
        "Next, we will build a neural network toimplement a multi-class classification. \\\n",
        "Remember that your input size is (784,) and the output layer needs 10 nodes (also remember that there is a certain activation function that needs to be encorporated with the output layer). \\\n",
        "See if your model can get about 70% classification accuracy."
      ]
    },
    {
      "cell_type": "code",
      "execution_count": 25,
      "metadata": {
        "colab": {},
        "colab_type": "code",
        "id": "fz_g2Qm6DTgJ",
        "vscode": {
          "languageId": "python"
        }
      },
      "outputs": [],
      "source": [
        "from tensorflow.keras.layers import Input, Dense # Only use these layers\n",
        "from tensorflow.keras.models import Model, Sequential\n",
        "from tensorflow.keras.optimizers import * # You can use any optimizer\n",
        "from tensorflow.keras import regularizers\n",
        "\n",
        "# Defining model here\n",
        "model1 = Sequential()\n",
        "model1.add(Dense(units=128, input_dim=784, activation='relu', kernel_regularizer=regularizers.l1(0.002)))\n",
        "model1.add(Dense(units=128, activation='relu', kernel_regularizer=regularizers.l1(0.002)))\n",
        "model1.add(Dense(units=64, activation='relu', kernel_regularizer=regularizers.l1(0.002)))\n",
        "model1.add(Dense(units=64, activation='relu', kernel_regularizer=regularizers.l1(0.002)))\n",
        "model1.add(Dense(units=32, activation='relu', kernel_regularizer=regularizers.l1(0.002)))\n",
        "model1.add(Dense(units=10, activation='softmax'))"
      ]
    },
    {
      "cell_type": "code",
      "execution_count": 26,
      "metadata": {
        "colab": {
          "base_uri": "https://localhost:8080/",
          "height": 73
        },
        "colab_type": "code",
        "id": "SZdkvRlMAghZ",
        "outputId": "163c77f4-8e92-4137-cc51-51fe36b641ca",
        "vscode": {
          "languageId": "python"
        }
      },
      "outputs": [
        {
          "name": "stdout",
          "output_type": "stream",
          "text": [
            "(60000, 784)\n",
            "(60000,)\n",
            "[9 0 0 ... 3 0 5]\n"
          ]
        }
      ],
      "source": [
        "print(train_images.shape)\n",
        "print(train_labels.shape)\n",
        "print(train_labels)"
      ]
    },
    {
      "cell_type": "code",
      "execution_count": 27,
      "metadata": {
        "colab": {
          "base_uri": "https://localhost:8080/",
          "height": 391
        },
        "colab_type": "code",
        "id": "6HU26g16DxVG",
        "outputId": "221470be-e019-421f-8377-faa98d5208db",
        "vscode": {
          "languageId": "python"
        }
      },
      "outputs": [
        {
          "name": "stdout",
          "output_type": "stream",
          "text": [
            "Model: \"sequential_1\"\n",
            "_________________________________________________________________\n",
            "Layer (type)                 Output Shape              Param #   \n",
            "=================================================================\n",
            "dense_4 (Dense)              (None, 128)               100480    \n",
            "_________________________________________________________________\n",
            "dense_5 (Dense)              (None, 128)               16512     \n",
            "_________________________________________________________________\n",
            "dense_6 (Dense)              (None, 64)                8256      \n",
            "_________________________________________________________________\n",
            "dense_7 (Dense)              (None, 64)                4160      \n",
            "_________________________________________________________________\n",
            "dense_8 (Dense)              (None, 32)                2080      \n",
            "_________________________________________________________________\n",
            "dense_9 (Dense)              (None, 10)                330       \n",
            "=================================================================\n",
            "Total params: 131,818\n",
            "Trainable params: 131,818\n",
            "Non-trainable params: 0\n",
            "_________________________________________________________________\n"
          ]
        }
      ],
      "source": [
        "# Show a summary of your model\n",
        "model1.summary()"
      ]
    },
    {
      "cell_type": "code",
      "execution_count": 28,
      "metadata": {
        "colab": {},
        "colab_type": "code",
        "id": "JDygMwK8JklW",
        "vscode": {
          "languageId": "python"
        }
      },
      "outputs": [],
      "source": [
        "# Compile your model with your chosen optimizer, binary cross entropy for the loss, and accuracy as the metric\n",
        "adam = Adam(learning_rate=0.0015)\n",
        "model1.compile(optimizer=adam, loss='sparse_categorical_crossentropy', metrics=['accuracy'])"
      ]
    },
    {
      "cell_type": "code",
      "execution_count": 29,
      "metadata": {
        "colab": {
          "base_uri": "https://localhost:8080/",
          "height": 1000
        },
        "colab_type": "code",
        "id": "kG9WFebDHV-k",
        "outputId": "e1b7d486-6ce7-417e-96db-e943fd45522a",
        "vscode": {
          "languageId": "python"
        }
      },
      "outputs": [
        {
          "name": "stdout",
          "output_type": "stream",
          "text": [
            "Epoch 1/100\n",
            "1200/1200 [==============================] - 4s 3ms/step - loss: 2.2235 - accuracy: 0.7171 - val_loss: 1.4971 - val_accuracy: 0.7119\n",
            "Epoch 2/100\n",
            "1200/1200 [==============================] - 4s 3ms/step - loss: 1.1907 - accuracy: 0.7776 - val_loss: 1.0762 - val_accuracy: 0.7896\n",
            "Epoch 3/100\n",
            "1200/1200 [==============================] - 4s 3ms/step - loss: 1.0326 - accuracy: 0.7867 - val_loss: 0.9950 - val_accuracy: 0.7927\n",
            "Epoch 4/100\n",
            "1200/1200 [==============================] - 4s 3ms/step - loss: 0.9678 - accuracy: 0.7909 - val_loss: 0.9451 - val_accuracy: 0.7918\n",
            "Epoch 5/100\n",
            "1200/1200 [==============================] - 4s 3ms/step - loss: 0.9279 - accuracy: 0.7938 - val_loss: 0.9401 - val_accuracy: 0.7731\n",
            "Epoch 6/100\n",
            "1200/1200 [==============================] - 3s 3ms/step - loss: 0.8983 - accuracy: 0.7977 - val_loss: 0.8639 - val_accuracy: 0.8048\n",
            "Epoch 7/100\n",
            "1200/1200 [==============================] - 4s 3ms/step - loss: 0.8800 - accuracy: 0.7992 - val_loss: 0.9234 - val_accuracy: 0.7835\n",
            "Epoch 8/100\n",
            "1200/1200 [==============================] - 4s 3ms/step - loss: 0.8672 - accuracy: 0.8030 - val_loss: 0.8666 - val_accuracy: 0.7948\n",
            "Epoch 9/100\n",
            "1200/1200 [==============================] - 4s 3ms/step - loss: 0.8617 - accuracy: 0.8013 - val_loss: 0.8776 - val_accuracy: 0.7913\n",
            "Epoch 10/100\n",
            "1200/1200 [==============================] - 4s 3ms/step - loss: 0.8535 - accuracy: 0.8012 - val_loss: 0.8387 - val_accuracy: 0.8067\n",
            "Epoch 11/100\n",
            "1200/1200 [==============================] - 4s 3ms/step - loss: 0.8405 - accuracy: 0.8057 - val_loss: 0.8670 - val_accuracy: 0.7947\n",
            "Epoch 12/100\n",
            "1200/1200 [==============================] - 4s 3ms/step - loss: 0.8313 - accuracy: 0.8074 - val_loss: 0.8113 - val_accuracy: 0.8105\n",
            "Epoch 13/100\n",
            "1200/1200 [==============================] - 4s 3ms/step - loss: 0.8245 - accuracy: 0.8070 - val_loss: 0.7926 - val_accuracy: 0.8194\n",
            "Epoch 14/100\n",
            "1200/1200 [==============================] - 4s 3ms/step - loss: 0.8129 - accuracy: 0.8103 - val_loss: 0.8410 - val_accuracy: 0.7999\n",
            "Epoch 15/100\n",
            "1200/1200 [==============================] - 4s 3ms/step - loss: 0.8025 - accuracy: 0.8108 - val_loss: 0.7883 - val_accuracy: 0.8124\n",
            "Epoch 16/100\n",
            "1200/1200 [==============================] - 4s 3ms/step - loss: 0.7959 - accuracy: 0.8096 - val_loss: 0.7752 - val_accuracy: 0.8157\n",
            "Epoch 17/100\n",
            "1200/1200 [==============================] - 4s 3ms/step - loss: 0.7834 - accuracy: 0.8136 - val_loss: 0.8074 - val_accuracy: 0.8079\n",
            "Epoch 18/100\n",
            "1200/1200 [==============================] - 3s 3ms/step - loss: 0.7794 - accuracy: 0.8136 - val_loss: 0.7743 - val_accuracy: 0.8167\n",
            "Epoch 19/100\n",
            "1200/1200 [==============================] - 4s 3ms/step - loss: 0.7779 - accuracy: 0.8139 - val_loss: 0.7538 - val_accuracy: 0.8180\n",
            "Epoch 20/100\n",
            "1200/1200 [==============================] - 3s 3ms/step - loss: 0.7743 - accuracy: 0.8141 - val_loss: 0.7433 - val_accuracy: 0.8237\n",
            "Epoch 21/100\n",
            "1200/1200 [==============================] - 4s 3ms/step - loss: 0.7733 - accuracy: 0.8133 - val_loss: 0.8077 - val_accuracy: 0.7979\n",
            "Epoch 22/100\n",
            "1200/1200 [==============================] - 4s 3ms/step - loss: 0.7743 - accuracy: 0.8133 - val_loss: 0.7372 - val_accuracy: 0.8275\n",
            "Epoch 23/100\n",
            "1200/1200 [==============================] - 4s 3ms/step - loss: 0.7690 - accuracy: 0.8138 - val_loss: 0.7585 - val_accuracy: 0.8131\n",
            "Epoch 24/100\n",
            "1200/1200 [==============================] - 4s 3ms/step - loss: 0.7704 - accuracy: 0.8141 - val_loss: 0.7917 - val_accuracy: 0.8027\n",
            "Epoch 25/100\n",
            "1200/1200 [==============================] - 4s 3ms/step - loss: 0.7647 - accuracy: 0.8143 - val_loss: 0.7766 - val_accuracy: 0.8070\n",
            "Epoch 26/100\n",
            "1200/1200 [==============================] - 3s 3ms/step - loss: 0.7676 - accuracy: 0.8126 - val_loss: 0.7851 - val_accuracy: 0.8011\n",
            "Epoch 27/100\n",
            "1200/1200 [==============================] - 3s 3ms/step - loss: 0.7646 - accuracy: 0.8144 - val_loss: 0.7990 - val_accuracy: 0.7992\n",
            "Epoch 28/100\n",
            "1200/1200 [==============================] - 4s 3ms/step - loss: 0.7642 - accuracy: 0.8161 - val_loss: 0.7453 - val_accuracy: 0.8198\n",
            "Epoch 29/100\n",
            "1200/1200 [==============================] - 4s 3ms/step - loss: 0.7577 - accuracy: 0.8162 - val_loss: 0.7540 - val_accuracy: 0.8197\n",
            "Epoch 30/100\n",
            "1200/1200 [==============================] - 4s 3ms/step - loss: 0.7571 - accuracy: 0.8152 - val_loss: 0.7546 - val_accuracy: 0.8191\n",
            "Epoch 31/100\n",
            "1200/1200 [==============================] - 3s 3ms/step - loss: 0.7561 - accuracy: 0.8164 - val_loss: 0.7820 - val_accuracy: 0.8040\n",
            "Epoch 32/100\n",
            "1200/1200 [==============================] - 4s 3ms/step - loss: 0.7572 - accuracy: 0.8171 - val_loss: 0.7507 - val_accuracy: 0.8148\n",
            "Epoch 33/100\n",
            "1200/1200 [==============================] - 4s 3ms/step - loss: 0.7609 - accuracy: 0.8153 - val_loss: 0.7618 - val_accuracy: 0.8192\n",
            "Epoch 34/100\n",
            "1200/1200 [==============================] - 3s 3ms/step - loss: 0.7556 - accuracy: 0.8162 - val_loss: 0.7713 - val_accuracy: 0.8092\n",
            "Epoch 35/100\n",
            "1200/1200 [==============================] - 4s 3ms/step - loss: 0.7557 - accuracy: 0.8152 - val_loss: 0.7653 - val_accuracy: 0.8161\n",
            "Epoch 36/100\n",
            "1200/1200 [==============================] - 4s 3ms/step - loss: 0.7557 - accuracy: 0.8145 - val_loss: 0.7698 - val_accuracy: 0.8098\n",
            "Epoch 37/100\n",
            "1200/1200 [==============================] - 3s 3ms/step - loss: 0.7519 - accuracy: 0.8158 - val_loss: 0.7453 - val_accuracy: 0.8145\n",
            "Epoch 38/100\n",
            "1200/1200 [==============================] - 4s 3ms/step - loss: 0.7480 - accuracy: 0.8187 - val_loss: 0.7220 - val_accuracy: 0.8261\n",
            "Epoch 39/100\n",
            "1200/1200 [==============================] - 4s 3ms/step - loss: 0.7529 - accuracy: 0.8141 - val_loss: 0.7871 - val_accuracy: 0.8016\n",
            "Epoch 40/100\n",
            "1200/1200 [==============================] - 3s 3ms/step - loss: 0.7448 - accuracy: 0.8176 - val_loss: 0.7566 - val_accuracy: 0.8132\n",
            "Epoch 41/100\n",
            "1200/1200 [==============================] - 3s 3ms/step - loss: 0.7498 - accuracy: 0.8163 - val_loss: 0.7802 - val_accuracy: 0.8027\n",
            "Epoch 42/100\n",
            "1200/1200 [==============================] - 4s 3ms/step - loss: 0.7482 - accuracy: 0.8166 - val_loss: 0.7486 - val_accuracy: 0.8178\n",
            "Epoch 43/100\n",
            "1200/1200 [==============================] - 3s 3ms/step - loss: 0.7451 - accuracy: 0.8176 - val_loss: 0.7349 - val_accuracy: 0.8154\n",
            "Epoch 44/100\n",
            "1200/1200 [==============================] - 3s 3ms/step - loss: 0.7472 - accuracy: 0.8161 - val_loss: 0.7509 - val_accuracy: 0.8155\n",
            "Epoch 45/100\n",
            "1200/1200 [==============================] - 4s 3ms/step - loss: 0.7394 - accuracy: 0.8196 - val_loss: 0.7356 - val_accuracy: 0.8198\n",
            "Epoch 46/100\n",
            "1200/1200 [==============================] - 4s 3ms/step - loss: 0.7451 - accuracy: 0.8166 - val_loss: 0.7691 - val_accuracy: 0.8060\n",
            "Epoch 47/100\n",
            "1200/1200 [==============================] - 4s 3ms/step - loss: 0.7417 - accuracy: 0.8164 - val_loss: 0.7250 - val_accuracy: 0.8218\n",
            "Epoch 48/100\n",
            "1200/1200 [==============================] - 4s 3ms/step - loss: 0.7430 - accuracy: 0.8164 - val_loss: 0.7541 - val_accuracy: 0.8163\n",
            "Epoch 49/100\n",
            "1200/1200 [==============================] - 4s 3ms/step - loss: 0.7401 - accuracy: 0.8192 - val_loss: 0.8525 - val_accuracy: 0.7720\n",
            "Epoch 50/100\n",
            "1200/1200 [==============================] - 3s 3ms/step - loss: 0.7389 - accuracy: 0.8176 - val_loss: 0.7372 - val_accuracy: 0.8171\n",
            "Epoch 51/100\n",
            "1200/1200 [==============================] - 4s 3ms/step - loss: 0.7403 - accuracy: 0.8184 - val_loss: 0.7529 - val_accuracy: 0.8104\n",
            "Epoch 52/100\n",
            "1200/1200 [==============================] - 3s 3ms/step - loss: 0.7370 - accuracy: 0.8195 - val_loss: 0.7116 - val_accuracy: 0.8248\n",
            "Epoch 53/100\n",
            "1200/1200 [==============================] - 3s 3ms/step - loss: 0.7376 - accuracy: 0.8180 - val_loss: 0.7746 - val_accuracy: 0.8006\n",
            "Epoch 54/100\n",
            "1200/1200 [==============================] - 4s 3ms/step - loss: 0.7388 - accuracy: 0.8163 - val_loss: 0.7494 - val_accuracy: 0.8138\n",
            "Epoch 55/100\n",
            "1200/1200 [==============================] - 3s 3ms/step - loss: 0.7403 - accuracy: 0.8163 - val_loss: 0.7693 - val_accuracy: 0.7993\n",
            "Epoch 56/100\n",
            "1200/1200 [==============================] - 3s 3ms/step - loss: 0.7388 - accuracy: 0.8157 - val_loss: 0.7723 - val_accuracy: 0.8000\n",
            "Epoch 57/100\n",
            "1200/1200 [==============================] - 3s 3ms/step - loss: 0.7330 - accuracy: 0.8170 - val_loss: 0.7643 - val_accuracy: 0.8016\n",
            "Epoch 58/100\n",
            "1200/1200 [==============================] - 4s 3ms/step - loss: 0.7368 - accuracy: 0.8170 - val_loss: 0.7431 - val_accuracy: 0.8176\n",
            "Epoch 59/100\n",
            "1200/1200 [==============================] - 3s 3ms/step - loss: 0.7389 - accuracy: 0.8152 - val_loss: 0.8058 - val_accuracy: 0.7834\n",
            "Epoch 60/100\n",
            "1200/1200 [==============================] - 3s 3ms/step - loss: 0.7333 - accuracy: 0.8172 - val_loss: 0.7336 - val_accuracy: 0.8164\n",
            "Epoch 61/100\n",
            "1200/1200 [==============================] - 3s 3ms/step - loss: 0.7334 - accuracy: 0.8180 - val_loss: 0.7208 - val_accuracy: 0.8208\n",
            "Epoch 62/100\n",
            "1200/1200 [==============================] - 4s 3ms/step - loss: 0.7338 - accuracy: 0.8206 - val_loss: 0.7304 - val_accuracy: 0.8208\n",
            "Epoch 63/100\n",
            "1200/1200 [==============================] - 3s 3ms/step - loss: 0.7327 - accuracy: 0.8179 - val_loss: 0.7671 - val_accuracy: 0.8048\n",
            "Epoch 64/100\n",
            "1200/1200 [==============================] - 4s 3ms/step - loss: 0.7335 - accuracy: 0.8178 - val_loss: 0.7382 - val_accuracy: 0.8188\n",
            "Epoch 65/100\n",
            "1200/1200 [==============================] - 3s 3ms/step - loss: 0.7320 - accuracy: 0.8195 - val_loss: 0.7109 - val_accuracy: 0.8268\n",
            "Epoch 66/100\n",
            "1200/1200 [==============================] - 3s 3ms/step - loss: 0.7263 - accuracy: 0.8184 - val_loss: 0.7102 - val_accuracy: 0.8263\n",
            "Epoch 67/100\n",
            "1200/1200 [==============================] - 3s 3ms/step - loss: 0.7302 - accuracy: 0.8194 - val_loss: 0.7141 - val_accuracy: 0.8216\n",
            "Epoch 68/100\n",
            "1200/1200 [==============================] - 3s 3ms/step - loss: 0.7333 - accuracy: 0.8178 - val_loss: 0.7432 - val_accuracy: 0.8119\n",
            "Epoch 69/100\n",
            "1200/1200 [==============================] - 4s 3ms/step - loss: 0.7278 - accuracy: 0.8189 - val_loss: 0.7476 - val_accuracy: 0.8135\n",
            "Epoch 70/100\n",
            "1200/1200 [==============================] - 4s 3ms/step - loss: 0.7334 - accuracy: 0.8173 - val_loss: 0.7476 - val_accuracy: 0.8117\n",
            "Epoch 71/100\n",
            "1200/1200 [==============================] - 3s 3ms/step - loss: 0.7280 - accuracy: 0.8194 - val_loss: 0.7227 - val_accuracy: 0.8202\n",
            "Epoch 72/100\n",
            "1200/1200 [==============================] - 3s 3ms/step - loss: 0.7296 - accuracy: 0.8197 - val_loss: 0.7726 - val_accuracy: 0.8007\n",
            "Epoch 73/100\n",
            "1200/1200 [==============================] - 3s 3ms/step - loss: 0.7292 - accuracy: 0.8189 - val_loss: 0.7061 - val_accuracy: 0.8256\n",
            "Epoch 74/100\n",
            "1200/1200 [==============================] - 3s 3ms/step - loss: 0.7294 - accuracy: 0.8177 - val_loss: 0.7073 - val_accuracy: 0.8242\n",
            "Epoch 75/100\n",
            "1200/1200 [==============================] - 4s 3ms/step - loss: 0.7275 - accuracy: 0.8202 - val_loss: 0.7744 - val_accuracy: 0.7977\n",
            "Epoch 76/100\n",
            "1200/1200 [==============================] - 4s 3ms/step - loss: 0.7249 - accuracy: 0.8200 - val_loss: 0.7432 - val_accuracy: 0.8072\n",
            "Epoch 77/100\n",
            "1200/1200 [==============================] - 4s 3ms/step - loss: 0.7238 - accuracy: 0.8196 - val_loss: 0.7088 - val_accuracy: 0.8238\n",
            "Epoch 78/100\n",
            "1200/1200 [==============================] - 4s 3ms/step - loss: 0.7296 - accuracy: 0.8187 - val_loss: 0.7066 - val_accuracy: 0.8231\n",
            "Epoch 79/100\n",
            "1200/1200 [==============================] - 3s 3ms/step - loss: 0.7270 - accuracy: 0.8195 - val_loss: 0.7237 - val_accuracy: 0.8209\n",
            "Epoch 80/100\n",
            "1200/1200 [==============================] - 4s 3ms/step - loss: 0.7263 - accuracy: 0.8192 - val_loss: 0.7016 - val_accuracy: 0.8265\n",
            "Epoch 81/100\n",
            "1200/1200 [==============================] - 3s 3ms/step - loss: 0.7256 - accuracy: 0.8187 - val_loss: 0.6984 - val_accuracy: 0.8262\n",
            "Epoch 82/100\n",
            "1200/1200 [==============================] - 4s 3ms/step - loss: 0.7239 - accuracy: 0.8197 - val_loss: 0.7335 - val_accuracy: 0.8153\n",
            "Epoch 83/100\n",
            "1200/1200 [==============================] - 3s 3ms/step - loss: 0.7252 - accuracy: 0.8182 - val_loss: 0.7455 - val_accuracy: 0.8124\n",
            "Epoch 84/100\n",
            "1200/1200 [==============================] - 4s 3ms/step - loss: 0.7273 - accuracy: 0.8195 - val_loss: 0.7153 - val_accuracy: 0.8184\n",
            "Epoch 85/100\n",
            "1200/1200 [==============================] - 3s 3ms/step - loss: 0.7251 - accuracy: 0.8177 - val_loss: 0.7113 - val_accuracy: 0.8238\n",
            "Epoch 86/100\n",
            "1200/1200 [==============================] - 3s 3ms/step - loss: 0.7280 - accuracy: 0.8165 - val_loss: 0.7186 - val_accuracy: 0.8205\n",
            "Epoch 87/100\n",
            "1200/1200 [==============================] - 3s 3ms/step - loss: 0.7233 - accuracy: 0.8193 - val_loss: 0.7199 - val_accuracy: 0.8184\n",
            "Epoch 88/100\n",
            "1200/1200 [==============================] - 3s 3ms/step - loss: 0.7263 - accuracy: 0.8176 - val_loss: 0.7393 - val_accuracy: 0.8104\n",
            "Epoch 89/100\n",
            "1200/1200 [==============================] - 3s 3ms/step - loss: 0.7292 - accuracy: 0.8162 - val_loss: 0.7711 - val_accuracy: 0.8001\n",
            "Epoch 90/100\n",
            "1200/1200 [==============================] - 4s 3ms/step - loss: 0.7295 - accuracy: 0.8180 - val_loss: 0.7751 - val_accuracy: 0.8004\n",
            "Epoch 91/100\n",
            "1200/1200 [==============================] - 4s 3ms/step - loss: 0.7293 - accuracy: 0.8181 - val_loss: 0.7187 - val_accuracy: 0.8220\n",
            "Epoch 92/100\n",
            "1200/1200 [==============================] - 4s 3ms/step - loss: 0.7293 - accuracy: 0.8175 - val_loss: 0.7973 - val_accuracy: 0.7896\n",
            "Epoch 93/100\n",
            "1200/1200 [==============================] - 3s 3ms/step - loss: 0.7287 - accuracy: 0.8189 - val_loss: 0.7067 - val_accuracy: 0.8250\n",
            "Epoch 94/100\n",
            "1200/1200 [==============================] - 3s 3ms/step - loss: 0.7295 - accuracy: 0.8174 - val_loss: 0.7695 - val_accuracy: 0.8102\n",
            "Epoch 95/100\n",
            "1200/1200 [==============================] - 3s 3ms/step - loss: 0.7247 - accuracy: 0.8197 - val_loss: 0.7810 - val_accuracy: 0.7937\n",
            "Epoch 96/100\n",
            "1200/1200 [==============================] - 3s 3ms/step - loss: 0.7235 - accuracy: 0.8189 - val_loss: 0.7433 - val_accuracy: 0.8154\n",
            "Epoch 97/100\n",
            "1200/1200 [==============================] - 3s 3ms/step - loss: 0.7248 - accuracy: 0.8194 - val_loss: 0.7098 - val_accuracy: 0.8222\n",
            "Epoch 98/100\n",
            "1200/1200 [==============================] - 3s 3ms/step - loss: 0.7223 - accuracy: 0.8193 - val_loss: 0.7313 - val_accuracy: 0.8190\n",
            "Epoch 99/100\n",
            "1200/1200 [==============================] - 3s 3ms/step - loss: 0.7263 - accuracy: 0.8195 - val_loss: 0.7275 - val_accuracy: 0.8148\n",
            "Epoch 100/100\n",
            "1200/1200 [==============================] - 3s 3ms/step - loss: 0.7270 - accuracy: 0.8187 - val_loss: 0.7751 - val_accuracy: 0.7984\n"
          ]
        }
      ],
      "source": [
        "# Call fit on your model passing in the train_images, train_labels data above with validation split of 0.2 and train for 100 epochs\n",
        "hist1 = model1.fit(train_images, train_labels, batch_size=40, epochs=100, validation_split=0.2)"
      ]
    },
    {
      "cell_type": "code",
      "execution_count": 30,
      "metadata": {
        "colab": {},
        "colab_type": "code",
        "id": "okB05Mf0Hg9S",
        "vscode": {
          "languageId": "python"
        }
      },
      "outputs": [],
      "source": [
        "def plot_losses(hist):\n",
        "    plt.plot(hist.history['loss'])\n",
        "    plt.plot(hist.history['val_loss'])\n",
        "    plt.title('Model Loss')\n",
        "    plt.ylabel('Loss')\n",
        "    plt.xlabel('Epoch')\n",
        "    plt.legend(['Train', 'Val'])\n",
        "    plt.show()\n",
        "def plot_accuracies(hist):\n",
        "    plt.plot(hist.history['accuracy'])\n",
        "    plt.plot(hist.history['val_accuracy'])\n",
        "    plt.title('Model Accuracy')\n",
        "    plt.ylabel('Accuracy')\n",
        "    plt.xlabel('Epoch')\n",
        "    plt.legend(['Train', 'Val'])\n",
        "    plt.show()"
      ]
    },
    {
      "cell_type": "code",
      "execution_count": 31,
      "metadata": {
        "colab": {
          "base_uri": "https://localhost:8080/",
          "height": 592
        },
        "colab_type": "code",
        "id": "kwLRaQ1KMuOl",
        "outputId": "0936a568-9ea2-48c2-bdf2-7fc669147438",
        "vscode": {
          "languageId": "python"
        }
      },
      "outputs": [
        {
          "name": "stdout",
          "output_type": "stream",
          "text": [
            "this is hist1:\n"
          ]
        },
        {
          "data": {
            "image/png": "[encoded data removed]",
            "text/plain": [
              "<Figure size 432x288 with 1 Axes>"
            ]
          },
          "metadata": {
            "needs_background": "light",
            "tags": []
          },
          "output_type": "display_data"
        },
        {
          "data": {
            "image/png": "[encoded data removed]",
            "text/plain": [
              "<Figure size 432x288 with 1 Axes>"
            ]
          },
          "metadata": {
            "needs_background": "light",
            "tags": []
          },
          "output_type": "display_data"
        }
      ],
      "source": [
        "# Plot your losses and accuracies\n",
        "plot_losses(hist1)\n",
        "plot_accuracies(hist1)"
      ]
    },
    {
      "cell_type": "markdown",
      "metadata": {
        "colab_type": "text",
        "id": "aI9sQv21VXzI"
      },
      "source": [
        "### Question 2.4) Observation\n",
        "How did your neural network perform? What hyperparameters and optimizer did you choose?"
      ]
    },
    {
      "attachments": {},
      "cell_type": "markdown",
      "metadata": {
        "colab_type": "text",
        "id": "wnsDckNTWWnI"
      },
      "source": [
        "My NN performed with ~82% accuracy. I learned a lot about developing a model from the previous NN, so I had a better design approach to this model. Also my previous experience allowed me the benefit of spending less time fine tuning the hyperparameters to get good fit results. Generally speaking, the model produces loss vs epoch, and accuracy vs epoch graphs with training learning curves under validation learning curves. I didn't experience an overfitting as severe as the previous NN. Overall, very satisfied with this NN. I appreciate the exercise behind implementing a model that handles more data along with more categories(labels) and the benefits of sparse categorical crossentropy loss function. $$ \\\\ $$\n",
        "My model's hyperparameters: $$ \\\\ $$\n",
        "1 input layer - of 128 neurons, 1 Hidden layer - of 128 neurons, 2 Hidden layers - of 64 neurons each, 1 Hidden layer - of 32 neurons, and 1 output layer - of 10 neurons.\n",
        "'relu' activation for input and the following 4 hidden layers, and 'softmax' activation for the output. To minimize overfitting, the first 5 layers, including the input layer, have L1-norm regularizers set at 0.002. Total trainable parameters are 131,818. The optimizer used is Adam with learning rate set at 0.0015 (selected by testing), and up to spec, sparse categorical cross entropy loss function. There is a modified batch size per gradient update set to 40. And again, up to spec, epoch set to 100, and 20% validation split.  $$ \\\\ $$\n",
        "\n",
        "\n"
      ]
    },
    {
      "cell_type": "markdown",
      "metadata": {
        "_uuid": "bca889c929920fd204e28dd8ba3bf747abfe4866",
        "colab_type": "text",
        "id": "HwHNu13zLhbq"
      },
      "source": [
        "## Question 3: Building a Convolutional Neural Network\n",
        "\n",
        "In this exercise, we will build a classifier model that is able to distinguish between 10 different classes of images - airplanes, cars, birds, cats, deer, dogs, frogs, horses, ships, and trucks. We will follow these steps:\n",
        "\n",
        "1. Explore the example data\n",
        "2. Build a small convnet to solve our classification problem\n",
        "3. Evaluate training and validation accuracy"
      ]
    },
    {
      "cell_type": "markdown",
      "metadata": {
        "colab_type": "text",
        "id": "rxedzNz3Lhbq"
      },
      "source": [
        "###  Data Exploration and Preparation\n",
        "\n",
        "We'll start by downloading the CIFAR-10 dataset from Keras.\n",
        "\n",
        "This is a link to the dataset documentation:\n",
        "https://keras.io/datasets/#cifar10-small-image-classification\n",
        "\n",
        "And a link to the dataset source:\n",
        "https://www.cs.toronto.edu/~kriz/cifar.html\n",
        "\n",
        "Be sure to set your Runtime environment to include a GPU, as it will speed up the training considerably (this time that's important!)."
      ]
    },
    {
      "cell_type": "markdown",
      "metadata": {
        "colab_type": "text",
        "id": "hT9YYUNlLhbr"
      },
      "source": [
        "#### Loading data into local variables"
      ]
    },
    {
      "cell_type": "code",
      "execution_count": 32,
      "metadata": {
        "colab": {
          "base_uri": "https://localhost:8080/",
          "height": 36
        },
        "colab_type": "code",
        "id": "qIPX5X2VLhbs",
        "outputId": "ace3de32-38fa-4208-aee6-27f7920182a9",
        "vscode": {
          "languageId": "python"
        }
      },
      "outputs": [
        {
          "name": "stderr",
          "output_type": "stream",
          "text": [
            "Using TensorFlow backend.\n"
          ]
        }
      ],
      "source": [
        "from keras.datasets import cifar10\n",
        "\n",
        "# Fetch the data:\n",
        "(X, y), (_, _) = cifar10.load_data()"
      ]
    },
    {
      "cell_type": "markdown",
      "metadata": {
        "_uuid": "892a9fe20cb70273b84d120b69e8d8cef65c7e80",
        "colab_type": "text",
        "id": "sI_-5NB-Lhb3"
      },
      "source": [
        "####  Import needed functions and libraries"
      ]
    },
    {
      "cell_type": "code",
      "execution_count": 33,
      "metadata": {
        "_uuid": "743b574dc8902f9376b0293208139192ed5717d1",
        "colab": {},
        "colab_type": "code",
        "id": "z19bVm7o9zeu",
        "vscode": {
          "languageId": "python"
        }
      },
      "outputs": [],
      "source": [
        "# Ignore the warnings - Otherwise, TensorFlow tends to innundate one with far too many warnings.\n",
        "import warnings\n",
        "warnings.filterwarnings('always')\n",
        "warnings.filterwarnings('ignore')\n",
        "\n",
        "# For matrix operations and dataframes.\n",
        "import numpy as np\n",
        "\n",
        "# Data visualizaton.\n",
        "import matplotlib.pyplot as plt\n",
        "from matplotlib import style\n",
        "import seaborn as sns\n",
        "import random as rn\n",
        " \n",
        "# Configure some defaults.\n",
        "%matplotlib inline  \n",
        "style.use('fivethirtyeight')\n",
        "sns.set(style='whitegrid',color_codes=True)\n",
        "\n",
        "# Useful deep learning functions.\n",
        "from tensorflow.keras import backend as K\n",
        "from tensorflow.keras.models import Sequential\n",
        "from tensorflow.keras.layers import Dense\n",
        "from tensorflow.keras.optimizers import Adam, SGD, Adagrad, Adadelta, RMSprop \n",
        "from tensorflow.keras.utils import to_categorical\n",
        "from tensorflow.keras.layers import Dropout, Flatten, Activation\n",
        "from tensorflow.keras.layers import Conv2D, MaxPooling2D\n",
        "from tensorflow.keras import regularizers\n",
        "\n",
        "\n",
        "# Powerful deep learning module.\n",
        "import tensorflow as tf\n",
        "\n",
        "# For dealing with data.\n",
        "import numpy as np  "
      ]
    },
    {
      "cell_type": "markdown",
      "metadata": {
        "_uuid": "c24f32b5ef905f9c4df2a020be4419a77c80237e",
        "colab_type": "text",
        "id": "892A1wjvLhb7"
      },
      "source": [
        "#### Data Preparation & Exploration\n",
        "Let's take a look at a few of these images. Rerun this cell multiple times to see different images for each class.\n",
        "\n",
        "You may notice that these images look low fidelity, which is because they are! As we increase our image size, we also increase our model complexity. What's important is that our classes are still distinguishable from each other."
      ]
    },
    {
      "cell_type": "code",
      "execution_count": 34,
      "metadata": {
        "_uuid": "a27c478fcac8675aadd40f96fd144a805475b681",
        "colab": {
          "base_uri": "https://localhost:8080/",
          "height": 367
        },
        "colab_type": "code",
        "id": "gPolpADLYv9p",
        "outputId": "a8cbccc6-bd10-46e0-9897-79beb3c6b0c6",
        "scrolled": true,
        "vscode": {
          "languageId": "python"
        }
      },
      "outputs": [
        {
          "data": {
            "image/png": "[encoded data removed]",
            "text/plain": [
              "<Figure size 720x432 with 10 Axes>"
            ]
          },
          "metadata": {
            "tags": []
          },
          "output_type": "display_data"
        }
      ],
      "source": [
        "fig, ax = plt.subplots(2, 5)\n",
        "fig.set_size_inches(10, 6)\n",
        "\n",
        "for i in range(2):\n",
        "    for j in range(5):\n",
        "        c = j + 5*i # Class counter\n",
        "        l = np.random.choice(np.where(y == c)[0], 1)[0] # Get a random image from class c\n",
        "        ax[i, j].imshow(X[l])\n",
        "        ax[i, j].set_title('Class: ' + str(y[l]))\n",
        "        # Hide grid lines\n",
        "        ax[i, j].grid(False)\n",
        "        # Hide axes ticks\n",
        "        ax[i, j].set_xticks([])\n",
        "        ax[i, j].set_yticks([])\n",
        "        \n",
        "plt.tight_layout()"
      ]
    },
    {
      "cell_type": "markdown",
      "metadata": {
        "colab_type": "text",
        "id": "vddd-xejqVV7"
      },
      "source": [
        "#### Let's take a look at the format of our data"
      ]
    },
    {
      "cell_type": "code",
      "execution_count": 35,
      "metadata": {
        "colab": {
          "base_uri": "https://localhost:8080/",
          "height": 54
        },
        "colab_type": "code",
        "id": "aSmQVBA7qaxd",
        "outputId": "ed86eec5-2743-4e95-e5ed-8f0b7f86c451",
        "vscode": {
          "languageId": "python"
        }
      },
      "outputs": [
        {
          "name": "stdout",
          "output_type": "stream",
          "text": [
            "X (images) (50000, 32, 32, 3)\n",
            "y (classes) (50000, 1)\n"
          ]
        }
      ],
      "source": [
        "print('X (images)', X.shape)\n",
        "print('y (classes)', y.shape)"
      ]
    },
    {
      "cell_type": "markdown",
      "metadata": {
        "colab_type": "text",
        "id": "ytuPNJQWqkZX"
      },
      "source": [
        "We can see that we have 50,000 samples, where each images is 32 by 32 pixels with 3 color channels: RGB.\n",
        "\n",
        "For each of these images, we have a single label for which class they each belong to."
      ]
    },
    {
      "cell_type": "markdown",
      "metadata": {
        "_uuid": "77ec9e39e572f004918ea99a6866ee3a06c68324",
        "colab_type": "text",
        "id": "NCS6ejuoLhcH"
      },
      "source": [
        "#### One-hot encode the labels, and normalize the data\n",
        "\n",
        "Similarly to previous exercises, we want to one hot encode our class labels. We also want to normalize our image data similarly to the previous question."
      ]
    },
    {
      "cell_type": "code",
      "execution_count": 36,
      "metadata": {
        "colab": {},
        "colab_type": "code",
        "id": "DT_F8m-vLhcI",
        "vscode": {
          "languageId": "python"
        }
      },
      "outputs": [],
      "source": [
        "# One-hot encode those integer values of class labels\n",
        "y = to_categorical(y)\n",
        "\n",
        "# Normalize all entries to the interval [0, 1]\n",
        "X = X/255"
      ]
    },
    {
      "cell_type": "code",
      "execution_count": 37,
      "metadata": {
        "colab": {
          "base_uri": "https://localhost:8080/",
          "height": 129
        },
        "colab_type": "code",
        "id": "7GHqAgTC0DVF",
        "outputId": "86360969-4d7d-43f7-f446-288a5a22727b",
        "vscode": {
          "languageId": "python"
        }
      },
      "outputs": [
        {
          "name": "stdout",
          "output_type": "stream",
          "text": [
            "0.0 0.0 1.0\n",
            "4 (50000, 32, 32, 3)\n",
            "2 (50000, 10)\n",
            "<class 'numpy.ndarray'> float64\n",
            "<class 'numpy.ndarray'> float32\n",
            "0.0 0.4588235294117647 1.0\n"
          ]
        }
      ],
      "source": [
        "print(np.min(y), np.median(y), np.max(y))\n",
        "print(X.ndim, X.shape)\n",
        "print(y.ndim, y.shape)\n",
        "print(type(X), X.dtype) \n",
        "print(type(y), y.dtype)\n",
        "print(np.min(X), np.median(X), np.max(X))"
      ]
    },
    {
      "cell_type": "markdown",
      "metadata": {
        "_uuid": "b8952f9ac2af66841a9c000126de56b44301d3ce",
        "colab_type": "text",
        "id": "H9PP4rQhLhdD"
      },
      "source": [
        "### Question 3.1)\n",
        "Create your own deep learning architecture, and train it on the dataset above. If you're unsure where to start, begin by referencing the in class exercises. \n",
        "\n",
        "One suggestion is to add several convolution layers each followed by a maxpooling layer. Towards the end you can add one or more fully connected layers. Dropout layers are often useful after each fully connected layer for overfitting, and you can try experimenting with that parameter. Your model should be able to reach **70% validation accuracy**.\n",
        "\n",
        "You are responsible for your model architecture, hyperparameters, and optimizer. \n",
        "\n",
        "**HOWEVER, you are limited to a maximum of 50 epochs and 500,000 model parameters! You will lose points for exceeding these limits.**"
      ]
    },
    {
      "cell_type": "code",
      "execution_count": 38,
      "metadata": {
        "colab": {},
        "colab_type": "code",
        "id": "mVjSUo_9LhdE",
        "vscode": {
          "languageId": "python"
        }
      },
      "outputs": [],
      "source": [
        "# This is where we define the architecture of our deep neural network.\n",
        "model2 = Sequential()\n",
        "model2.add(Conv2D(filters=16, kernel_size=(3,3), padding='Same', activation='relu', input_shape=(32, 32, 3)))\n",
        "model2.add(Conv2D(filters=16, kernel_size=(3,3), padding='Same', activation='relu'))\n",
        "model2.add(MaxPooling2D(2, 2))\n",
        "model2.add(Conv2D(filters=32, kernel_size=(3,3), padding='Same', activation='relu'))\n",
        "model2.add(Conv2D(filters=32, kernel_size=(3,3), padding='Same', activation='relu'))\n",
        "model2.add(MaxPooling2D(2, 2))\n",
        "model2.add(Conv2D(filters=68, kernel_size=(3,3), padding='Same', activation='relu'))\n",
        "model2.add(Conv2D(filters=68, kernel_size=(3,3), padding='Same', activation='relu'))\n",
        "model2.add(MaxPooling2D(2, 2))\n",
        "model2.add(Flatten())\n",
        "model2.add(Dense(units=110, activation='relu', kernel_regularizer=regularizers.l1(0.007)))\n",
        "model2.add(Dropout(0.4))\n",
        "model2.add(Dense(units=10, activation='softmax'))\n"
      ]
    },
    {
      "cell_type": "code",
      "execution_count": 39,
      "metadata": {
        "colab": {},
        "colab_type": "code",
        "id": "PO003fD15wop",
        "vscode": {
          "languageId": "python"
        }
      },
      "outputs": [],
      "source": [
        "# A batch is the size of each training chunk. \n",
        "# We're implementing batch gradient descent, which is in b/n stochastic gradient descent and full gradient descent.\n",
        "batchsize = 40 \n",
        "# Each epoch goes through the entire training set once\n",
        "epochs = 35 # Maximum of 50!"
      ]
    },
    {
      "cell_type": "code",
      "execution_count": 40,
      "metadata": {
        "colab": {},
        "colab_type": "code",
        "id": "o4reatYS5edV",
        "vscode": {
          "languageId": "python"
        }
      },
      "outputs": [],
      "source": [
        "opt = Adam()\n",
        "model2.compile(optimizer = opt,\n",
        "              loss = 'categorical_crossentropy',\n",
        "              metrics = ['accuracy'])"
      ]
    },
    {
      "cell_type": "code",
      "execution_count": 41,
      "metadata": {
        "colab": {
          "base_uri": "https://localhost:8080/",
          "height": 653
        },
        "colab_type": "code",
        "id": "0FDudYr552rv",
        "outputId": "f99b1d2b-b373-42cd-c354-648fcc10519c",
        "vscode": {
          "languageId": "python"
        }
      },
      "outputs": [
        {
          "name": "stdout",
          "output_type": "stream",
          "text": [
            "Model: \"sequential_2\"\n",
            "_________________________________________________________________\n",
            "Layer (type)                 Output Shape              Param #   \n",
            "=================================================================\n",
            "conv2d (Conv2D)              (None, 32, 32, 16)        448       \n",
            "_________________________________________________________________\n",
            "conv2d_1 (Conv2D)            (None, 32, 32, 16)        2320      \n",
            "_________________________________________________________________\n",
            "max_pooling2d (MaxPooling2D) (None, 16, 16, 16)        0         \n",
            "_________________________________________________________________\n",
            "conv2d_2 (Conv2D)            (None, 16, 16, 32)        4640      \n",
            "_________________________________________________________________\n",
            "conv2d_3 (Conv2D)            (None, 16, 16, 32)        9248      \n",
            "_________________________________________________________________\n",
            "max_pooling2d_1 (MaxPooling2 (None, 8, 8, 32)          0         \n",
            "_________________________________________________________________\n",
            "conv2d_4 (Conv2D)            (None, 8, 8, 68)          19652     \n",
            "_________________________________________________________________\n",
            "conv2d_5 (Conv2D)            (None, 8, 8, 68)          41684     \n",
            "_________________________________________________________________\n",
            "max_pooling2d_2 (MaxPooling2 (None, 4, 4, 68)          0         \n",
            "_________________________________________________________________\n",
            "flatten (Flatten)            (None, 1088)              0         \n",
            "_________________________________________________________________\n",
            "dense_10 (Dense)             (None, 110)               119790    \n",
            "_________________________________________________________________\n",
            "dropout (Dropout)            (None, 110)               0         \n",
            "_________________________________________________________________\n",
            "dense_11 (Dense)             (None, 10)                1110      \n",
            "=================================================================\n",
            "Total params: 198,892\n",
            "Trainable params: 198,892\n",
            "Non-trainable params: 0\n",
            "_________________________________________________________________\n"
          ]
        }
      ],
      "source": [
        "\n",
        "model2.summary() # Maximum of 500,000 parameters!"
      ]
    },
    {
      "cell_type": "code",
      "execution_count": 42,
      "metadata": {
        "colab": {
          "base_uri": "https://localhost:8080/",
          "height": 1000
        },
        "colab_type": "code",
        "id": "kK7nvHYr6P4J",
        "outputId": "4aba68b0-6d7a-4768-cd47-b2d7f721015c",
        "vscode": {
          "languageId": "python"
        }
      },
      "outputs": [
        {
          "name": "stdout",
          "output_type": "stream",
          "text": [
            "Epoch 1/35\n",
            "1000/1000 [==============================] - 5s 5ms/step - loss: 2.8639 - accuracy: 0.2792 - val_loss: 1.8312 - val_accuracy: 0.4098\n",
            "Epoch 2/35\n",
            "1000/1000 [==============================] - 5s 5ms/step - loss: 1.8192 - accuracy: 0.4093 - val_loss: 1.6618 - val_accuracy: 0.4754\n",
            "Epoch 3/35\n",
            "1000/1000 [==============================] - 5s 5ms/step - loss: 1.6823 - accuracy: 0.4623 - val_loss: 1.5784 - val_accuracy: 0.5043\n",
            "Epoch 4/35\n",
            "1000/1000 [==============================] - 5s 5ms/step - loss: 1.5918 - accuracy: 0.5010 - val_loss: 1.4913 - val_accuracy: 0.5455\n",
            "Epoch 5/35\n",
            "1000/1000 [==============================] - 5s 5ms/step - loss: 1.5255 - accuracy: 0.5376 - val_loss: 1.4327 - val_accuracy: 0.5698\n",
            "Epoch 6/35\n",
            "1000/1000 [==============================] - 5s 5ms/step - loss: 1.4527 - accuracy: 0.5654 - val_loss: 1.4018 - val_accuracy: 0.5812\n",
            "Epoch 7/35\n",
            "1000/1000 [==============================] - 5s 5ms/step - loss: 1.3964 - accuracy: 0.5861 - val_loss: 1.3808 - val_accuracy: 0.5832\n",
            "Epoch 8/35\n",
            "1000/1000 [==============================] - 4s 4ms/step - loss: 1.3462 - accuracy: 0.6070 - val_loss: 1.3348 - val_accuracy: 0.6092\n",
            "Epoch 9/35\n",
            "1000/1000 [==============================] - 5s 5ms/step - loss: 1.3110 - accuracy: 0.6199 - val_loss: 1.2765 - val_accuracy: 0.6249\n",
            "Epoch 10/35\n",
            "1000/1000 [==============================] - 5s 5ms/step - loss: 1.2783 - accuracy: 0.6331 - val_loss: 1.2179 - val_accuracy: 0.6511\n",
            "Epoch 11/35\n",
            "1000/1000 [==============================] - 5s 5ms/step - loss: 1.2479 - accuracy: 0.6443 - val_loss: 1.2132 - val_accuracy: 0.6585\n",
            "Epoch 12/35\n",
            "1000/1000 [==============================] - 5s 5ms/step - loss: 1.2167 - accuracy: 0.6568 - val_loss: 1.2106 - val_accuracy: 0.6579\n",
            "Epoch 13/35\n",
            "1000/1000 [==============================] - 5s 5ms/step - loss: 1.1918 - accuracy: 0.6687 - val_loss: 1.2419 - val_accuracy: 0.6534\n",
            "Epoch 14/35\n",
            "1000/1000 [==============================] - 5s 5ms/step - loss: 1.1629 - accuracy: 0.6764 - val_loss: 1.2036 - val_accuracy: 0.6630\n",
            "Epoch 15/35\n",
            "1000/1000 [==============================] - 4s 4ms/step - loss: 1.1373 - accuracy: 0.6863 - val_loss: 1.1578 - val_accuracy: 0.6780\n",
            "Epoch 16/35\n",
            "1000/1000 [==============================] - 4s 4ms/step - loss: 1.1243 - accuracy: 0.6891 - val_loss: 1.1777 - val_accuracy: 0.6713\n",
            "Epoch 17/35\n",
            "1000/1000 [==============================] - 5s 5ms/step - loss: 1.1051 - accuracy: 0.6963 - val_loss: 1.1477 - val_accuracy: 0.6894\n",
            "Epoch 18/35\n",
            "1000/1000 [==============================] - 5s 5ms/step - loss: 1.0914 - accuracy: 0.7016 - val_loss: 1.1195 - val_accuracy: 0.6892\n",
            "Epoch 19/35\n",
            "1000/1000 [==============================] - 5s 5ms/step - loss: 1.0711 - accuracy: 0.7080 - val_loss: 1.1327 - val_accuracy: 0.6903\n",
            "Epoch 20/35\n",
            "1000/1000 [==============================] - 5s 5ms/step - loss: 1.0493 - accuracy: 0.7160 - val_loss: 1.1416 - val_accuracy: 0.6944\n",
            "Epoch 21/35\n",
            "1000/1000 [==============================] - 4s 4ms/step - loss: 1.0381 - accuracy: 0.7217 - val_loss: 1.1878 - val_accuracy: 0.6768\n",
            "Epoch 22/35\n",
            "1000/1000 [==============================] - 4s 4ms/step - loss: 1.0277 - accuracy: 0.7248 - val_loss: 1.1160 - val_accuracy: 0.6986\n",
            "Epoch 23/35\n",
            "1000/1000 [==============================] - 4s 4ms/step - loss: 1.0061 - accuracy: 0.7310 - val_loss: 1.1375 - val_accuracy: 0.6932\n",
            "Epoch 24/35\n",
            "1000/1000 [==============================] - 5s 5ms/step - loss: 0.9993 - accuracy: 0.7340 - val_loss: 1.1413 - val_accuracy: 0.6915\n",
            "Epoch 25/35\n",
            "1000/1000 [==============================] - 5s 5ms/step - loss: 0.9858 - accuracy: 0.7382 - val_loss: 1.1695 - val_accuracy: 0.6897\n",
            "Epoch 26/35\n",
            "1000/1000 [==============================] - 5s 5ms/step - loss: 0.9778 - accuracy: 0.7450 - val_loss: 1.1832 - val_accuracy: 0.6819\n",
            "Epoch 27/35\n",
            "1000/1000 [==============================] - 5s 5ms/step - loss: 0.9591 - accuracy: 0.7464 - val_loss: 1.1753 - val_accuracy: 0.6941\n",
            "Epoch 28/35\n",
            "1000/1000 [==============================] - 5s 5ms/step - loss: 0.9558 - accuracy: 0.7493 - val_loss: 1.1611 - val_accuracy: 0.7024\n",
            "Epoch 29/35\n",
            "1000/1000 [==============================] - 5s 5ms/step - loss: 0.9489 - accuracy: 0.7521 - val_loss: 1.2209 - val_accuracy: 0.6854\n",
            "Epoch 30/35\n",
            "1000/1000 [==============================] - 5s 5ms/step - loss: 0.9284 - accuracy: 0.7576 - val_loss: 1.1257 - val_accuracy: 0.7016\n",
            "Epoch 31/35\n",
            "1000/1000 [==============================] - 5s 5ms/step - loss: 0.9151 - accuracy: 0.7634 - val_loss: 1.1765 - val_accuracy: 0.6933\n",
            "Epoch 32/35\n",
            "1000/1000 [==============================] - 5s 5ms/step - loss: 0.9106 - accuracy: 0.7666 - val_loss: 1.1694 - val_accuracy: 0.7011\n",
            "Epoch 33/35\n",
            "1000/1000 [==============================] - 5s 5ms/step - loss: 0.9047 - accuracy: 0.7692 - val_loss: 1.2008 - val_accuracy: 0.6965\n",
            "Epoch 34/35\n",
            "1000/1000 [==============================] - 5s 5ms/step - loss: 0.8955 - accuracy: 0.7721 - val_loss: 1.2297 - val_accuracy: 0.6789\n",
            "Epoch 35/35\n",
            "1000/1000 [==============================] - 5s 5ms/step - loss: 0.8804 - accuracy: 0.7772 - val_loss: 1.2365 - val_accuracy: 0.6922\n"
          ]
        }
      ],
      "source": [
        "history = model2.fit(X, \n",
        "                    y,\n",
        "                    batch_size = batchsize,\n",
        "                    epochs = epochs, \n",
        "                    validation_split = 0.2, \n",
        "                    verbose = 1)"
      ]
    },
    {
      "cell_type": "markdown",
      "metadata": {
        "colab_type": "text",
        "id": "-NrXxz4pLhdG"
      },
      "source": [
        "### Question 3.2)\n",
        "Create training and validation loss and accuracy plots as above."
      ]
    },
    {
      "cell_type": "code",
      "execution_count": 43,
      "metadata": {
        "colab": {},
        "colab_type": "code",
        "id": "dHSB2RaCdug5",
        "vscode": {
          "languageId": "python"
        }
      },
      "outputs": [],
      "source": [
        "def plot_losses(hist):\n",
        "    plt.plot(hist.history['loss'])\n",
        "    plt.plot(hist.history['val_loss'])\n",
        "    plt.title('Model Loss')\n",
        "    plt.ylabel('Loss')\n",
        "    plt.xlabel('Epoch')\n",
        "    plt.legend(['Train', 'Val'])\n",
        "    plt.show()\n",
        "def plot_accuracies(hist):\n",
        "    plt.plot(hist.history['accuracy'])\n",
        "    plt.plot(hist.history['val_accuracy'])\n",
        "    plt.title('Model Accuracy')\n",
        "    plt.ylabel('Accuracy')\n",
        "    plt.xlabel('Epoch')\n",
        "    plt.legend(['Train', 'Val'])\n",
        "    plt.show()"
      ]
    },
    {
      "cell_type": "code",
      "execution_count": 44,
      "metadata": {
        "colab": {
          "base_uri": "https://localhost:8080/",
          "height": 617
        },
        "colab_type": "code",
        "id": "ri2mViLfLhdG",
        "outputId": "df30cb1c-7a26-4dff-acaf-1041d07884cb",
        "vscode": {
          "languageId": "python"
        }
      },
      "outputs": [
        {
          "data": {
            "image/png": "[encoded data removed]",
            "text/plain": [
              "<Figure size 432x288 with 1 Axes>"
            ]
          },
          "metadata": {
            "tags": []
          },
          "output_type": "display_data"
        },
        {
          "data": {
            "image/png": "[encoded data removed]",
            "text/plain": [
              "<Figure size 432x288 with 1 Axes>"
            ]
          },
          "metadata": {
            "tags": []
          },
          "output_type": "display_data"
        }
      ],
      "source": [
        "plot_losses(history)\n",
        "plot_accuracies(history)"
      ]
    },
    {
      "attachments": {},
      "cell_type": "markdown",
      "metadata": {
        "colab_type": "text",
        "id": "NUKgJ5so5U3Y"
      },
      "source": [
        "Comments:\n",
        "I had a model that produced better fit results; where the training learning curve was not overfitting the validation learning curve. \\\n",
        "However in these results, the validation accuracy was topping at ~65%. \\\n",
        "I decreased regularization factors, and dropout rates as well as lengthened epochs to get validation accuracy ~70%."
      ]
    }
  ],
  "metadata": {
    "accelerator": "GPU",
    "colab": {
      "collapsed_sections": [],
      "name": "Copy of Assignment 4.ipynb",
      "provenance": []
    },
    "kernelspec": {
      "display_name": "Python 3",
      "name": "python3"
    }
  },
  "nbformat": 4,
  "nbformat_minor": 0
}
