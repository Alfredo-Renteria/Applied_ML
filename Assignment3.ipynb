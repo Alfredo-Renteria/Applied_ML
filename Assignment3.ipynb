{
  "cells": [
    {
      "attachments": {},
      "cell_type": "markdown",
      "metadata": {
        "colab_type": "text",
        "id": "IDo6Mz1MoJxR"
      },
      "source": [
        "# Assignment 3\n",
        "\n",
        "To write legible answers you will need to be familiar with both [Markdown](https://github.com/adam-p/markdown-here/wiki/Markdown-Cheatsheet) and [Latex](https://www.latex-tutorial.com/tutorials/amsmath/)\n",
        "\n",
        "Before you turn this problem in, make sure everything runs as expected. First, restart the kernel (in the menubar, select Kernel→→Restart) and then run all cells (in the menubar, select Cell→→Run All)."
      ]
    },
    {
      "cell_type": "code",
      "execution_count": 1,
      "metadata": {
        "colab": {},
        "colab_type": "code",
        "id": "nOfazHDtoJxS",
        "vscode": {
          "languageId": "python"
        }
      },
      "outputs": [],
      "source": [
        "NAME = \"Alfredo Renteria\""
      ]
    },
    {
      "cell_type": "markdown",
      "metadata": {
        "colab_type": "text",
        "id": "UPWO4eaSZtaX"
      },
      "source": [
        "# 1) Binary Classification\n",
        "## i) Logistic Regression\n",
        "In this task, we will run logistic regression using scikit learn. But first the dataset needs to be created. Call this data set the Gaussian Quantile Dataset."
      ]
    },
    {
      "cell_type": "code",
      "execution_count": 2,
      "metadata": {
        "colab": {
          "base_uri": "https://localhost:8080/",
          "height": 54
        },
        "colab_type": "code",
        "id": "GxTRTcKn46Xk",
        "outputId": "8e5fb13d-7bb1-47b9-b305-46640b48698e",
        "vscode": {
          "languageId": "python"
        }
      },
      "outputs": [
        {
          "name": "stderr",
          "output_type": "stream",
          "text": [
            "/usr/local/lib/python3.6/dist-packages/statsmodels/tools/_testing.py:19: FutureWarning: pandas.util.testing is deprecated. Use the functions in the public API at pandas.testing instead.\n",
            "  import pandas.util.testing as tm\n"
          ]
        }
      ],
      "source": [
        "import numpy as np\n",
        "import pandas as pd\n",
        "import seaborn as sns\n",
        "from matplotlib import pyplot as plt\n",
        "from sklearn.datasets import make_gaussian_quantiles\n",
        "np.random.seed(111)"
      ]
    },
    {
      "cell_type": "code",
      "execution_count": 3,
      "metadata": {
        "colab": {},
        "colab_type": "code",
        "id": "jJuAZKiBO2CS",
        "vscode": {
          "languageId": "python"
        }
      },
      "outputs": [],
      "source": [
        "# Construct dataset\n",
        "X, y = make_gaussian_quantiles(cov=4.,\n",
        "                                 n_samples=500, n_features=1,\n",
        "                                 n_classes=2, random_state=1)\n",
        "# Making X1 values, reshape y1, and creating random noise for x1 values\n",
        "X = X-3.0  \n",
        "noise = np.random.normal(loc=0.0, scale=0.4, size=len(X)).reshape(-1,1)\n",
        "y = y.reshape(-1,1)\n",
        "X = np.sum([X,noise],axis=0)"
      ]
    },
    {
      "cell_type": "code",
      "execution_count": 4,
      "metadata": {
        "colab": {
          "base_uri": "https://localhost:8080/",
          "height": 1000
        },
        "colab_type": "code",
        "id": "dfmus1-hbQWw",
        "outputId": "8975d750-f8aa-416f-da83-b3cabc51029d",
        "vscode": {
          "languageId": "python"
        }
      },
      "outputs": [
        {
          "name": "stdout",
          "output_type": "stream",
          "text": [
            "[[-2.42338811e+00  0.00000000e+00]\n",
            " [ 1.53512714e+00  1.00000000e+00]\n",
            " [-2.97599422e+00  0.00000000e+00]\n",
            " [ 4.78916909e-01  1.00000000e+00]\n",
            " [-1.60960529e+00  1.00000000e+00]\n",
            " [-3.55691511e+00  0.00000000e+00]\n",
            " [-3.86154330e+00  0.00000000e+00]\n",
            " [-3.07094921e+00  0.00000000e+00]\n",
            " [ 2.76750500e+00  1.00000000e+00]\n",
            " [-2.41581646e+00  0.00000000e+00]\n",
            " [-4.62707507e+00  1.00000000e+00]\n",
            " [-4.74476399e+00  1.00000000e+00]\n",
            " [-3.00505940e+00  0.00000000e+00]\n",
            " [ 5.43380441e-01  1.00000000e+00]\n",
            " [-5.55712418e+00  1.00000000e+00]\n",
            " [-1.41449115e+00  1.00000000e+00]\n",
            " [-2.27826391e+00  0.00000000e+00]\n",
            " [-1.94740223e+00  0.00000000e+00]\n",
            " [-2.46007512e+00  0.00000000e+00]\n",
            " [-3.76786255e+00  0.00000000e+00]\n",
            " [-7.59123156e-01  1.00000000e+00]\n",
            " [-3.92296941e+00  0.00000000e+00]\n",
            " [-1.40830029e+00  1.00000000e+00]\n",
            " [-3.51714486e+00  0.00000000e+00]\n",
            " [-6.91583977e-01  1.00000000e+00]\n",
            " [-3.25406548e+00  0.00000000e+00]\n",
            " [-4.70192512e+00  0.00000000e+00]\n",
            " [-2.88430556e+00  0.00000000e+00]\n",
            " [-3.82868876e+00  0.00000000e+00]\n",
            " [-3.60400991e-01  1.00000000e+00]\n",
            " [-6.66456109e+00  1.00000000e+00]\n",
            " [-4.78099987e+00  1.00000000e+00]\n",
            " [-1.78596116e+00  1.00000000e+00]\n",
            " [-1.41492005e-01  1.00000000e+00]\n",
            " [-6.37809602e-01  1.00000000e+00]\n",
            " [-2.48720638e+00  0.00000000e+00]\n",
            " [ 1.08349034e+00  1.00000000e+00]\n",
            " [-2.90674484e+00  0.00000000e+00]\n",
            " [-2.37943799e+00  0.00000000e+00]\n",
            " [-3.04426113e+00  0.00000000e+00]\n",
            " [-1.75114584e+00  1.00000000e+00]\n",
            " [-1.31106928e+00  1.00000000e+00]\n",
            " [-3.59129260e+00  0.00000000e+00]\n",
            " [-3.36051923e+00  0.00000000e+00]\n",
            " [-3.97867615e+00  0.00000000e+00]\n",
            " [-5.00806191e+00  1.00000000e+00]\n",
            " [-2.67797355e+00  0.00000000e+00]\n",
            " [-1.17774258e+00  1.00000000e+00]\n",
            " [-3.17578094e+00  0.00000000e+00]\n",
            " [-8.34086510e+00  1.00000000e+00]\n",
            " [-4.69215016e+00  1.00000000e+00]\n",
            " [-4.72072708e+00  1.00000000e+00]\n",
            " [-2.79082805e+00  0.00000000e+00]\n",
            " [-3.67630551e+00  0.00000000e+00]\n",
            " [-3.71451248e+00  0.00000000e+00]\n",
            " [-3.80044531e+00  0.00000000e+00]\n",
            " [-3.22549530e+00  0.00000000e+00]\n",
            " [-3.89688775e+00  1.00000000e+00]\n",
            " [-2.92101492e+00  0.00000000e+00]\n",
            " [-2.60597718e+00  0.00000000e+00]\n",
            " [-2.20079525e+00  0.00000000e+00]\n",
            " [-2.62121238e+00  0.00000000e+00]\n",
            " [-5.38769320e+00  1.00000000e+00]\n",
            " [-3.08269940e+00  0.00000000e+00]\n",
            " [-3.16197726e+00  0.00000000e+00]\n",
            " [ 7.05889606e-01  1.00000000e+00]\n",
            " [-7.33526992e+00  1.00000000e+00]\n",
            " [-5.54998301e+00  1.00000000e+00]\n",
            " [-2.32227522e-01  1.00000000e+00]\n",
            " [-1.22745100e+00  1.00000000e+00]\n",
            " [-4.99570882e+00  1.00000000e+00]\n",
            " [-4.29842738e+00  1.00000000e+00]\n",
            " [-6.83059970e+00  1.00000000e+00]\n",
            " [-7.67863833e-01  1.00000000e+00]\n",
            " [-3.41406793e+00  0.00000000e+00]\n",
            " [-3.73846357e+00  0.00000000e+00]\n",
            " [-1.83206160e+00  0.00000000e+00]\n",
            " [-5.07154524e+00  1.00000000e+00]\n",
            " [-2.43974314e+00  0.00000000e+00]\n",
            " [-2.49269014e+00  0.00000000e+00]\n",
            " [-3.70631635e+00  0.00000000e+00]\n",
            " [-2.15399972e+00  0.00000000e+00]\n",
            " [-5.04894497e+00  1.00000000e+00]\n",
            " [-8.23848102e-01  1.00000000e+00]\n",
            " [-4.31693341e+00  1.00000000e+00]\n",
            " [ 8.60893285e-01  1.00000000e+00]\n",
            " [-3.43153949e+00  0.00000000e+00]\n",
            " [-5.55562089e+00  1.00000000e+00]\n",
            " [-1.14591263e+00  1.00000000e+00]\n",
            " [-6.09732604e+00  1.00000000e+00]\n",
            " [-4.90396727e+00  1.00000000e+00]\n",
            " [-3.89485620e+00  1.00000000e+00]\n",
            " [-5.51515317e+00  1.00000000e+00]\n",
            " [ 7.66076940e-01  1.00000000e+00]\n",
            " [-8.39082007e-02  1.00000000e+00]\n",
            " [-7.15328437e-01  1.00000000e+00]\n",
            " [-4.08272527e+00  0.00000000e+00]\n",
            " [-2.17451276e+00  0.00000000e+00]\n",
            " [-4.86837635e+00  0.00000000e+00]\n",
            " [-1.53786733e+00  1.00000000e+00]\n",
            " [-3.64621959e+00  0.00000000e+00]\n",
            " [ 1.11816292e+00  1.00000000e+00]\n",
            " [-4.38975676e+00  1.00000000e+00]\n",
            " [-2.02483538e+00  1.00000000e+00]\n",
            " [-4.91624155e+00  1.00000000e+00]\n",
            " [-3.20540604e+00  0.00000000e+00]\n",
            " [-6.50767723e+00  1.00000000e+00]\n",
            " [ 5.66094603e-01  1.00000000e+00]\n",
            " [-5.81549034e+00  1.00000000e+00]\n",
            " [-2.76990269e+00  0.00000000e+00]\n",
            " [-1.50617117e+00  0.00000000e+00]\n",
            " [-4.84958371e+00  1.00000000e+00]\n",
            " [-1.73696722e+00  0.00000000e+00]\n",
            " [-3.17506998e+00  0.00000000e+00]\n",
            " [-1.12256336e+00  1.00000000e+00]\n",
            " [-6.82408037e+00  1.00000000e+00]\n",
            " [-4.60467195e+00  1.00000000e+00]\n",
            " [ 1.76040317e+00  1.00000000e+00]\n",
            " [-2.29246561e+00  0.00000000e+00]\n",
            " [-5.49745030e-01  1.00000000e+00]\n",
            " [-3.16631699e+00  0.00000000e+00]\n",
            " [-2.52677491e+00  0.00000000e+00]\n",
            " [-2.24129038e+00  0.00000000e+00]\n",
            " [-5.61034517e+00  1.00000000e+00]\n",
            " [-1.00895521e+00  1.00000000e+00]\n",
            " [-9.14911816e-01  1.00000000e+00]\n",
            " [-5.32327875e-01  1.00000000e+00]\n",
            " [ 9.74874549e-01  1.00000000e+00]\n",
            " [-4.10910791e+00  0.00000000e+00]\n",
            " [-2.23104553e+00  0.00000000e+00]\n",
            " [-5.54449452e+00  1.00000000e+00]\n",
            " [-3.36713342e+00  0.00000000e+00]\n",
            " [-9.44993219e-01  1.00000000e+00]\n",
            " [-5.63019792e+00  1.00000000e+00]\n",
            " [-1.86024671e+00  0.00000000e+00]\n",
            " [-2.65977759e+00  0.00000000e+00]\n",
            " [-1.17829749e+00  1.00000000e+00]\n",
            " [-4.81607587e+00  1.00000000e+00]\n",
            " [-3.96265323e+00  0.00000000e+00]\n",
            " [ 1.41353601e-01  1.00000000e+00]\n",
            " [-4.66998839e+00  0.00000000e+00]\n",
            " [-2.60008341e+00  0.00000000e+00]\n",
            " [-7.82737723e-03  1.00000000e+00]\n",
            " [-4.57594332e+00  1.00000000e+00]\n",
            " [-1.87429665e+00  0.00000000e+00]\n",
            " [-1.57851247e+00  0.00000000e+00]\n",
            " [-3.77873222e+00  0.00000000e+00]\n",
            " [-4.46535774e-01  1.00000000e+00]\n",
            " [-4.51510509e+00  1.00000000e+00]\n",
            " [-2.88383019e+00  0.00000000e+00]\n",
            " [-4.59225669e+00  0.00000000e+00]\n",
            " [-2.48852287e+00  0.00000000e+00]\n",
            " [-1.57589087e+00  1.00000000e+00]\n",
            " [-3.68492738e+00  0.00000000e+00]\n",
            " [-2.67199213e+00  0.00000000e+00]\n",
            " [-4.56004468e+00  1.00000000e+00]\n",
            " [-1.77073022e+00  1.00000000e+00]\n",
            " [-7.75056411e-01  1.00000000e+00]\n",
            " [-4.29463631e+00  1.00000000e+00]\n",
            " [-2.25683023e+00  0.00000000e+00]\n",
            " [-2.02736724e+00  0.00000000e+00]\n",
            " [-2.08596832e+00  0.00000000e+00]\n",
            " [-2.12056247e+00  0.00000000e+00]\n",
            " [-1.49484221e+00  1.00000000e+00]\n",
            " [-3.55524144e+00  0.00000000e+00]\n",
            " [-3.93125874e+00  0.00000000e+00]\n",
            " [-5.02481406e+00  0.00000000e+00]\n",
            " [-6.83217630e+00  1.00000000e+00]\n",
            " [-2.77869949e+00  0.00000000e+00]\n",
            " [-6.40746336e+00  1.00000000e+00]\n",
            " [-3.09735811e+00  0.00000000e+00]\n",
            " [-4.03537732e+00  0.00000000e+00]\n",
            " [-3.35051372e+00  0.00000000e+00]\n",
            " [-2.94358007e+00  0.00000000e+00]\n",
            " [-2.82369950e+00  0.00000000e+00]\n",
            " [-1.40338153e+00  1.00000000e+00]\n",
            " [-5.67597415e+00  1.00000000e+00]\n",
            " [-4.02281243e+00  0.00000000e+00]\n",
            " [-1.31766979e+00  1.00000000e+00]\n",
            " [-6.34645402e+00  1.00000000e+00]\n",
            " [-3.00555118e+00  0.00000000e+00]\n",
            " [ 3.88017990e-01  1.00000000e+00]\n",
            " [ 8.17664950e-01  1.00000000e+00]\n",
            " [-2.05139307e+00  0.00000000e+00]\n",
            " [-5.39761484e+00  1.00000000e+00]\n",
            " [-2.99462264e+00  0.00000000e+00]\n",
            " [-2.51530713e+00  0.00000000e+00]\n",
            " [-4.32320344e+00  1.00000000e+00]\n",
            " [-3.33086808e+00  0.00000000e+00]\n",
            " [ 2.05091625e+00  1.00000000e+00]\n",
            " [-8.08548890e-01  1.00000000e+00]\n",
            " [-4.85701732e+00  1.00000000e+00]\n",
            " [-3.49161823e+00  0.00000000e+00]\n",
            " [-5.21874710e+00  1.00000000e+00]\n",
            " [ 7.49587140e-01  1.00000000e+00]\n",
            " [-3.62891547e+00  0.00000000e+00]\n",
            " [-3.49148381e+00  0.00000000e+00]\n",
            " [-3.23036499e-01  1.00000000e+00]\n",
            " [-5.54629072e+00  1.00000000e+00]\n",
            " [-6.11178068e+00  1.00000000e+00]\n",
            " [-7.16551088e+00  1.00000000e+00]\n",
            " [-4.68076582e+00  0.00000000e+00]\n",
            " [-6.21327680e+00  1.00000000e+00]\n",
            " [-3.67441644e+00  0.00000000e+00]\n",
            " [-4.37034621e+00  1.00000000e+00]\n",
            " [-1.54414654e+00  1.00000000e+00]\n",
            " [-3.89898760e+00  0.00000000e+00]\n",
            " [-4.73480724e+00  0.00000000e+00]\n",
            " [-7.10537571e+00  1.00000000e+00]\n",
            " [-3.54751713e+00  0.00000000e+00]\n",
            " [-3.61837361e+00  0.00000000e+00]\n",
            " [-4.15716940e+00  0.00000000e+00]\n",
            " [-1.97727695e+00  0.00000000e+00]\n",
            " [-2.13475092e+00  0.00000000e+00]\n",
            " [ 2.18302059e+00  1.00000000e+00]\n",
            " [-3.27063884e+00  0.00000000e+00]\n",
            " [-2.09641976e+00  0.00000000e+00]\n",
            " [-4.09798455e+00  0.00000000e+00]\n",
            " [-2.70694167e+00  0.00000000e+00]\n",
            " [-3.72839642e+00  0.00000000e+00]\n",
            " [-2.16391476e+00  0.00000000e+00]\n",
            " [-2.33823207e+00  0.00000000e+00]\n",
            " [-3.49096891e+00  0.00000000e+00]\n",
            " [-6.83972239e-01  1.00000000e+00]\n",
            " [-3.10283208e+00  0.00000000e+00]\n",
            " [-3.77574665e+00  0.00000000e+00]\n",
            " [-1.42751551e+00  1.00000000e+00]\n",
            " [-7.57285331e+00  1.00000000e+00]\n",
            " [-4.21072535e+00  1.00000000e+00]\n",
            " [-5.60477208e+00  1.00000000e+00]\n",
            " [-3.19116825e+00  0.00000000e+00]\n",
            " [ 7.83671803e-01  1.00000000e+00]\n",
            " [-2.77988608e+00  0.00000000e+00]\n",
            " [-4.37628989e+00  0.00000000e+00]\n",
            " [-2.91415951e+00  0.00000000e+00]\n",
            " [-4.48232434e+00  1.00000000e+00]\n",
            " [-4.91838128e+00  0.00000000e+00]\n",
            " [-3.43826595e+00  0.00000000e+00]\n",
            " [-4.42897402e-01  1.00000000e+00]\n",
            " [-1.24702108e+00  0.00000000e+00]\n",
            " [-4.81384002e+00  1.00000000e+00]\n",
            " [-1.37991743e+00  1.00000000e+00]\n",
            " [-5.54971318e+00  1.00000000e+00]\n",
            " [-3.47423561e+00  0.00000000e+00]\n",
            " [-3.50984906e+00  0.00000000e+00]\n",
            " [-2.42111994e+00  0.00000000e+00]\n",
            " [-5.49881478e-01  1.00000000e+00]\n",
            " [-5.33360736e-01  1.00000000e+00]\n",
            " [-2.62988876e+00  0.00000000e+00]\n",
            " [-4.14801589e+00  0.00000000e+00]\n",
            " [-4.25368730e+00  0.00000000e+00]\n",
            " [-1.11135334e+00  1.00000000e+00]\n",
            " [-3.01485390e+00  0.00000000e+00]\n",
            " [-3.79490766e+00  0.00000000e+00]\n",
            " [-8.46022210e-01  1.00000000e+00]\n",
            " [-4.70937522e-01  1.00000000e+00]\n",
            " [ 3.06204794e-01  1.00000000e+00]\n",
            " [-3.58021815e+00  0.00000000e+00]\n",
            " [-2.12824165e+00  0.00000000e+00]\n",
            " [-3.89167352e+00  1.00000000e+00]\n",
            " [-3.35304615e+00  0.00000000e+00]\n",
            " [-1.19028233e+00  1.00000000e+00]\n",
            " [-7.93705994e-01  1.00000000e+00]\n",
            " [-3.25526661e+00  0.00000000e+00]\n",
            " [-3.70408218e+00  0.00000000e+00]\n",
            " [-2.74001420e+00  0.00000000e+00]\n",
            " [-2.62454608e+00  0.00000000e+00]\n",
            " [-1.81200760e+00  0.00000000e+00]\n",
            " [-5.79411648e+00  1.00000000e+00]\n",
            " [-2.77665636e+00  0.00000000e+00]\n",
            " [-1.85466228e+00  0.00000000e+00]\n",
            " [-4.30173544e+00  1.00000000e+00]\n",
            " [-5.79472946e+00  1.00000000e+00]\n",
            " [-1.76779194e+00  0.00000000e+00]\n",
            " [-3.71100160e+00  0.00000000e+00]\n",
            " [-6.79068523e+00  1.00000000e+00]\n",
            " [-3.68726664e+00  0.00000000e+00]\n",
            " [-1.32649745e+00  1.00000000e+00]\n",
            " [-3.20236669e+00  0.00000000e+00]\n",
            " [-3.78894330e+00  0.00000000e+00]\n",
            " [-4.50323902e+00  1.00000000e+00]\n",
            " [ 7.97527323e-01  1.00000000e+00]\n",
            " [-4.95132307e+00  1.00000000e+00]\n",
            " [-1.99876834e+00  0.00000000e+00]\n",
            " [ 9.84705957e-01  1.00000000e+00]\n",
            " [-5.38284428e+00  1.00000000e+00]\n",
            " [-4.65375004e+00  0.00000000e+00]\n",
            " [ 1.15715908e+00  1.00000000e+00]\n",
            " [-6.89770012e+00  1.00000000e+00]\n",
            " [ 1.54430028e+00  1.00000000e+00]\n",
            " [-5.27875548e-01  1.00000000e+00]\n",
            " [-3.82428786e+00  0.00000000e+00]\n",
            " [-4.99452635e+00  1.00000000e+00]\n",
            " [-3.40194554e+00  0.00000000e+00]\n",
            " [-3.85693950e+00  0.00000000e+00]\n",
            " [-1.91442588e+00  0.00000000e+00]\n",
            " [-1.87752184e+00  1.00000000e+00]\n",
            " [-6.65578183e-01  1.00000000e+00]\n",
            " [-2.35853646e+00  0.00000000e+00]\n",
            " [-1.43176463e+00  1.00000000e+00]\n",
            " [-1.63336726e+00  1.00000000e+00]\n",
            " [-2.10400808e+00  0.00000000e+00]\n",
            " [-3.82029165e+00  1.00000000e+00]\n",
            " [-3.96112712e+00  0.00000000e+00]\n",
            " [-2.47990816e+00  0.00000000e+00]\n",
            " [-2.57227075e+00  0.00000000e+00]\n",
            " [-3.82485866e+00  0.00000000e+00]\n",
            " [-7.15925381e-01  1.00000000e+00]\n",
            " [-3.61572938e+00  0.00000000e+00]\n",
            " [ 1.03994036e+00  1.00000000e+00]\n",
            " [-1.38957236e+00  1.00000000e+00]\n",
            " [-2.22510907e+00  0.00000000e+00]\n",
            " [-3.19410607e+00  0.00000000e+00]\n",
            " [-6.88294402e+00  1.00000000e+00]\n",
            " [-3.08065099e+00  0.00000000e+00]\n",
            " [-1.07449205e+00  1.00000000e+00]\n",
            " [-3.82605761e+00  0.00000000e+00]\n",
            " [-4.82976994e+00  1.00000000e+00]\n",
            " [-2.59321678e+00  0.00000000e+00]\n",
            " [-4.90055723e-01  1.00000000e+00]\n",
            " [-1.41768396e+00  0.00000000e+00]\n",
            " [-3.81399837e+00  0.00000000e+00]\n",
            " [-1.56218158e+00  1.00000000e+00]\n",
            " [-4.33389840e+00  1.00000000e+00]\n",
            " [-3.80984777e+00  0.00000000e+00]\n",
            " [-2.21464686e+00  0.00000000e+00]\n",
            " [-5.47313925e+00  1.00000000e+00]\n",
            " [-7.25402106e+00  1.00000000e+00]\n",
            " [-2.66127925e+00  0.00000000e+00]\n",
            " [-1.45022822e+00  1.00000000e+00]\n",
            " [-3.02588179e+00  0.00000000e+00]\n",
            " [-4.12172069e+00  0.00000000e+00]\n",
            " [-3.46118884e-01  1.00000000e+00]\n",
            " [-4.50985308e+00  0.00000000e+00]\n",
            " [-1.04345906e+00  1.00000000e+00]\n",
            " [-4.73194868e+00  1.00000000e+00]\n",
            " [-4.41371098e+00  1.00000000e+00]\n",
            " [-1.09122855e+00  1.00000000e+00]\n",
            " [-1.43939418e+00  1.00000000e+00]\n",
            " [-2.52012070e+00  0.00000000e+00]\n",
            " [-6.03870154e-01  1.00000000e+00]\n",
            " [-3.13379522e+00  0.00000000e+00]\n",
            " [-2.73846845e+00  0.00000000e+00]\n",
            " [-4.45832436e+00  0.00000000e+00]\n",
            " [-4.22424477e+00  0.00000000e+00]\n",
            " [-8.28903907e-01  1.00000000e+00]\n",
            " [-4.01518170e+00  0.00000000e+00]\n",
            " [-2.69923537e+00  0.00000000e+00]\n",
            " [-7.85466253e+00  1.00000000e+00]\n",
            " [-3.86245134e-01  1.00000000e+00]\n",
            " [-5.57256526e+00  1.00000000e+00]\n",
            " [-2.25911688e+00  0.00000000e+00]\n",
            " [ 5.18062361e-03  1.00000000e+00]\n",
            " [-2.35288413e+00  0.00000000e+00]\n",
            " [-6.16633120e+00  1.00000000e+00]\n",
            " [-3.72700376e+00  0.00000000e+00]\n",
            " [-5.87156926e+00  1.00000000e+00]\n",
            " [-2.28665563e+00  0.00000000e+00]\n",
            " [-6.43879035e+00  1.00000000e+00]\n",
            " [-1.86248480e+00  0.00000000e+00]\n",
            " [-3.90983881e+00  0.00000000e+00]\n",
            " [-1.60017272e+00  1.00000000e+00]\n",
            " [-4.08139780e+00  0.00000000e+00]\n",
            " [-6.52470261e+00  1.00000000e+00]\n",
            " [-4.35450078e+00  1.00000000e+00]\n",
            " [-5.05486389e+00  0.00000000e+00]\n",
            " [-1.89212909e+00  0.00000000e+00]\n",
            " [-6.02077878e+00  1.00000000e+00]\n",
            " [-2.33537719e+00  0.00000000e+00]\n",
            " [-1.94452141e+00  0.00000000e+00]\n",
            " [-4.50133901e+00  0.00000000e+00]\n",
            " [-4.28788164e+00  0.00000000e+00]\n",
            " [-1.22453784e+00  1.00000000e+00]\n",
            " [-1.83340272e+00  1.00000000e+00]\n",
            " [-1.46411036e+00  1.00000000e+00]\n",
            " [-3.86526574e+00  0.00000000e+00]\n",
            " [-5.30004119e+00  1.00000000e+00]\n",
            " [-6.21457188e-01  1.00000000e+00]\n",
            " [-4.84130434e+00  1.00000000e+00]\n",
            " [-2.37174327e+00  0.00000000e+00]\n",
            " [-4.60017004e+00  1.00000000e+00]\n",
            " [-4.50726295e-01  1.00000000e+00]\n",
            " [-1.95587790e+00  0.00000000e+00]\n",
            " [-3.29067218e+00  0.00000000e+00]\n",
            " [-2.96619510e+00  0.00000000e+00]\n",
            " [-3.60811513e+00  0.00000000e+00]\n",
            " [-3.23319805e+00  0.00000000e+00]\n",
            " [-2.70025538e+00  0.00000000e+00]\n",
            " [-3.98986854e+00  1.00000000e+00]\n",
            " [-8.42377486e+00  1.00000000e+00]\n",
            " [-2.51981993e+00  0.00000000e+00]\n",
            " [-4.68822875e+00  1.00000000e+00]\n",
            " [-1.93294422e-01  1.00000000e+00]\n",
            " [-2.65557721e+00  0.00000000e+00]\n",
            " [-1.69600227e+00  0.00000000e+00]\n",
            " [-5.72116396e+00  1.00000000e+00]\n",
            " [-2.94514108e+00  0.00000000e+00]\n",
            " [-4.81193902e+00  1.00000000e+00]\n",
            " [-1.63161265e+00  0.00000000e+00]\n",
            " [-2.12935731e+00  0.00000000e+00]\n",
            " [-9.15635679e-01  1.00000000e+00]\n",
            " [-1.78632323e+00  0.00000000e+00]\n",
            " [-4.18559760e+00  0.00000000e+00]\n",
            " [-3.76671865e+00  0.00000000e+00]\n",
            " [-2.22109045e+00  0.00000000e+00]\n",
            " [-8.97135100e+00  1.00000000e+00]\n",
            " [-5.67832419e+00  1.00000000e+00]\n",
            " [-2.12397740e+00  0.00000000e+00]\n",
            " [-5.29505377e+00  1.00000000e+00]\n",
            " [-1.09014623e+00  1.00000000e+00]\n",
            " [-2.89454528e+00  0.00000000e+00]\n",
            " [-5.60222978e+00  1.00000000e+00]\n",
            " [-4.53949037e+00  1.00000000e+00]\n",
            " [-6.15898685e-01  1.00000000e+00]\n",
            " [-1.33915308e+00  0.00000000e+00]\n",
            " [-3.75093253e+00  0.00000000e+00]\n",
            " [-3.12616261e+00  0.00000000e+00]\n",
            " [-6.93627522e+00  1.00000000e+00]\n",
            " [-1.91116524e+00  0.00000000e+00]\n",
            " [-4.96533199e+00  1.00000000e+00]\n",
            " [-3.35742538e+00  0.00000000e+00]\n",
            " [ 3.64066494e-01  1.00000000e+00]\n",
            " [-9.59021871e-01  1.00000000e+00]\n",
            " [-7.45821837e+00  1.00000000e+00]\n",
            " [-7.34198126e+00  1.00000000e+00]\n",
            " [-3.12079781e+00  0.00000000e+00]\n",
            " [-3.43000133e+00  0.00000000e+00]\n",
            " [-5.67009506e+00  1.00000000e+00]\n",
            " [ 2.29280430e-02  1.00000000e+00]\n",
            " [-4.24237988e+00  0.00000000e+00]\n",
            " [-1.66606888e+00  0.00000000e+00]\n",
            " [ 1.27698198e+00  1.00000000e+00]\n",
            " [-2.60721012e+00  0.00000000e+00]\n",
            " [-1.05914867e+00  1.00000000e+00]\n",
            " [-9.03993989e-01  1.00000000e+00]\n",
            " [-2.98199937e+00  0.00000000e+00]\n",
            " [-1.60152186e+00  0.00000000e+00]\n",
            " [-1.75344280e+00  1.00000000e+00]\n",
            " [-4.97244186e+00  1.00000000e+00]\n",
            " [ 4.52027417e-01  1.00000000e+00]\n",
            " [-3.62231678e+00  0.00000000e+00]\n",
            " [-9.54285585e-01  1.00000000e+00]\n",
            " [-1.51800589e+00  0.00000000e+00]\n",
            " [-6.57003396e-01  1.00000000e+00]\n",
            " [-3.88005438e+00  0.00000000e+00]\n",
            " [-2.61482329e+00  0.00000000e+00]\n",
            " [-1.92727903e+00  0.00000000e+00]\n",
            " [-4.89083006e+00  1.00000000e+00]\n",
            " [-1.38218711e+00  1.00000000e+00]\n",
            " [ 9.43724695e-01  1.00000000e+00]\n",
            " [-2.08867655e+00  0.00000000e+00]\n",
            " [-3.56058567e+00  0.00000000e+00]\n",
            " [-3.21092294e+00  0.00000000e+00]\n",
            " [-5.69064089e+00  1.00000000e+00]\n",
            " [-7.61903371e-01  1.00000000e+00]\n",
            " [-1.55932180e+00  0.00000000e+00]\n",
            " [-4.63831048e+00  1.00000000e+00]\n",
            " [ 1.14010130e+00  1.00000000e+00]\n",
            " [ 7.25753205e-01  1.00000000e+00]\n",
            " [-4.23644848e-01  1.00000000e+00]\n",
            " [-3.53922323e+00  0.00000000e+00]\n",
            " [-3.53976580e+00  0.00000000e+00]\n",
            " [-3.29908857e+00  0.00000000e+00]\n",
            " [-7.87583908e+00  1.00000000e+00]\n",
            " [-7.45584674e+00  1.00000000e+00]\n",
            " [-4.05409285e+00  0.00000000e+00]\n",
            " [-4.15472980e+00  0.00000000e+00]\n",
            " [-5.56170832e-01  1.00000000e+00]\n",
            " [-1.77022844e+00  1.00000000e+00]\n",
            " [-4.70937461e+00  1.00000000e+00]\n",
            " [-4.47254791e+00  0.00000000e+00]\n",
            " [-7.29743437e-01  0.00000000e+00]\n",
            " [-4.19245656e+00  1.00000000e+00]\n",
            " [-1.77217721e+00  1.00000000e+00]\n",
            " [-4.17469629e+00  1.00000000e+00]\n",
            " [-2.98052873e+00  0.00000000e+00]\n",
            " [-1.31794264e+00  1.00000000e+00]\n",
            " [ 2.92799509e-01  1.00000000e+00]\n",
            " [-1.62356229e+00  0.00000000e+00]\n",
            " [-3.51322386e+00  0.00000000e+00]\n",
            " [ 9.30366724e-01  1.00000000e+00]\n",
            " [-1.36242148e+00  1.00000000e+00]\n",
            " [-4.70674762e+00  1.00000000e+00]\n",
            " [ 2.42354820e+00  1.00000000e+00]\n",
            " [-6.61480668e+00  1.00000000e+00]\n",
            " [-2.22991737e+00  0.00000000e+00]\n",
            " [-3.42940428e+00  0.00000000e+00]\n",
            " [-1.67522600e+00  1.00000000e+00]\n",
            " [-1.31273891e+00  1.00000000e+00]\n",
            " [-1.11879934e+00  1.00000000e+00]\n",
            " [ 6.51803333e-01  1.00000000e+00]\n",
            " [-2.21609657e-01  1.00000000e+00]\n",
            " [-2.52058094e+00  0.00000000e+00]\n",
            " [-1.35470295e+00  1.00000000e+00]\n",
            " [-1.75225101e+00  0.00000000e+00]\n",
            " [-2.69637633e+00  0.00000000e+00]\n",
            " [-5.73806484e+00  1.00000000e+00]\n",
            " [-2.83125403e+00  0.00000000e+00]\n",
            " [-2.30131441e+00  0.00000000e+00]\n",
            " [-2.66151580e+00  0.00000000e+00]]\n"
          ]
        }
      ],
      "source": [
        "# The dataset\n",
        "print(np.concatenate((X,y), axis=1, out=None))"
      ]
    },
    {
      "cell_type": "code",
      "execution_count": 5,
      "metadata": {
        "colab": {
          "base_uri": "https://localhost:8080/",
          "height": 336
        },
        "colab_type": "code",
        "id": "0wafCUVNb3ib",
        "outputId": "b7b92aaf-cf24-4cf6-ca80-fa14c3f97f16",
        "vscode": {
          "languageId": "python"
        }
      },
      "outputs": [
        {
          "data": {
            "image/png": "[encoded data removed]",
            "text/plain": [
              "<Figure size 360x360 with 1 Axes>"
            ]
          },
          "metadata": {
            "needs_background": "light",
            "tags": []
          },
          "output_type": "display_data"
        }
      ],
      "source": [
        "plt.figure(figsize=(5,5))\n",
        "plt.scatter(X[:, 0], np.zeros(len(X)), c=y)\n",
        "\n",
        "# plt.plot(x_test, clf.coef_ * x_test + clf.intercept_, linewidth=3)\n",
        "plt.title('Plot of Gaussian Quantile Dataset')\n",
        "plt.show()"
      ]
    },
    {
      "cell_type": "markdown",
      "metadata": {
        "colab_type": "text",
        "id": "sAp-oGwPaoDF"
      },
      "source": [
        "Above is a plot of the dataset we created. Yellow dots are class 1 and purple dots are class 0.\n",
        "### i.a.) Comment on how do you think logistic regression will perform when trying to classify this dataset."
      ]
    },
    {
      "attachments": {},
      "cell_type": "markdown",
      "metadata": {
        "colab_type": "text",
        "id": "MOvRdYaXc1n8"
      },
      "source": [
        "Without transforming the dataset, logistic regression will perform very poorly.\n",
        "The dataset in its current representation is not linearly seperable, so this will cause logistic regression to struggle with classifying it.  "
      ]
    },
    {
      "attachments": {},
      "cell_type": "markdown",
      "metadata": {
        "colab_type": "text",
        "id": "RktzTWbFviPd"
      },
      "source": [
        "### i.b.) Implement Logistic Regression\n",
        "Implement logistic regression using scikit learn on the dataset we created and train the model. \\\n",
        "You may refer to https://scikit-learn.org/stable/modules/generated/sklearn.linear_model.LogisticRegression.html for more information on scikit learn logistic regression."
      ]
    },
    {
      "cell_type": "code",
      "execution_count": 6,
      "metadata": {
        "colab": {},
        "colab_type": "code",
        "id": "Gml2kLo_qwBh",
        "vscode": {
          "languageId": "python"
        }
      },
      "outputs": [],
      "source": [
        "from sklearn.linear_model import LogisticRegression\n",
        "from sklearn.model_selection import train_test_split"
      ]
    },
    {
      "cell_type": "code",
      "execution_count": 7,
      "metadata": {
        "colab": {
          "base_uri": "https://localhost:8080/",
          "height": 111
        },
        "colab_type": "code",
        "id": "AGi4jjA3vj8R",
        "outputId": "31713d07-5c1a-456a-c525-f2163cee6c73",
        "vscode": {
          "languageId": "python"
        }
      },
      "outputs": [
        {
          "name": "stdout",
          "output_type": "stream",
          "text": [
            "Training Score:  0.7024390243902439\n",
            "Testing Score:  0.7555555555555555\n"
          ]
        },
        {
          "name": "stderr",
          "output_type": "stream",
          "text": [
            "/usr/local/lib/python3.6/dist-packages/sklearn/utils/validation.py:760: DataConversionWarning: A column-vector y was passed when a 1d array was expected. Please change the shape of y to (n_samples, ), for example using ravel().\n",
            "  y = column_or_1d(y, warn=True)\n"
          ]
        }
      ],
      "source": [
        "# Use the sklearn train test split function to generate the training and test sets.\n",
        "x_train, x_test, y_train, y_test = train_test_split(X, y, test_size=.18, random_state=1)\n",
        "# Call logistic regression form sklearn\n",
        "clf = LogisticRegression(penalty='l2', C=1.0, max_iter=100, solver='lbfgs').fit(x_train, y_train)\n",
        "print('Training Score: ', clf.score(x_train, y_train))\n",
        "print('Testing Score: ', clf.score(x_test, y_test))"
      ]
    },
    {
      "cell_type": "code",
      "execution_count": 8,
      "metadata": {
        "colab": {
          "base_uri": "https://localhost:8080/",
          "height": 336
        },
        "colab_type": "code",
        "id": "KPR9gDyn3rWD",
        "outputId": "717c18f3-d8af-455b-f869-264027cb5889",
        "vscode": {
          "languageId": "python"
        }
      },
      "outputs": [
        {
          "data": {
            "image/png": "[encoded data removed]",
            "text/plain": [
              "<Figure size 360x360 with 1 Axes>"
            ]
          },
          "metadata": {
            "needs_background": "light",
            "tags": []
          },
          "output_type": "display_data"
        }
      ],
      "source": [
        "# Plot results\n",
        "plt.figure(figsize=(5,5))\n",
        "plt.scatter(X[:, 0], np.zeros(len(X)), c=y)\n",
        "\n",
        "plt.plot(x_test, clf.coef_ * x_test + clf.intercept_, linewidth=3)\n",
        "plt.title('Plot of Gaussian Quantile Dataset and Regression Line')\n",
        "plt.show()"
      ]
    },
    {
      "cell_type": "markdown",
      "metadata": {
        "colab_type": "text",
        "id": "eR8VhvdacoU6"
      },
      "source": [
        "### i.c) How did we do?\n",
        "\n",
        "Please comment on the performance of the model you trained on training and test sets. Did you try adjusting the parameters? If so, did they help?"
      ]
    },
    {
      "attachments": {},
      "cell_type": "markdown",
      "metadata": {
        "colab_type": "text",
        "id": "eZyM3fMFcuw7"
      },
      "source": [
        "The model I settled for, resulted in a Training score of 70, and a Test score of ~76. I experimented with many parameters, like test_size, penalty, C, max_iter, and solver. For the most part, I was getting scores below or at .50. I noticed a smaller test_size resulted in higher scores, but I settled for a test_size parameter that netted an 'impressive' score, while not straying too far from the default setting of 0.25. The parameters observed for LogisticRegression() are actually default params. The bad performance is observed, as the blue line doesn't clearly seperate the purple dots from the yellow dots."
      ]
    },
    {
      "cell_type": "markdown",
      "metadata": {
        "colab_type": "text",
        "id": "7uXK2snqx1xp"
      },
      "source": [
        "## ii) Polynomial Transformation + Sign Classification\n",
        "Let's try some other models and see if they perform better. Recall from lecture the Binary \"Sign\" Classifier:\n",
        "$$\\begin{align}\n",
        "f(x)= sign({\\bf{\\theta}}\\cdot\\phi(x))=\\begin{cases} \n",
        "          1 & 0\\leq {\\bf{\\theta}} \\cdot\\phi(x)  \\\\\n",
        "          0 & {\\bf{\\theta}} \\cdot\\phi(x) < 0\n",
        "            \\end{cases}\n",
        "\\end{align}\n",
        "$$\n",
        "We will now use Binary Sign Classifier, along with polynomial and horizontal translation in order to learn out dataset. In the next couple of sections we will illustrate how to use polynomial and horizontal translation in order use the Sign Binary Classifier. \\\\\n",
        "** Note that we will classify an example as 1 if $0\\leq {\\bf{\\theta}} \\cdot\\phi(x)$"
      ]
    },
    {
      "cell_type": "markdown",
      "metadata": {
        "colab_type": "text",
        "id": "IMY0DB7X55aO"
      },
      "source": [
        "### Polynomial transformation example\n",
        "Let us first generate an example dataset."
      ]
    },
    {
      "cell_type": "code",
      "execution_count": 9,
      "metadata": {
        "colab": {},
        "colab_type": "code",
        "id": "dwXT-VFblzu3",
        "vscode": {
          "languageId": "python"
        }
      },
      "outputs": [],
      "source": [
        "# Create example data\n",
        "example_data = np.arange(-3,3,0.1).reshape(-1,1)\n",
        "# We will create some example labels. y=1 if x<-1 and 1<x and 0 otherwise\n",
        "example_y = np.array([1 if 1<x or x<-1 else 0 for x in example_data])"
      ]
    },
    {
      "cell_type": "markdown",
      "metadata": {
        "colab_type": "text",
        "id": "aWjcOZoD0c-T"
      },
      "source": [
        "From the plot below, we can see that this second data set is much like the dataset in part i."
      ]
    },
    {
      "cell_type": "code",
      "execution_count": 10,
      "metadata": {
        "colab": {
          "base_uri": "https://localhost:8080/",
          "height": 517
        },
        "colab_type": "code",
        "id": "AUAkH7xr0oUB",
        "outputId": "1941bcaa-7bb2-48c3-8db0-5b8b60e523da",
        "vscode": {
          "languageId": "python"
        }
      },
      "outputs": [
        {
          "data": {
            "text/plain": [
              "<function matplotlib.pyplot.show>"
            ]
          },
          "execution_count": 10,
          "metadata": {
            "tags": []
          },
          "output_type": "execute_result"
        },
        {
          "data": {
            "image/png": "[encoded data removed]",
            "text/plain": [
              "<Figure size 576x576 with 1 Axes>"
            ]
          },
          "metadata": {
            "needs_background": "light",
            "tags": []
          },
          "output_type": "display_data"
        }
      ],
      "source": [
        "import warnings\n",
        "warnings.filterwarnings(\"ignore\")\n",
        "plt.figure(figsize=(8,8))\n",
        "plt.scatter(np.arange(-3,3,0.1).reshape(-1,1),np.zeros(len(example_data)), c=example_y)\n",
        "plt.title('Plot of Example Dataset')\n",
        "plt.show"
      ]
    },
    {
      "attachments": {},
      "cell_type": "markdown",
      "metadata": {
        "colab_type": "text",
        "id": "QFEDJXim05Wn"
      },
      "source": [
        "Next, we'll now begin implementing the polynomial transformation. We begin by using scikit learn to carry polynomial transform on an example dataset. We'll also define the score variable $\\hat{y_i}={\\bf{\\theta}}\\cdot\\phi(x)$ as:\n",
        "\n",
        "$$\n",
        "\\begin{align}\n",
        "\\hat{y_i}={\\bf{\\theta}}\\cdot\\phi(x_i) &= \\theta_{0} + \\theta_{1} \\phi_1(x_i)+\\theta_{2} \\phi_2(x_i)+...+\\theta_{d} \\phi_d(x_i) \\\\\n",
        "&=\\theta_{0} + \\theta_{1} x_i+\\theta_{2} x_i^2+...+\\theta_{d} x_i^d\n",
        "\\end{align}\n",
        "$$\n",
        "where $i$ is the sample number $\\phi_j(x)=x^j$, where $j$ is a power, and ${\\bf{\\theta}}$ is a weight vector that is the length of $d$ (more on ${\\bf{\\theta}}$ later). To tie it all back together, the $i^{th}$ sample will be labelled as 1 if $0 \\leq \\hat{y}_i$ and 0 if $0>\\hat{y}_i$.\n",
        "\n",
        "\n",
        "The first step will then be to compute the polynomial transform. Our data is in the form\n",
        "$$X =\n",
        "\\begin{bmatrix}\n",
        "    x_{1}\\\\\n",
        "    x_{2}\\\\\n",
        "    \\vdots \\\\\n",
        "    x_{n} \n",
        "\\end{bmatrix}$$\n",
        "Using second degree polynomials we transform it into:\n",
        "$$X =\\begin{bmatrix}\n",
        "    1&x_{1} & x_{1}^2\\\\\n",
        "    1&x_{2}& x_{2}^2\\\\\n",
        "    \\vdots & \\vdots & \\vdots \\\\\n",
        "    1&x_{n}& x_{n}^2\n",
        "\\end{bmatrix}$$\n",
        "More information here on scikit learn polynomial transformation: https://scikit-learn.org/stable/modules/generated/sklearn.preprocessing.PolynomialFeatures.html"
      ]
    },
    {
      "cell_type": "code",
      "execution_count": 11,
      "metadata": {
        "colab": {},
        "colab_type": "code",
        "id": "XReiMjGk12N9",
        "vscode": {
          "languageId": "python"
        }
      },
      "outputs": [],
      "source": [
        "from sklearn.preprocessing import PolynomialFeatures\n",
        "# We will use a polynomial of 2nd degree for this example.\n",
        "poly = PolynomialFeatures(2)"
      ]
    },
    {
      "cell_type": "code",
      "execution_count": 12,
      "metadata": {
        "colab": {},
        "colab_type": "code",
        "id": "sCddEA3g4NaH",
        "vscode": {
          "languageId": "python"
        }
      },
      "outputs": [],
      "source": [
        "# Next we fit the polynomial transform\n",
        "example_X = poly.fit_transform(example_data)"
      ]
    },
    {
      "cell_type": "code",
      "execution_count": 13,
      "metadata": {
        "colab": {
          "base_uri": "https://localhost:8080/",
          "height": 1000
        },
        "colab_type": "code",
        "id": "viAyi8iNhPQG",
        "outputId": "94d08540-a146-49c8-b292-5ecc4a1b45d2",
        "vscode": {
          "languageId": "python"
        }
      },
      "outputs": [
        {
          "data": {
            "text/plain": [
              "array([[-3.00000000e+00],\n",
              "       [-2.90000000e+00],\n",
              "       [-2.80000000e+00],\n",
              "       [-2.70000000e+00],\n",
              "       [-2.60000000e+00],\n",
              "       [-2.50000000e+00],\n",
              "       [-2.40000000e+00],\n",
              "       [-2.30000000e+00],\n",
              "       [-2.20000000e+00],\n",
              "       [-2.10000000e+00],\n",
              "       [-2.00000000e+00],\n",
              "       [-1.90000000e+00],\n",
              "       [-1.80000000e+00],\n",
              "       [-1.70000000e+00],\n",
              "       [-1.60000000e+00],\n",
              "       [-1.50000000e+00],\n",
              "       [-1.40000000e+00],\n",
              "       [-1.30000000e+00],\n",
              "       [-1.20000000e+00],\n",
              "       [-1.10000000e+00],\n",
              "       [-1.00000000e+00],\n",
              "       [-9.00000000e-01],\n",
              "       [-8.00000000e-01],\n",
              "       [-7.00000000e-01],\n",
              "       [-6.00000000e-01],\n",
              "       [-5.00000000e-01],\n",
              "       [-4.00000000e-01],\n",
              "       [-3.00000000e-01],\n",
              "       [-2.00000000e-01],\n",
              "       [-1.00000000e-01],\n",
              "       [ 2.66453526e-15],\n",
              "       [ 1.00000000e-01],\n",
              "       [ 2.00000000e-01],\n",
              "       [ 3.00000000e-01],\n",
              "       [ 4.00000000e-01],\n",
              "       [ 5.00000000e-01],\n",
              "       [ 6.00000000e-01],\n",
              "       [ 7.00000000e-01],\n",
              "       [ 8.00000000e-01],\n",
              "       [ 9.00000000e-01],\n",
              "       [ 1.00000000e+00],\n",
              "       [ 1.10000000e+00],\n",
              "       [ 1.20000000e+00],\n",
              "       [ 1.30000000e+00],\n",
              "       [ 1.40000000e+00],\n",
              "       [ 1.50000000e+00],\n",
              "       [ 1.60000000e+00],\n",
              "       [ 1.70000000e+00],\n",
              "       [ 1.80000000e+00],\n",
              "       [ 1.90000000e+00],\n",
              "       [ 2.00000000e+00],\n",
              "       [ 2.10000000e+00],\n",
              "       [ 2.20000000e+00],\n",
              "       [ 2.30000000e+00],\n",
              "       [ 2.40000000e+00],\n",
              "       [ 2.50000000e+00],\n",
              "       [ 2.60000000e+00],\n",
              "       [ 2.70000000e+00],\n",
              "       [ 2.80000000e+00],\n",
              "       [ 2.90000000e+00]])"
            ]
          },
          "execution_count": 13,
          "metadata": {
            "tags": []
          },
          "output_type": "execute_result"
        }
      ],
      "source": [
        "example_data"
      ]
    },
    {
      "cell_type": "code",
      "execution_count": 14,
      "metadata": {
        "colab": {
          "base_uri": "https://localhost:8080/",
          "height": 1000
        },
        "colab_type": "code",
        "id": "DVPutfv5hK_q",
        "outputId": "9b2de991-de2b-472d-a8fc-7978a4148f08",
        "vscode": {
          "languageId": "python"
        }
      },
      "outputs": [
        {
          "data": {
            "text/plain": [
              "array([[ 1.00000000e+00, -3.00000000e+00,  9.00000000e+00],\n",
              "       [ 1.00000000e+00, -2.90000000e+00,  8.41000000e+00],\n",
              "       [ 1.00000000e+00, -2.80000000e+00,  7.84000000e+00],\n",
              "       [ 1.00000000e+00, -2.70000000e+00,  7.29000000e+00],\n",
              "       [ 1.00000000e+00, -2.60000000e+00,  6.76000000e+00],\n",
              "       [ 1.00000000e+00, -2.50000000e+00,  6.25000000e+00],\n",
              "       [ 1.00000000e+00, -2.40000000e+00,  5.76000000e+00],\n",
              "       [ 1.00000000e+00, -2.30000000e+00,  5.29000000e+00],\n",
              "       [ 1.00000000e+00, -2.20000000e+00,  4.84000000e+00],\n",
              "       [ 1.00000000e+00, -2.10000000e+00,  4.41000000e+00],\n",
              "       [ 1.00000000e+00, -2.00000000e+00,  4.00000000e+00],\n",
              "       [ 1.00000000e+00, -1.90000000e+00,  3.61000000e+00],\n",
              "       [ 1.00000000e+00, -1.80000000e+00,  3.24000000e+00],\n",
              "       [ 1.00000000e+00, -1.70000000e+00,  2.89000000e+00],\n",
              "       [ 1.00000000e+00, -1.60000000e+00,  2.56000000e+00],\n",
              "       [ 1.00000000e+00, -1.50000000e+00,  2.25000000e+00],\n",
              "       [ 1.00000000e+00, -1.40000000e+00,  1.96000000e+00],\n",
              "       [ 1.00000000e+00, -1.30000000e+00,  1.69000000e+00],\n",
              "       [ 1.00000000e+00, -1.20000000e+00,  1.44000000e+00],\n",
              "       [ 1.00000000e+00, -1.10000000e+00,  1.21000000e+00],\n",
              "       [ 1.00000000e+00, -1.00000000e+00,  1.00000000e+00],\n",
              "       [ 1.00000000e+00, -9.00000000e-01,  8.10000000e-01],\n",
              "       [ 1.00000000e+00, -8.00000000e-01,  6.40000000e-01],\n",
              "       [ 1.00000000e+00, -7.00000000e-01,  4.90000000e-01],\n",
              "       [ 1.00000000e+00, -6.00000000e-01,  3.60000000e-01],\n",
              "       [ 1.00000000e+00, -5.00000000e-01,  2.50000000e-01],\n",
              "       [ 1.00000000e+00, -4.00000000e-01,  1.60000000e-01],\n",
              "       [ 1.00000000e+00, -3.00000000e-01,  9.00000000e-02],\n",
              "       [ 1.00000000e+00, -2.00000000e-01,  4.00000000e-02],\n",
              "       [ 1.00000000e+00, -1.00000000e-01,  1.00000000e-02],\n",
              "       [ 1.00000000e+00,  2.66453526e-15,  7.09974815e-30],\n",
              "       [ 1.00000000e+00,  1.00000000e-01,  1.00000000e-02],\n",
              "       [ 1.00000000e+00,  2.00000000e-01,  4.00000000e-02],\n",
              "       [ 1.00000000e+00,  3.00000000e-01,  9.00000000e-02],\n",
              "       [ 1.00000000e+00,  4.00000000e-01,  1.60000000e-01],\n",
              "       [ 1.00000000e+00,  5.00000000e-01,  2.50000000e-01],\n",
              "       [ 1.00000000e+00,  6.00000000e-01,  3.60000000e-01],\n",
              "       [ 1.00000000e+00,  7.00000000e-01,  4.90000000e-01],\n",
              "       [ 1.00000000e+00,  8.00000000e-01,  6.40000000e-01],\n",
              "       [ 1.00000000e+00,  9.00000000e-01,  8.10000000e-01],\n",
              "       [ 1.00000000e+00,  1.00000000e+00,  1.00000000e+00],\n",
              "       [ 1.00000000e+00,  1.10000000e+00,  1.21000000e+00],\n",
              "       [ 1.00000000e+00,  1.20000000e+00,  1.44000000e+00],\n",
              "       [ 1.00000000e+00,  1.30000000e+00,  1.69000000e+00],\n",
              "       [ 1.00000000e+00,  1.40000000e+00,  1.96000000e+00],\n",
              "       [ 1.00000000e+00,  1.50000000e+00,  2.25000000e+00],\n",
              "       [ 1.00000000e+00,  1.60000000e+00,  2.56000000e+00],\n",
              "       [ 1.00000000e+00,  1.70000000e+00,  2.89000000e+00],\n",
              "       [ 1.00000000e+00,  1.80000000e+00,  3.24000000e+00],\n",
              "       [ 1.00000000e+00,  1.90000000e+00,  3.61000000e+00],\n",
              "       [ 1.00000000e+00,  2.00000000e+00,  4.00000000e+00],\n",
              "       [ 1.00000000e+00,  2.10000000e+00,  4.41000000e+00],\n",
              "       [ 1.00000000e+00,  2.20000000e+00,  4.84000000e+00],\n",
              "       [ 1.00000000e+00,  2.30000000e+00,  5.29000000e+00],\n",
              "       [ 1.00000000e+00,  2.40000000e+00,  5.76000000e+00],\n",
              "       [ 1.00000000e+00,  2.50000000e+00,  6.25000000e+00],\n",
              "       [ 1.00000000e+00,  2.60000000e+00,  6.76000000e+00],\n",
              "       [ 1.00000000e+00,  2.70000000e+00,  7.29000000e+00],\n",
              "       [ 1.00000000e+00,  2.80000000e+00,  7.84000000e+00],\n",
              "       [ 1.00000000e+00,  2.90000000e+00,  8.41000000e+00]])"
            ]
          },
          "execution_count": 14,
          "metadata": {
            "tags": []
          },
          "output_type": "execute_result"
        }
      ],
      "source": [
        "example_X "
      ]
    },
    {
      "cell_type": "markdown",
      "metadata": {
        "colab_type": "text",
        "id": "jMJ-_rSWvGuk"
      },
      "source": [
        "Next, we compute the vector $\\hat{y}=\\phi(x) {\\bf{\\theta}}$ by multiplying the matrices $\\phi(x)$ and ${\\bf{\\theta}}$. ${\\bf{\\theta}}$ is a weight vector that determines the value of the bias and the scale of the polynomial transformations. We will manually adjust these values to try to get a good fit using Binary Sign Classification model. The plus side of using ${\\bf{\\theta}}$ is that we can drop unwanted terms from prediction $h_i=sign(\\hat{y}_i)$. For example we will implement computing the array of scores $\\hat{y}$ as\n",
        "$$\n",
        "\\begin{align}\n",
        "\\hat{y}=\\phi(x) {\\bf{\\theta}}= \\begin{bmatrix}\n",
        "    1&x_{1} & x_{1}^2\\\\\n",
        "    1&x_{2}& x_{2}^2\\\\\n",
        "    \\vdots & \\vdots & \\vdots \\\\\n",
        "    1&x_{n}& x_{n}^2\n",
        "\\end{bmatrix}\n",
        "\\begin{bmatrix}\n",
        "    0\\\\\n",
        "    0\\\\\n",
        "    1\n",
        "\\end{bmatrix}=\\begin{bmatrix}\n",
        "     x_{1}^2\\\\\n",
        "     x_{2}^2\\\\\n",
        "    \\vdots\\\\\n",
        "     x_{n}^2\n",
        "\\end{bmatrix}\n",
        "\\end{align}\n",
        "$$"
      ]
    },
    {
      "cell_type": "code",
      "execution_count": 15,
      "metadata": {
        "colab": {},
        "colab_type": "code",
        "id": "ZhWO2pnt31q6",
        "vscode": {
          "languageId": "python"
        }
      },
      "outputs": [],
      "source": [
        "# We compute y_hat\n",
        "theta = np.array([0,0,1])\n",
        "y_hat = np.matmul(example_X,theta)"
      ]
    },
    {
      "cell_type": "markdown",
      "metadata": {
        "colab_type": "text",
        "id": "EZdO9U7C0Kih"
      },
      "source": [
        "Now we'll plot our data "
      ]
    },
    {
      "cell_type": "code",
      "execution_count": 16,
      "metadata": {
        "colab": {
          "base_uri": "https://localhost:8080/",
          "height": 517
        },
        "colab_type": "code",
        "id": "4aLT9gLn4Kd0",
        "outputId": "2b76eb31-62f0-4c77-80aa-eff6fdfa1bf5",
        "vscode": {
          "languageId": "python"
        }
      },
      "outputs": [
        {
          "data": {
            "text/plain": [
              "<function matplotlib.pyplot.show>"
            ]
          },
          "execution_count": 16,
          "metadata": {
            "tags": []
          },
          "output_type": "execute_result"
        },
        {
          "data": {
            "image/png": "[encoded data removed]",
            "text/plain": [
              "<Figure size 576x576 with 1 Axes>"
            ]
          },
          "metadata": {
            "needs_background": "light",
            "tags": []
          },
          "output_type": "display_data"
        }
      ],
      "source": [
        "plt.figure(figsize=(8,8))\n",
        "plt.scatter(np.arange(-3,3,0.1).reshape(-1,1) ,y_hat, c=example_y)\n",
        "plt.title('Plot of Polynomial Transformation of Example Dataset')\n",
        "plt.show"
      ]
    },
    {
      "cell_type": "markdown",
      "metadata": {
        "colab_type": "text",
        "id": "HpqZB0AE1w8i"
      },
      "source": [
        "We can see that if we simply move this new curve down, we classify most of the examples correctly using the Binary Sign classifier. We'll do so by adjusting ${\\bf{\\theta}}$ so that the second degree polynomial term is moved down slightly by calculating:\n",
        "$$\n",
        "\\begin{align}\n",
        "\\hat{y}=\\phi(x) {\\bf{\\theta}}= \\begin{bmatrix}\n",
        "    1&x_{1} & x_{1}^2\\\\\n",
        "    1&x_{2}& x_{2}^2\\\\\n",
        "    \\vdots & \\vdots & \\vdots \\\\\n",
        "    1&x_{n}& x_{n}^2\n",
        "\\end{bmatrix}\n",
        "\\begin{bmatrix}\n",
        "    -0.9\\\\\n",
        "    0\\\\\n",
        "    1\n",
        "\\end{bmatrix}=\\begin{bmatrix}\n",
        "     x_{1}^2-0.9\\\\\n",
        "     x_{2}^2-0.9\\\\\n",
        "    \\vdots\\\\\n",
        "     x_{n}^2\n",
        "-0.9\\end{bmatrix}\n",
        "\\end{align}\n",
        "$$"
      ]
    },
    {
      "cell_type": "code",
      "execution_count": 17,
      "metadata": {
        "colab": {
          "base_uri": "https://localhost:8080/",
          "height": 517
        },
        "colab_type": "code",
        "id": "3vgMGnRp4hrW",
        "outputId": "6af134ce-5e3e-49eb-e203-b540695dd554",
        "vscode": {
          "languageId": "python"
        }
      },
      "outputs": [
        {
          "data": {
            "text/plain": [
              "<function matplotlib.pyplot.show>"
            ]
          },
          "execution_count": 17,
          "metadata": {
            "tags": []
          },
          "output_type": "execute_result"
        },
        {
          "data": {
            "image/png": "[encoded data removed]",
            "text/plain": [
              "<Figure size 576x576 with 1 Axes>"
            ]
          },
          "metadata": {
            "needs_background": "light",
            "tags": []
          },
          "output_type": "display_data"
        }
      ],
      "source": [
        "# Change the weight value\n",
        "theta = np.array([-0.9,0,1])\n",
        "\n",
        "# Compute y_hat\n",
        "y_hat = np.matmul(example_X,theta)\n",
        "\n",
        "# Plot\n",
        "import matplotlib.patches as mpatches\n",
        "plt.figure(figsize=(8,8))\n",
        "arr1 = plt.scatter(np.arange(-3,3,0.1).reshape(-1,1) ,y_hat, c=example_y)\n",
        "y_lim = plt.ylim()\n",
        "x_lim = plt.xlim()\n",
        "arr2 = plt.plot(x_lim, (0,0), 'k-', color = 'r')\n",
        "plt.ylim(y_lim)\n",
        "plt.xlim(x_lim)\n",
        "plt.legend([arr1, arr2], ['u','v'])\n",
        "red_patch = mpatches.Patch(color='red', label='Y-axis',linestyle ='-')\n",
        "plt.legend(handles=[red_patch],loc='lower right', frameon=False)\n",
        "plt.title('Plot of Polynomial Transformation of Example Dataset with y=0 decision boundary')\n",
        "plt.show"
      ]
    },
    {
      "cell_type": "markdown",
      "metadata": {
        "colab_type": "text",
        "id": "jblJfUpRAfFt"
      },
      "source": [
        "We can now see that if we were to classify the datapoints by the sign of $y_i$ that most of the data points would be correctly classified as those below the y-axis would be classified as 0 while the rest would be classified as 1."
      ]
    },
    {
      "cell_type": "markdown",
      "metadata": {
        "colab_type": "text",
        "id": "MvrmtQYo8eg_"
      },
      "source": [
        "### Second transformation example:\n",
        "In addition to implementing a polynomial transformation and moving it up or down, we can also move the transformation right or left using a simple yet tricky transformation. Recall that a function $f(x)$ can be moved right $q$ units by computing $f(x-q)$ or to the left by $q$ computing $f(x+q)$. We can also move the polynomial transform left or right in a similar fashion by letting $\\phi_j(x)=(x-q)^j$. Now we want to implement a right transform by choosing $q = 2$, carrying out a polynomial transforms, and shifting polynomial transforms down by 0.9. So to begin, we first want to transform the example_dataset into:\n",
        "\n",
        "$$X =\\begin{bmatrix}\n",
        "    1&(x_{1}-2) & (x_{1}-2)^2\\\\\n",
        "    1&(x_{2}-2)& (x_{2}-2)^2\\\\\n",
        "    \\vdots & \\vdots & \\vdots \\\\\n",
        "    1&(x_{n}-2)& (x_{n}-2)^2\n",
        "\\end{bmatrix}$$\n",
        "This should move our transformed value over to the right 2 units."
      ]
    },
    {
      "cell_type": "code",
      "execution_count": 18,
      "metadata": {
        "colab": {
          "base_uri": "https://localhost:8080/",
          "height": 517
        },
        "colab_type": "code",
        "id": "JSWSKXBXB1RK",
        "outputId": "d239e195-15c3-4021-e51c-480983838a6a",
        "vscode": {
          "languageId": "python"
        }
      },
      "outputs": [
        {
          "data": {
            "text/plain": [
              "<function matplotlib.pyplot.show>"
            ]
          },
          "execution_count": 18,
          "metadata": {
            "tags": []
          },
          "output_type": "execute_result"
        },
        {
          "data": {
            "image/png": "[encoded data removed]",
            "text/plain": [
              "<Figure size 576x576 with 1 Axes>"
            ]
          },
          "metadata": {
            "needs_background": "light",
            "tags": []
          },
          "output_type": "display_data"
        }
      ],
      "source": [
        "# First subtract 2 from each row in example_data\n",
        "example_X = example_data-2\n",
        "\n",
        "# Compute the 2nd degree polynomial transform\n",
        "example_X = poly.fit_transform(example_X)\n",
        "\n",
        "# Compute new y_hat with same theta as before\n",
        "theta = np.array([-0.9,0,1])\n",
        "y_hat = np.matmul(example_X,theta)\n",
        "\n",
        "# Plot\n",
        "import matplotlib.patches as mpatches\n",
        "plt.figure(figsize=(8,8))\n",
        "arr1 = plt.scatter(np.arange(-3,3,0.1).reshape(-1,1) ,y_hat, c=example_y)\n",
        "y_lim = plt.ylim()\n",
        "x_lim = plt.xlim()\n",
        "arr2 = plt.plot(x_lim, (0,0), 'k-', color = 'r')\n",
        "plt.ylim(y_lim)\n",
        "plt.xlim(x_lim)\n",
        "plt.legend([arr1, arr2], ['u','v'])\n",
        "red_patch = mpatches.Patch(color='red', label='Y-axis',linestyle ='-')\n",
        "plt.legend(handles=[red_patch],loc='lower right', frameon=False)\n",
        "plt.title('Plot of Polynomial and Linear Transformation of Example Dataset with y=0 decision boundary')\n",
        "plt.show"
      ]
    },
    {
      "cell_type": "markdown",
      "metadata": {
        "colab_type": "text",
        "id": "wv3sGrLPEeOw"
      },
      "source": [
        "You can see that the parabola now begins at 2, rather than zero, and is shifted down."
      ]
    },
    {
      "cell_type": "markdown",
      "metadata": {
        "colab_type": "text",
        "id": "xKMyeOheZ4ok"
      },
      "source": [
        "## Binary Sign Classification on dataset from part (i)"
      ]
    },
    {
      "cell_type": "markdown",
      "metadata": {
        "colab_type": "text",
        "id": "-9gBKzO9Z4om"
      },
      "source": [
        "### ii.a) How do you think a sign classification plus transformation model will perform on the Gaussian Quantile data?"
      ]
    },
    {
      "attachments": {},
      "cell_type": "markdown",
      "metadata": {
        "colab_type": "text",
        "id": "d2oMWoVCf3Eq"
      },
      "source": [
        "By observation of the examples above, the practice of sign classfication + transformation modeling should net good (satisfying) results for our Guassian Quantile dataset. This is based on the idea that sign classifcation along with transformation will allow us to split our data more efficiently, and thus allowing a better implementation of a decision boundary; reflected by improved accuracy."
      ]
    },
    {
      "cell_type": "markdown",
      "metadata": {
        "colab_type": "text",
        "id": "aQlTvvq5gIp1"
      },
      "source": [
        "### ii.b) Implementation\n",
        "Now, you will implement a Binary Sign Classification model to transform the linear data from part (i) as well as implement the helper functions to compute $\\hat{y}$, the class prediction, and the model accuracy. Then you will use the methods outlined above to transform the data into a new form for classification. For this example, we will just run our model on all of the data x and y."
      ]
    },
    {
      "cell_type": "code",
      "execution_count": 19,
      "metadata": {
        "colab": {},
        "colab_type": "code",
        "id": "2LUcMlsW6LXx",
        "vscode": {
          "languageId": "python"
        }
      },
      "outputs": [],
      "source": [
        "# Implement these helper functions\n",
        "def generate_h(y):\n",
        "    \"\"\"\n",
        "    Generates the class prediction h[i]=1 if y[i]>0 or h[i]=0 if y[i]<0\n",
        "    args:\n",
        "        y: a numpy array of y values\n",
        "    return: a (500,1) array of 1 and 0s indicating class prediction\n",
        "    \"\"\"\n",
        "    h = np.where(y >= 0, 1, 0)\n",
        "    \n",
        "    return h\n",
        "\n",
        "def compute_accuracy(y, h): \n",
        "    \"\"\"\n",
        "    computes the accuracy of the model. (h-y)/len(y)\n",
        "    args:\n",
        "        y: true class label\n",
        "        h: predicted labels\n",
        "    return: the accuracy.\n",
        "    \"\"\"\n",
        "    count = 0\n",
        "    for i in range(y.size):\n",
        "        if y[i] == h[i]:\n",
        "            count += 1\n",
        "    accuracy = count/len(y)\n",
        "    return accuracy"
      ]
    },
    {
      "cell_type": "code",
      "execution_count": 20,
      "metadata": {
        "colab": {},
        "colab_type": "code",
        "id": "oToQ8vyoJ7eN",
        "vscode": {
          "languageId": "python"
        }
      },
      "outputs": [],
      "source": [
        "# Impelement your data transformation using scikit learn polynomial\n",
        "polynomial_degree = 2 # Choose a degree for polynomial transformation\n",
        "q = 0 # Choose a value for horizontal shift\n",
        "poly = PolynomialFeatures(polynomial_degree)\n",
        "X_tf = X.reshape(-1,1) # Don't change\n",
        "X_tf = poly.fit_transform(X_tf-q)"
      ]
    },
    {
      "cell_type": "code",
      "execution_count": 21,
      "metadata": {
        "colab": {
          "base_uri": "https://localhost:8080/",
          "height": 220
        },
        "colab_type": "code",
        "id": "TnkkyhGzucEc",
        "outputId": "3a253c45-b0ae-4407-91ec-ee0dbe1a39c8",
        "vscode": {
          "languageId": "python"
        }
      },
      "outputs": [
        {
          "name": "stdout",
          "output_type": "stream",
          "text": [
            "(500, 3)\n",
            "[[ 1.         -2.42338811  5.87280991]\n",
            " [ 1.          1.53512714  2.35661532]\n",
            " [ 1.         -2.97599422  8.85654158]\n",
            " ...\n",
            " [ 1.         -2.83125403  8.01599938]\n",
            " [ 1.         -2.30131441  5.29604801]\n",
            " [ 1.         -2.6615158   7.08366634]]\n",
            "1.0 1.0 1.0\n",
            "-8.971350997336645 -2.916311169994305 2.7675050028493797\n",
            "2.6838860990190093e-05 12.589632637835237 80.48513871741321\n"
          ]
        }
      ],
      "source": [
        "print(X_tf.shape)\n",
        "print(X_tf)\n",
        "\n",
        "print(np.min(X_tf[:,0]), np.mean(X_tf[:,0]), np.max(X_tf[:,0]))\n",
        "print(np.min(X_tf[:,1]), np.mean(X_tf[:,1]), np.max(X_tf[:,1]))\n",
        "print(np.min(X_tf[:,2]), np.mean(X_tf[:,2]), np.max(X_tf[:,2]))"
      ]
    },
    {
      "cell_type": "code",
      "execution_count": 22,
      "metadata": {
        "colab": {
          "base_uri": "https://localhost:8080/",
          "height": 35
        },
        "colab_type": "code",
        "id": "zH6Grdu06iRT",
        "outputId": "31b99cb9-6765-4611-9a0c-10b70461428e",
        "vscode": {
          "languageId": "python"
        }
      },
      "outputs": [
        {
          "name": "stdout",
          "output_type": "stream",
          "text": [
            "accuracy= 75.2%\n"
          ]
        }
      ],
      "source": [
        "# The length of w needs to be the same as the degree of polynomial+1,\n",
        "# Either delete a poly-term or scale it, shift the transformed values up or down\n",
        "theta = np.array([0,4.2,1])\n",
        "\n",
        "# Compute y_hat\n",
        "y_hat = np.matmul(X_tf,theta)\n",
        "\n",
        "# Run sign model\n",
        "h = generate_h(y_hat)\n",
        "accuracy = compute_accuracy(y,h)\n",
        "print(f\"accuracy= {accuracy * 100}%\")"
      ]
    },
    {
      "cell_type": "markdown",
      "metadata": {
        "colab_type": "text",
        "id": "0-z4eQyFkOmJ"
      },
      "source": [
        "### Plotting data against y=0\n",
        "The plotting function below may be helpful for visualizing the data against the decision boundary."
      ]
    },
    {
      "cell_type": "code",
      "execution_count": 23,
      "metadata": {
        "colab": {
          "base_uri": "https://localhost:8080/",
          "height": 517
        },
        "colab_type": "code",
        "id": "GqLAigsy90lx",
        "outputId": "40d18cab-9270-47b8-b377-74f740f7d838",
        "vscode": {
          "languageId": "python"
        }
      },
      "outputs": [
        {
          "data": {
            "text/plain": [
              "<function matplotlib.pyplot.show>"
            ]
          },
          "execution_count": 23,
          "metadata": {
            "tags": []
          },
          "output_type": "execute_result"
        },
        {
          "data": {
            "image/png": "[encoded data removed]",
            "text/plain": [
              "<Figure size 576x576 with 1 Axes>"
            ]
          },
          "metadata": {
            "needs_background": "light",
            "tags": []
          },
          "output_type": "display_data"
        }
      ],
      "source": [
        "# Plot\n",
        "import matplotlib.patches as mpatches\n",
        "plt.figure(figsize=(8,8))\n",
        "arr1 = plt.scatter(X ,y_hat, c=y)\n",
        "y_lim = plt.ylim()\n",
        "x_lim = plt.xlim()\n",
        "arr2 = plt.plot(x_lim, (0,0), 'k-', color = 'r')\n",
        "plt.ylim(y_lim)\n",
        "plt.xlim(x_lim)\n",
        "red_patch = mpatches.Patch(color='red', label='Y-axis',linestyle ='-')\n",
        "plt.legend(handles=[red_patch],loc='lower right', frameon=False)\n",
        "plt.title('Plot of Gaussian Quantile Dataset with y=0 decision boundary')\n",
        "plt.show"
      ]
    },
    {
      "cell_type": "markdown",
      "metadata": {
        "colab_type": "text",
        "id": "WlY2OhtBkoKd"
      },
      "source": [
        "### ii.c) How did we do?\n",
        "\n",
        "Please comment on the performance of the model you created on classifying the dataset. What transformation parameters did you use? What was your ${\\bf{\\theta}}$?\n"
      ]
    },
    {
      "attachments": {},
      "cell_type": "markdown",
      "metadata": {
        "colab_type": "text",
        "id": "TwQpIqaMk_6q"
      },
      "source": [
        "In complete honesty, I'm not satisfied with the performance of my model, ~75%. Although this may stem from reading of other's results on Piazza netting 85+% accuracy. Sticking with a polynomial degree of 2, I spent up to 6+ hours exploring many values for q (horizontal shift), and theta values for all three indices. My best result was netted by somewhat emulating the first example; q=0(no horizontal shift). My theta values are \\[0, 4.2, 1\\]. Note: It did occur to me to create a function that would call generate_h() and compute_accuracy(), while testing values for theta indices; bounding such values and indices by good estimates discovered from experimentation, and return the resulting data for accuracy above 85%, however, I ran into a time crunch, and thus didn't get this implemented, also I am a python noob (but that didn't stop me from taking this course :P )."
      ]
    },
    {
      "cell_type": "markdown",
      "metadata": {
        "colab_type": "text",
        "id": "eBWHO4vUlH11"
      },
      "source": [
        "##iii) Artificial Neural Network\n",
        "Next, we will use tensorflow to create an artificial neural network to classify the Gaussian Quantile dataset."
      ]
    },
    {
      "cell_type": "markdown",
      "metadata": {
        "colab_type": "text",
        "id": "H9F-L3kSpNkH"
      },
      "source": [
        "### iii.a) Build a Neural Network to feed in the Gaussian Quantile data\n",
        "\n",
        "Below, define a neural network with the following layers:\n",
        "<ul>\n",
        "<li>Input Layer</li>\n",
        "<li>Dense Layer with 15 neurons, choose whatever activation you think is suitable</li>\n",
        "<li>Dense Layer with 5 neurons, choose whatever activation you think is suitable</li>\n",
        "<li>Dense Layer with 1 neuron, choose whatever activation you think is suitable</li>\n",
        "<li> Dense layer with 1 neuron for classification (what activation do we need to use?)</li>\n",
        "</ul>\n",
        "\n",
        "Then, run model.summary(), compile, then fit the model"
      ]
    },
    {
      "cell_type": "code",
      "execution_count": 24,
      "metadata": {
        "colab": {},
        "colab_type": "code",
        "id": "sisivBeulTnC",
        "vscode": {
          "languageId": "python"
        }
      },
      "outputs": [],
      "source": [
        "from tensorflow.keras.layers import Input, Dense # Only use these layers\n",
        "from tensorflow.keras.models import Model\n",
        "from tensorflow.keras.optimizers import * \n",
        "\n",
        "# Building network here\n",
        "input_layer = Input(shape=(1))\n",
        "x = Dense(15, activation='tanh')(input_layer)\n",
        "x = Dense(5, activation='tanh')(x)\n",
        "x = Dense(1, activation='tanh')(x)\n",
        "x = Dense(1, activation='sigmoid')(x)\n",
        "model = Model(input_layer, x)"
      ]
    },
    {
      "cell_type": "code",
      "execution_count": 25,
      "metadata": {
        "colab": {
          "base_uri": "https://localhost:8080/",
          "height": 349
        },
        "colab_type": "code",
        "id": "ziQ3FIx7nR1Q",
        "outputId": "53bf691d-0575-440b-da12-5e62c8958f60",
        "vscode": {
          "languageId": "python"
        }
      },
      "outputs": [
        {
          "name": "stdout",
          "output_type": "stream",
          "text": [
            "Model: \"model\"\n",
            "_________________________________________________________________\n",
            "Layer (type)                 Output Shape              Param #   \n",
            "=================================================================\n",
            "input_1 (InputLayer)         [(None, 1)]               0         \n",
            "_________________________________________________________________\n",
            "dense (Dense)                (None, 15)                30        \n",
            "_________________________________________________________________\n",
            "dense_1 (Dense)              (None, 5)                 80        \n",
            "_________________________________________________________________\n",
            "dense_2 (Dense)              (None, 1)                 6         \n",
            "_________________________________________________________________\n",
            "dense_3 (Dense)              (None, 1)                 2         \n",
            "=================================================================\n",
            "Total params: 118\n",
            "Trainable params: 118\n",
            "Non-trainable params: 0\n",
            "_________________________________________________________________\n"
          ]
        }
      ],
      "source": [
        "# Show a summary of your model\n",
        "model.summary()"
      ]
    },
    {
      "cell_type": "code",
      "execution_count": 26,
      "metadata": {
        "colab": {},
        "colab_type": "code",
        "id": "JV2c-DPNnYSl",
        "vscode": {
          "languageId": "python"
        }
      },
      "outputs": [],
      "source": [
        "# Compile your model with the chosen optimizer, binary cross entropy for the loss, and accuracy as the metric\n",
        "optimizer = Adam()\n",
        "model.compile(optimizer=optimizer,loss='bce',metrics=['accuracy'])"
      ]
    },
    {
      "cell_type": "code",
      "execution_count": 27,
      "metadata": {
        "colab": {
          "base_uri": "https://localhost:8080/",
          "height": 1000
        },
        "colab_type": "code",
        "id": "lv2DgeWUnY6F",
        "outputId": "41d808a2-4417-4e4e-c287-1f5d8940d12f",
        "vscode": {
          "languageId": "python"
        }
      },
      "outputs": [
        {
          "name": "stdout",
          "output_type": "stream",
          "text": [
            "Epoch 1/100\n",
            "13/13 [==============================] - 0s 16ms/step - loss: 0.7013 - accuracy: 0.5850 - val_loss: 0.7166 - val_accuracy: 0.5700\n",
            "Epoch 2/100\n",
            "13/13 [==============================] - 0s 5ms/step - loss: 0.6912 - accuracy: 0.6225 - val_loss: 0.7039 - val_accuracy: 0.6100\n",
            "Epoch 3/100\n",
            "13/13 [==============================] - 0s 4ms/step - loss: 0.6827 - accuracy: 0.6625 - val_loss: 0.6945 - val_accuracy: 0.6300\n",
            "Epoch 4/100\n",
            "13/13 [==============================] - 0s 5ms/step - loss: 0.6755 - accuracy: 0.6750 - val_loss: 0.6852 - val_accuracy: 0.6800\n",
            "Epoch 5/100\n",
            "13/13 [==============================] - 0s 4ms/step - loss: 0.6683 - accuracy: 0.6800 - val_loss: 0.6786 - val_accuracy: 0.6700\n",
            "Epoch 6/100\n",
            "13/13 [==============================] - 0s 4ms/step - loss: 0.6618 - accuracy: 0.6850 - val_loss: 0.6710 - val_accuracy: 0.6800\n",
            "Epoch 7/100\n",
            "13/13 [==============================] - 0s 4ms/step - loss: 0.6565 - accuracy: 0.6975 - val_loss: 0.6629 - val_accuracy: 0.6900\n",
            "Epoch 8/100\n",
            "13/13 [==============================] - 0s 4ms/step - loss: 0.6502 - accuracy: 0.6975 - val_loss: 0.6574 - val_accuracy: 0.6800\n",
            "Epoch 9/100\n",
            "13/13 [==============================] - 0s 4ms/step - loss: 0.6447 - accuracy: 0.7000 - val_loss: 0.6490 - val_accuracy: 0.7200\n",
            "Epoch 10/100\n",
            "13/13 [==============================] - 0s 5ms/step - loss: 0.6383 - accuracy: 0.7125 - val_loss: 0.6427 - val_accuracy: 0.7200\n",
            "Epoch 11/100\n",
            "13/13 [==============================] - 0s 5ms/step - loss: 0.6331 - accuracy: 0.7050 - val_loss: 0.6362 - val_accuracy: 0.7100\n",
            "Epoch 12/100\n",
            "13/13 [==============================] - 0s 4ms/step - loss: 0.6262 - accuracy: 0.7125 - val_loss: 0.6271 - val_accuracy: 0.7200\n",
            "Epoch 13/100\n",
            "13/13 [==============================] - 0s 4ms/step - loss: 0.6196 - accuracy: 0.7175 - val_loss: 0.6198 - val_accuracy: 0.7200\n",
            "Epoch 14/100\n",
            "13/13 [==============================] - 0s 4ms/step - loss: 0.6127 - accuracy: 0.7275 - val_loss: 0.6099 - val_accuracy: 0.7200\n",
            "Epoch 15/100\n",
            "13/13 [==============================] - 0s 4ms/step - loss: 0.6064 - accuracy: 0.7225 - val_loss: 0.6027 - val_accuracy: 0.7200\n",
            "Epoch 16/100\n",
            "13/13 [==============================] - 0s 4ms/step - loss: 0.5995 - accuracy: 0.7250 - val_loss: 0.5929 - val_accuracy: 0.7200\n",
            "Epoch 17/100\n",
            "13/13 [==============================] - 0s 4ms/step - loss: 0.5908 - accuracy: 0.7275 - val_loss: 0.5847 - val_accuracy: 0.7300\n",
            "Epoch 18/100\n",
            "13/13 [==============================] - 0s 4ms/step - loss: 0.5833 - accuracy: 0.7275 - val_loss: 0.5746 - val_accuracy: 0.7700\n",
            "Epoch 19/100\n",
            "13/13 [==============================] - 0s 4ms/step - loss: 0.5747 - accuracy: 0.7600 - val_loss: 0.5650 - val_accuracy: 0.7800\n",
            "Epoch 20/100\n",
            "13/13 [==============================] - 0s 4ms/step - loss: 0.5652 - accuracy: 0.7475 - val_loss: 0.5576 - val_accuracy: 0.7600\n",
            "Epoch 21/100\n",
            "13/13 [==============================] - 0s 4ms/step - loss: 0.5567 - accuracy: 0.7550 - val_loss: 0.5460 - val_accuracy: 0.7900\n",
            "Epoch 22/100\n",
            "13/13 [==============================] - 0s 5ms/step - loss: 0.5481 - accuracy: 0.7650 - val_loss: 0.5371 - val_accuracy: 0.7800\n",
            "Epoch 23/100\n",
            "13/13 [==============================] - 0s 4ms/step - loss: 0.5415 - accuracy: 0.8325 - val_loss: 0.5258 - val_accuracy: 0.8500\n",
            "Epoch 24/100\n",
            "13/13 [==============================] - 0s 5ms/step - loss: 0.5325 - accuracy: 0.7900 - val_loss: 0.5229 - val_accuracy: 0.7500\n",
            "Epoch 25/100\n",
            "13/13 [==============================] - 0s 4ms/step - loss: 0.5222 - accuracy: 0.8050 - val_loss: 0.5092 - val_accuracy: 0.8500\n",
            "Epoch 26/100\n",
            "13/13 [==============================] - 0s 4ms/step - loss: 0.5125 - accuracy: 0.8350 - val_loss: 0.5019 - val_accuracy: 0.8300\n",
            "Epoch 27/100\n",
            "13/13 [==============================] - 0s 4ms/step - loss: 0.5064 - accuracy: 0.8100 - val_loss: 0.4936 - val_accuracy: 0.8300\n",
            "Epoch 28/100\n",
            "13/13 [==============================] - 0s 4ms/step - loss: 0.4952 - accuracy: 0.8300 - val_loss: 0.4848 - val_accuracy: 0.8700\n",
            "Epoch 29/100\n",
            "13/13 [==============================] - 0s 4ms/step - loss: 0.4899 - accuracy: 0.8600 - val_loss: 0.4770 - val_accuracy: 0.8800\n",
            "Epoch 30/100\n",
            "13/13 [==============================] - 0s 5ms/step - loss: 0.4800 - accuracy: 0.8300 - val_loss: 0.4731 - val_accuracy: 0.8200\n",
            "Epoch 31/100\n",
            "13/13 [==============================] - 0s 4ms/step - loss: 0.4733 - accuracy: 0.8375 - val_loss: 0.4624 - val_accuracy: 0.9000\n",
            "Epoch 32/100\n",
            "13/13 [==============================] - 0s 5ms/step - loss: 0.4665 - accuracy: 0.8350 - val_loss: 0.4568 - val_accuracy: 0.8600\n",
            "Epoch 33/100\n",
            "13/13 [==============================] - 0s 5ms/step - loss: 0.4588 - accuracy: 0.8450 - val_loss: 0.4488 - val_accuracy: 0.8800\n",
            "Epoch 34/100\n",
            "13/13 [==============================] - 0s 5ms/step - loss: 0.4540 - accuracy: 0.8300 - val_loss: 0.4438 - val_accuracy: 0.8600\n",
            "Epoch 35/100\n",
            "13/13 [==============================] - 0s 4ms/step - loss: 0.4470 - accuracy: 0.8675 - val_loss: 0.4365 - val_accuracy: 0.9100\n",
            "Epoch 36/100\n",
            "13/13 [==============================] - 0s 4ms/step - loss: 0.4360 - accuracy: 0.8675 - val_loss: 0.4331 - val_accuracy: 0.8600\n",
            "Epoch 37/100\n",
            "13/13 [==============================] - 0s 4ms/step - loss: 0.4322 - accuracy: 0.8450 - val_loss: 0.4240 - val_accuracy: 0.9000\n",
            "Epoch 38/100\n",
            "13/13 [==============================] - 0s 4ms/step - loss: 0.4252 - accuracy: 0.8575 - val_loss: 0.4185 - val_accuracy: 0.8800\n",
            "Epoch 39/100\n",
            "13/13 [==============================] - 0s 4ms/step - loss: 0.4229 - accuracy: 0.8900 - val_loss: 0.4124 - val_accuracy: 0.9100\n",
            "Epoch 40/100\n",
            "13/13 [==============================] - 0s 4ms/step - loss: 0.4203 - accuracy: 0.8300 - val_loss: 0.4113 - val_accuracy: 0.8700\n",
            "Epoch 41/100\n",
            "13/13 [==============================] - 0s 4ms/step - loss: 0.4070 - accuracy: 0.8625 - val_loss: 0.4021 - val_accuracy: 0.9100\n",
            "Epoch 42/100\n",
            "13/13 [==============================] - 0s 5ms/step - loss: 0.4007 - accuracy: 0.8825 - val_loss: 0.3989 - val_accuracy: 0.8800\n",
            "Epoch 43/100\n",
            "13/13 [==============================] - 0s 4ms/step - loss: 0.3964 - accuracy: 0.8700 - val_loss: 0.3926 - val_accuracy: 0.9000\n",
            "Epoch 44/100\n",
            "13/13 [==============================] - 0s 4ms/step - loss: 0.3914 - accuracy: 0.8850 - val_loss: 0.3885 - val_accuracy: 0.9000\n",
            "Epoch 45/100\n",
            "13/13 [==============================] - 0s 4ms/step - loss: 0.3866 - accuracy: 0.8775 - val_loss: 0.3837 - val_accuracy: 0.9000\n",
            "Epoch 46/100\n",
            "13/13 [==============================] - 0s 4ms/step - loss: 0.3824 - accuracy: 0.8900 - val_loss: 0.3803 - val_accuracy: 0.8800\n",
            "Epoch 47/100\n",
            "13/13 [==============================] - 0s 4ms/step - loss: 0.3768 - accuracy: 0.8675 - val_loss: 0.3745 - val_accuracy: 0.9100\n",
            "Epoch 48/100\n",
            "13/13 [==============================] - 0s 5ms/step - loss: 0.3723 - accuracy: 0.8925 - val_loss: 0.3702 - val_accuracy: 0.9100\n",
            "Epoch 49/100\n",
            "13/13 [==============================] - 0s 4ms/step - loss: 0.3676 - accuracy: 0.8875 - val_loss: 0.3679 - val_accuracy: 0.9000\n",
            "Epoch 50/100\n",
            "13/13 [==============================] - 0s 4ms/step - loss: 0.3623 - accuracy: 0.8875 - val_loss: 0.3635 - val_accuracy: 0.9000\n",
            "Epoch 51/100\n",
            "13/13 [==============================] - 0s 5ms/step - loss: 0.3603 - accuracy: 0.8750 - val_loss: 0.3609 - val_accuracy: 0.8900\n",
            "Epoch 52/100\n",
            "13/13 [==============================] - 0s 5ms/step - loss: 0.3543 - accuracy: 0.8900 - val_loss: 0.3564 - val_accuracy: 0.9000\n",
            "Epoch 53/100\n",
            "13/13 [==============================] - 0s 4ms/step - loss: 0.3504 - accuracy: 0.8800 - val_loss: 0.3530 - val_accuracy: 0.9100\n",
            "Epoch 54/100\n",
            "13/13 [==============================] - 0s 4ms/step - loss: 0.3468 - accuracy: 0.8950 - val_loss: 0.3496 - val_accuracy: 0.9000\n",
            "Epoch 55/100\n",
            "13/13 [==============================] - 0s 5ms/step - loss: 0.3454 - accuracy: 0.8775 - val_loss: 0.3467 - val_accuracy: 0.9000\n",
            "Epoch 56/100\n",
            "13/13 [==============================] - 0s 4ms/step - loss: 0.3399 - accuracy: 0.9000 - val_loss: 0.3441 - val_accuracy: 0.8900\n",
            "Epoch 57/100\n",
            "13/13 [==============================] - 0s 4ms/step - loss: 0.3371 - accuracy: 0.8775 - val_loss: 0.3408 - val_accuracy: 0.9000\n",
            "Epoch 58/100\n",
            "13/13 [==============================] - 0s 4ms/step - loss: 0.3312 - accuracy: 0.8925 - val_loss: 0.3391 - val_accuracy: 0.8900\n",
            "Epoch 59/100\n",
            "13/13 [==============================] - 0s 4ms/step - loss: 0.3294 - accuracy: 0.8950 - val_loss: 0.3344 - val_accuracy: 0.9100\n",
            "Epoch 60/100\n",
            "13/13 [==============================] - 0s 4ms/step - loss: 0.3276 - accuracy: 0.8800 - val_loss: 0.3325 - val_accuracy: 0.9000\n",
            "Epoch 61/100\n",
            "13/13 [==============================] - 0s 5ms/step - loss: 0.3257 - accuracy: 0.8975 - val_loss: 0.3318 - val_accuracy: 0.8900\n",
            "Epoch 62/100\n",
            "13/13 [==============================] - 0s 5ms/step - loss: 0.3197 - accuracy: 0.8950 - val_loss: 0.3285 - val_accuracy: 0.9000\n",
            "Epoch 63/100\n",
            "13/13 [==============================] - 0s 5ms/step - loss: 0.3166 - accuracy: 0.8900 - val_loss: 0.3277 - val_accuracy: 0.8900\n",
            "Epoch 64/100\n",
            "13/13 [==============================] - 0s 4ms/step - loss: 0.3140 - accuracy: 0.8900 - val_loss: 0.3252 - val_accuracy: 0.8800\n",
            "Epoch 65/100\n",
            "13/13 [==============================] - 0s 4ms/step - loss: 0.3116 - accuracy: 0.8950 - val_loss: 0.3222 - val_accuracy: 0.8900\n",
            "Epoch 66/100\n",
            "13/13 [==============================] - 0s 5ms/step - loss: 0.3103 - accuracy: 0.8875 - val_loss: 0.3206 - val_accuracy: 0.9000\n",
            "Epoch 67/100\n",
            "13/13 [==============================] - 0s 4ms/step - loss: 0.3129 - accuracy: 0.9050 - val_loss: 0.3198 - val_accuracy: 0.9000\n",
            "Epoch 68/100\n",
            "13/13 [==============================] - 0s 4ms/step - loss: 0.3046 - accuracy: 0.8925 - val_loss: 0.3171 - val_accuracy: 0.9000\n",
            "Epoch 69/100\n",
            "13/13 [==============================] - 0s 4ms/step - loss: 0.3080 - accuracy: 0.9100 - val_loss: 0.3149 - val_accuracy: 0.8800\n",
            "Epoch 70/100\n",
            "13/13 [==============================] - 0s 5ms/step - loss: 0.3007 - accuracy: 0.8875 - val_loss: 0.3149 - val_accuracy: 0.9000\n",
            "Epoch 71/100\n",
            "13/13 [==============================] - 0s 4ms/step - loss: 0.3019 - accuracy: 0.8950 - val_loss: 0.3136 - val_accuracy: 0.8700\n",
            "Epoch 72/100\n",
            "13/13 [==============================] - 0s 4ms/step - loss: 0.2961 - accuracy: 0.8975 - val_loss: 0.3122 - val_accuracy: 0.8900\n",
            "Epoch 73/100\n",
            "13/13 [==============================] - 0s 5ms/step - loss: 0.2942 - accuracy: 0.9000 - val_loss: 0.3087 - val_accuracy: 0.9000\n",
            "Epoch 74/100\n",
            "13/13 [==============================] - 0s 5ms/step - loss: 0.2948 - accuracy: 0.8950 - val_loss: 0.3077 - val_accuracy: 0.8800\n",
            "Epoch 75/100\n",
            "13/13 [==============================] - 0s 5ms/step - loss: 0.2921 - accuracy: 0.8925 - val_loss: 0.3059 - val_accuracy: 0.8800\n",
            "Epoch 76/100\n",
            "13/13 [==============================] - 0s 4ms/step - loss: 0.2883 - accuracy: 0.8950 - val_loss: 0.3055 - val_accuracy: 0.8800\n",
            "Epoch 77/100\n",
            "13/13 [==============================] - 0s 5ms/step - loss: 0.2868 - accuracy: 0.9000 - val_loss: 0.3056 - val_accuracy: 0.8800\n",
            "Epoch 78/100\n",
            "13/13 [==============================] - 0s 5ms/step - loss: 0.2852 - accuracy: 0.8950 - val_loss: 0.3053 - val_accuracy: 0.8800\n",
            "Epoch 79/100\n",
            "13/13 [==============================] - 0s 5ms/step - loss: 0.2838 - accuracy: 0.8950 - val_loss: 0.3035 - val_accuracy: 0.8800\n",
            "Epoch 80/100\n",
            "13/13 [==============================] - 0s 5ms/step - loss: 0.2858 - accuracy: 0.9075 - val_loss: 0.3002 - val_accuracy: 0.8800\n",
            "Epoch 81/100\n",
            "13/13 [==============================] - 0s 4ms/step - loss: 0.2846 - accuracy: 0.8925 - val_loss: 0.3008 - val_accuracy: 0.8800\n",
            "Epoch 82/100\n",
            "13/13 [==============================] - 0s 5ms/step - loss: 0.2809 - accuracy: 0.9025 - val_loss: 0.2984 - val_accuracy: 0.8800\n",
            "Epoch 83/100\n",
            "13/13 [==============================] - 0s 4ms/step - loss: 0.2816 - accuracy: 0.8950 - val_loss: 0.2987 - val_accuracy: 0.8700\n",
            "Epoch 84/100\n",
            "13/13 [==============================] - 0s 5ms/step - loss: 0.2838 - accuracy: 0.9050 - val_loss: 0.2986 - val_accuracy: 0.8800\n",
            "Epoch 85/100\n",
            "13/13 [==============================] - 0s 4ms/step - loss: 0.2770 - accuracy: 0.9000 - val_loss: 0.2962 - val_accuracy: 0.8700\n",
            "Epoch 86/100\n",
            "13/13 [==============================] - 0s 4ms/step - loss: 0.2756 - accuracy: 0.9000 - val_loss: 0.2963 - val_accuracy: 0.8700\n",
            "Epoch 87/100\n",
            "13/13 [==============================] - 0s 4ms/step - loss: 0.2733 - accuracy: 0.8950 - val_loss: 0.2958 - val_accuracy: 0.8800\n",
            "Epoch 88/100\n",
            "13/13 [==============================] - 0s 4ms/step - loss: 0.2721 - accuracy: 0.8975 - val_loss: 0.2938 - val_accuracy: 0.8700\n",
            "Epoch 89/100\n",
            "13/13 [==============================] - 0s 5ms/step - loss: 0.2715 - accuracy: 0.9000 - val_loss: 0.2930 - val_accuracy: 0.8700\n",
            "Epoch 90/100\n",
            "13/13 [==============================] - 0s 4ms/step - loss: 0.2732 - accuracy: 0.9150 - val_loss: 0.2925 - val_accuracy: 0.8700\n",
            "Epoch 91/100\n",
            "13/13 [==============================] - 0s 4ms/step - loss: 0.2757 - accuracy: 0.8900 - val_loss: 0.2921 - val_accuracy: 0.8900\n",
            "Epoch 92/100\n",
            "13/13 [==============================] - 0s 4ms/step - loss: 0.2713 - accuracy: 0.9025 - val_loss: 0.2924 - val_accuracy: 0.8700\n",
            "Epoch 93/100\n",
            "13/13 [==============================] - 0s 4ms/step - loss: 0.2668 - accuracy: 0.9000 - val_loss: 0.2915 - val_accuracy: 0.8800\n",
            "Epoch 94/100\n",
            "13/13 [==============================] - 0s 4ms/step - loss: 0.2665 - accuracy: 0.9000 - val_loss: 0.2901 - val_accuracy: 0.8700\n",
            "Epoch 95/100\n",
            "13/13 [==============================] - 0s 5ms/step - loss: 0.2665 - accuracy: 0.9000 - val_loss: 0.2902 - val_accuracy: 0.8700\n",
            "Epoch 96/100\n",
            "13/13 [==============================] - 0s 4ms/step - loss: 0.2644 - accuracy: 0.9000 - val_loss: 0.2892 - val_accuracy: 0.8700\n",
            "Epoch 97/100\n",
            "13/13 [==============================] - 0s 4ms/step - loss: 0.2632 - accuracy: 0.9025 - val_loss: 0.2885 - val_accuracy: 0.8700\n",
            "Epoch 98/100\n",
            "13/13 [==============================] - 0s 5ms/step - loss: 0.2633 - accuracy: 0.9000 - val_loss: 0.2903 - val_accuracy: 0.8800\n",
            "Epoch 99/100\n",
            "13/13 [==============================] - 0s 5ms/step - loss: 0.2613 - accuracy: 0.9000 - val_loss: 0.2918 - val_accuracy: 0.8700\n",
            "Epoch 100/100\n",
            "13/13 [==============================] - 0s 4ms/step - loss: 0.2624 - accuracy: 0.9050 - val_loss: 0.2885 - val_accuracy: 0.8700\n"
          ]
        }
      ],
      "source": [
        "# Call fit on your model passing in the X, y data above, train for 100 epochs\n",
        "hist = model.fit(X, y, epochs=100, validation_split=0.2)"
      ]
    },
    {
      "cell_type": "code",
      "execution_count": 28,
      "metadata": {
        "colab": {},
        "colab_type": "code",
        "id": "_5UpaNlYo1kS",
        "vscode": {
          "languageId": "python"
        }
      },
      "outputs": [],
      "source": [
        "def plot_losses(hist):\n",
        "    plt.plot(hist.history['loss'])\n",
        "    plt.plot(hist.history['val_loss'])\n",
        "    plt.title('Model Loss')\n",
        "    plt.ylabel('Loss')\n",
        "    plt.xlabel('Epoch')\n",
        "    plt.legend(['Train', 'Val'])\n",
        "    plt.show()\n",
        "def plot_accuracies(hist):\n",
        "    plt.plot(hist.history['accuracy'])\n",
        "    plt.plot(hist.history['val_accuracy'])\n",
        "    plt.title('Model Accuracy')\n",
        "    plt.ylabel('Accuracy')\n",
        "    plt.xlabel('Epoch')\n",
        "    plt.legend(['Train', 'Val'])\n",
        "    plt.show()"
      ]
    },
    {
      "cell_type": "code",
      "execution_count": 29,
      "metadata": {
        "colab": {
          "base_uri": "https://localhost:8080/",
          "height": 573
        },
        "colab_type": "code",
        "id": "SXZkpQLoo8EH",
        "outputId": "ee8534f1-7f4c-4c5d-8148-cde328c266b7",
        "vscode": {
          "languageId": "python"
        }
      },
      "outputs": [
        {
          "data": {
            "image/png": "[encoded data removed]",
            "text/plain": [
              "<Figure size 432x288 with 1 Axes>"
            ]
          },
          "metadata": {
            "needs_background": "light",
            "tags": []
          },
          "output_type": "display_data"
        },
        {
          "data": {
            "image/png": "[encoded data removed]",
            "text/plain": [
              "<Figure size 432x288 with 1 Axes>"
            ]
          },
          "metadata": {
            "needs_background": "light",
            "tags": []
          },
          "output_type": "display_data"
        }
      ],
      "source": [
        "# plot your losses and accuracies\n",
        "plot_losses(hist)\n",
        "plot_accuracies(hist)"
      ]
    },
    {
      "cell_type": "markdown",
      "metadata": {
        "colab_type": "text",
        "id": "Ww-Md7typd-Y"
      },
      "source": [
        "###iii.a) How did the model perform.\n",
        "How did your neural network preform? What hyperparameters and optimizer did you choose? Was the model able to outperform Logistic Regression? Outperform Binary Sign Classification? If it did, why do you think your neural network beat these other models? "
      ]
    },
    {
      "attachments": {},
      "cell_type": "markdown",
      "metadata": {
        "colab_type": "text",
        "id": "_er49nZQ8KZT"
      },
      "source": [
        "My neural network performed well, giving the final resulting line: \\\n",
        "Epoch 100/100\n",
        "13/13 [==============================] - 0s 4ms/step - loss: 0.2871 - accuracy: 0.9000 - val_loss: 0.3122 - val_accuracy: 0.8600 \\\n",
        "For hyperparameters, I chose activations: 'tanh', 'tanh', 'tanh', and 'sigmoid' in that order. \\\n",
        "Given that the NN class exercise, used activation='tanh', for layers preceding the classfication, this influenced my decision to implement something similar. \\\n",
        "For classification, I chose activation='sigmoid', given this was a topic heavily emphasized in class, as the sigmoid function can classify in binary, allowing an efficient distribution of results. \\\n",
        "For optimizer I left the default Adam(), which according to documentation 'is a stochastic gradient descent method that is based on adaptive estimation of first-order and second-order moments'. \\\n",
        "My model did outperform both Logistic Regression and Binary Sign Classification scores. \\\n",
        "One reason for this lies, in that the NN involves multiple layers, so its implementation is more efficient to seperate the dataset prior to binary classfication(sigmoid function). \\\n",
        "We saw how Logistic Regression struggled to linearly seperate the dataset; we can consider this an inefficient one-layer NN. \\\n",
        "For performing better than Binary Sign Classifcation, this may be specific to my bad experiment/implementation of that given method above. "
      ]
    },
    {
      "cell_type": "markdown",
      "metadata": {
        "colab_type": "text",
        "id": "Vg0cuChfqAeN"
      },
      "source": [
        "#2) Neural Network Classification\n",
        "Next, we move on to using an artificial Neural Network for a task that is a bit harder. We will see if we can train our model to determine if patients with suffering from heart disease died during follow up treatment. The dataset has 299 samples with 12 features each and a target class:\n",
        "<ul>\n",
        "<li>age: age of the patient (years)</li>\n",
        "<li>anaemia: decrease of red blood cells or hemoglobin (boolean)</li>\n",
        "<li>high blood pressure: if the patient has hypertension (boolean)</li>\n",
        "<li>creatinine phosphokinase (CPK): level of the CPK enzyme in the blood (mcg/L)</li>\n",
        "<li> diabetes: if the patient has diabetes (boolean)</li>\n",
        "<li> ejection fraction: percentage of blood leaving the heart at each contraction (percentage)</li>\n",
        "<li> platelets: platelets in the blood (kiloplatelets/mL)</li>\n",
        "<li> sex: woman or man (binary)</li>\n",
        "<li> serum creatinine: level of serum creatinine in the blood (mg/dL)</li>\n",
        "<li> serum sodium: level of serum sodium in the blood (mEq/L)</li>\n",
        "<li> smoking: if the patient smokes or not (boolean)</li>\n",
        "<li> time: follow-up period (days)</li>\n",
        "<li> [target] death event: if the patient deceased during the follow-up period (boolean)</li>\n",
        "</ul>"
      ]
    },
    {
      "cell_type": "code",
      "execution_count": 30,
      "metadata": {
        "colab": {
          "base_uri": "https://localhost:8080/",
          "height": 220
        },
        "colab_type": "code",
        "id": "PYCxTMRTqHVD",
        "outputId": "0af06ce3-07d5-4114-dffd-97e39b162942",
        "vscode": {
          "languageId": "python"
        }
      },
      "outputs": [
        {
          "name": "stdout",
          "output_type": "stream",
          "text": [
            "--2020-07-13 05:48:29--  https://archive.ics.uci.edu/ml/machine-learning-databases/00519/heart_failure_clinical_records_dataset.csv\n",
            "Resolving archive.ics.uci.edu (archive.ics.uci.edu)... 128.195.10.252\n",
            "Connecting to archive.ics.uci.edu (archive.ics.uci.edu)|128.195.10.252|:443... connected.\n",
            "HTTP request sent, awaiting response... 200 OK\n",
            "Length: 12239 (12K) [application/x-httpd-php]\n",
            "Saving to: ‘heart_failure_clinical_records_dataset.csv.2’\n",
            "\n",
            "\r          heart_fai   0%[                    ]       0  --.-KB/s               \rheart_failure_clini 100%[===================>]  11.95K  --.-KB/s    in 0s      \n",
            "\n",
            "2020-07-13 05:48:29 (93.4 MB/s) - ‘heart_failure_clinical_records_dataset.csv.2’ saved [12239/12239]\n",
            "\n"
          ]
        }
      ],
      "source": [
        "!wget https://archive.ics.uci.edu/ml/machine-learning-databases/00519/heart_failure_clinical_records_dataset.csv"
      ]
    },
    {
      "cell_type": "markdown",
      "metadata": {
        "colab_type": "text",
        "id": "8jN9GUJc5efm"
      },
      "source": [
        "## Data Loading and Preprocessing\n"
      ]
    },
    {
      "cell_type": "code",
      "execution_count": 31,
      "metadata": {
        "colab": {},
        "colab_type": "code",
        "id": "RAnMB4IdsmB5",
        "vscode": {
          "languageId": "python"
        }
      },
      "outputs": [],
      "source": [
        "# Read in the data\n",
        "nn_dataframe = pd.read_csv('heart_failure_clinical_records_dataset.csv',sep=',')\n",
        "nn_dataframe.dropna(inplace=True)"
      ]
    },
    {
      "cell_type": "code",
      "execution_count": 32,
      "metadata": {
        "colab": {
          "base_uri": "https://localhost:8080/",
          "height": 206
        },
        "colab_type": "code",
        "id": "beZmSQSGs7OY",
        "outputId": "b5fcd358-3257-4e95-bc1d-ca17f46e6322",
        "vscode": {
          "languageId": "python"
        }
      },
      "outputs": [
        {
          "data": {
            "text/html": [
              "<div>\n",
              "<style scoped>\n",
              "    .dataframe tbody tr th:only-of-type {\n",
              "        vertical-align: middle;\n",
              "    }\n",
              "\n",
              "    .dataframe tbody tr th {\n",
              "        vertical-align: top;\n",
              "    }\n",
              "\n",
              "    .dataframe thead th {\n",
              "        text-align: right;\n",
              "    }\n",
              "</style>\n",
              "<table border=\"1\" class=\"dataframe\">\n",
              "  <thead>\n",
              "    <tr style=\"text-align: right;\">\n",
              "      <th></th>\n",
              "      <th>age</th>\n",
              "      <th>anaemia</th>\n",
              "      <th>creatinine_phosphokinase</th>\n",
              "      <th>diabetes</th>\n",
              "      <th>ejection_fraction</th>\n",
              "      <th>high_blood_pressure</th>\n",
              "      <th>platelets</th>\n",
              "      <th>serum_creatinine</th>\n",
              "      <th>serum_sodium</th>\n",
              "      <th>sex</th>\n",
              "      <th>smoking</th>\n",
              "      <th>time</th>\n",
              "      <th>DEATH_EVENT</th>\n",
              "    </tr>\n",
              "  </thead>\n",
              "  <tbody>\n",
              "    <tr>\n",
              "      <th>0</th>\n",
              "      <td>75.0</td>\n",
              "      <td>0</td>\n",
              "      <td>582</td>\n",
              "      <td>0</td>\n",
              "      <td>20</td>\n",
              "      <td>1</td>\n",
              "      <td>265000.00</td>\n",
              "      <td>1.9</td>\n",
              "      <td>130</td>\n",
              "      <td>1</td>\n",
              "      <td>0</td>\n",
              "      <td>4</td>\n",
              "      <td>1</td>\n",
              "    </tr>\n",
              "    <tr>\n",
              "      <th>1</th>\n",
              "      <td>55.0</td>\n",
              "      <td>0</td>\n",
              "      <td>7861</td>\n",
              "      <td>0</td>\n",
              "      <td>38</td>\n",
              "      <td>0</td>\n",
              "      <td>263358.03</td>\n",
              "      <td>1.1</td>\n",
              "      <td>136</td>\n",
              "      <td>1</td>\n",
              "      <td>0</td>\n",
              "      <td>6</td>\n",
              "      <td>1</td>\n",
              "    </tr>\n",
              "    <tr>\n",
              "      <th>2</th>\n",
              "      <td>65.0</td>\n",
              "      <td>0</td>\n",
              "      <td>146</td>\n",
              "      <td>0</td>\n",
              "      <td>20</td>\n",
              "      <td>0</td>\n",
              "      <td>162000.00</td>\n",
              "      <td>1.3</td>\n",
              "      <td>129</td>\n",
              "      <td>1</td>\n",
              "      <td>1</td>\n",
              "      <td>7</td>\n",
              "      <td>1</td>\n",
              "    </tr>\n",
              "    <tr>\n",
              "      <th>3</th>\n",
              "      <td>50.0</td>\n",
              "      <td>1</td>\n",
              "      <td>111</td>\n",
              "      <td>0</td>\n",
              "      <td>20</td>\n",
              "      <td>0</td>\n",
              "      <td>210000.00</td>\n",
              "      <td>1.9</td>\n",
              "      <td>137</td>\n",
              "      <td>1</td>\n",
              "      <td>0</td>\n",
              "      <td>7</td>\n",
              "      <td>1</td>\n",
              "    </tr>\n",
              "    <tr>\n",
              "      <th>4</th>\n",
              "      <td>65.0</td>\n",
              "      <td>1</td>\n",
              "      <td>160</td>\n",
              "      <td>1</td>\n",
              "      <td>20</td>\n",
              "      <td>0</td>\n",
              "      <td>327000.00</td>\n",
              "      <td>2.7</td>\n",
              "      <td>116</td>\n",
              "      <td>0</td>\n",
              "      <td>0</td>\n",
              "      <td>8</td>\n",
              "      <td>1</td>\n",
              "    </tr>\n",
              "  </tbody>\n",
              "</table>\n",
              "</div>"
            ],
            "text/plain": [
              "    age  anaemia  creatinine_phosphokinase  ...  smoking  time  DEATH_EVENT\n",
              "0  75.0        0                       582  ...        0     4            1\n",
              "1  55.0        0                      7861  ...        0     6            1\n",
              "2  65.0        0                       146  ...        1     7            1\n",
              "3  50.0        1                       111  ...        0     7            1\n",
              "4  65.0        1                       160  ...        0     8            1\n",
              "\n",
              "[5 rows x 13 columns]"
            ]
          },
          "execution_count": 32,
          "metadata": {
            "tags": []
          },
          "output_type": "execute_result"
        }
      ],
      "source": [
        "# Check data\n",
        "nn_dataframe.head()"
      ]
    },
    {
      "cell_type": "markdown",
      "metadata": {
        "colab_type": "text",
        "id": "3tQzTnqM5iwa"
      },
      "source": [
        "Split Data into X and y. Then scale the X data for model training"
      ]
    },
    {
      "cell_type": "code",
      "execution_count": 33,
      "metadata": {
        "colab": {},
        "colab_type": "code",
        "id": "Ii4SZM7V4sO9",
        "vscode": {
          "languageId": "python"
        }
      },
      "outputs": [],
      "source": [
        "X = nn_dataframe.iloc[:, 0:12]\n",
        "y = nn_dataframe.iloc[:,12]"
      ]
    },
    {
      "cell_type": "code",
      "execution_count": 34,
      "metadata": {
        "colab": {
          "base_uri": "https://localhost:8080/",
          "height": 206
        },
        "colab_type": "code",
        "id": "d-xQPQ0l6EdT",
        "outputId": "ce7262fe-dde8-480a-bb9f-cbe3c00e3e65",
        "vscode": {
          "languageId": "python"
        }
      },
      "outputs": [
        {
          "data": {
            "text/html": [
              "<div>\n",
              "<style scoped>\n",
              "    .dataframe tbody tr th:only-of-type {\n",
              "        vertical-align: middle;\n",
              "    }\n",
              "\n",
              "    .dataframe tbody tr th {\n",
              "        vertical-align: top;\n",
              "    }\n",
              "\n",
              "    .dataframe thead th {\n",
              "        text-align: right;\n",
              "    }\n",
              "</style>\n",
              "<table border=\"1\" class=\"dataframe\">\n",
              "  <thead>\n",
              "    <tr style=\"text-align: right;\">\n",
              "      <th></th>\n",
              "      <th>age</th>\n",
              "      <th>anaemia</th>\n",
              "      <th>creatinine_phosphokinase</th>\n",
              "      <th>diabetes</th>\n",
              "      <th>ejection_fraction</th>\n",
              "      <th>high_blood_pressure</th>\n",
              "      <th>platelets</th>\n",
              "      <th>serum_creatinine</th>\n",
              "      <th>serum_sodium</th>\n",
              "      <th>sex</th>\n",
              "      <th>smoking</th>\n",
              "      <th>time</th>\n",
              "    </tr>\n",
              "  </thead>\n",
              "  <tbody>\n",
              "    <tr>\n",
              "      <th>0</th>\n",
              "      <td>75.0</td>\n",
              "      <td>0</td>\n",
              "      <td>582</td>\n",
              "      <td>0</td>\n",
              "      <td>20</td>\n",
              "      <td>1</td>\n",
              "      <td>265000.00</td>\n",
              "      <td>1.9</td>\n",
              "      <td>130</td>\n",
              "      <td>1</td>\n",
              "      <td>0</td>\n",
              "      <td>4</td>\n",
              "    </tr>\n",
              "    <tr>\n",
              "      <th>1</th>\n",
              "      <td>55.0</td>\n",
              "      <td>0</td>\n",
              "      <td>7861</td>\n",
              "      <td>0</td>\n",
              "      <td>38</td>\n",
              "      <td>0</td>\n",
              "      <td>263358.03</td>\n",
              "      <td>1.1</td>\n",
              "      <td>136</td>\n",
              "      <td>1</td>\n",
              "      <td>0</td>\n",
              "      <td>6</td>\n",
              "    </tr>\n",
              "    <tr>\n",
              "      <th>2</th>\n",
              "      <td>65.0</td>\n",
              "      <td>0</td>\n",
              "      <td>146</td>\n",
              "      <td>0</td>\n",
              "      <td>20</td>\n",
              "      <td>0</td>\n",
              "      <td>162000.00</td>\n",
              "      <td>1.3</td>\n",
              "      <td>129</td>\n",
              "      <td>1</td>\n",
              "      <td>1</td>\n",
              "      <td>7</td>\n",
              "    </tr>\n",
              "    <tr>\n",
              "      <th>3</th>\n",
              "      <td>50.0</td>\n",
              "      <td>1</td>\n",
              "      <td>111</td>\n",
              "      <td>0</td>\n",
              "      <td>20</td>\n",
              "      <td>0</td>\n",
              "      <td>210000.00</td>\n",
              "      <td>1.9</td>\n",
              "      <td>137</td>\n",
              "      <td>1</td>\n",
              "      <td>0</td>\n",
              "      <td>7</td>\n",
              "    </tr>\n",
              "    <tr>\n",
              "      <th>4</th>\n",
              "      <td>65.0</td>\n",
              "      <td>1</td>\n",
              "      <td>160</td>\n",
              "      <td>1</td>\n",
              "      <td>20</td>\n",
              "      <td>0</td>\n",
              "      <td>327000.00</td>\n",
              "      <td>2.7</td>\n",
              "      <td>116</td>\n",
              "      <td>0</td>\n",
              "      <td>0</td>\n",
              "      <td>8</td>\n",
              "    </tr>\n",
              "  </tbody>\n",
              "</table>\n",
              "</div>"
            ],
            "text/plain": [
              "    age  anaemia  creatinine_phosphokinase  ...  sex  smoking  time\n",
              "0  75.0        0                       582  ...    1        0     4\n",
              "1  55.0        0                      7861  ...    1        0     6\n",
              "2  65.0        0                       146  ...    1        1     7\n",
              "3  50.0        1                       111  ...    1        0     7\n",
              "4  65.0        1                       160  ...    0        0     8\n",
              "\n",
              "[5 rows x 12 columns]"
            ]
          },
          "execution_count": 34,
          "metadata": {
            "tags": []
          },
          "output_type": "execute_result"
        }
      ],
      "source": [
        "# Check X data\n",
        "X.head()"
      ]
    },
    {
      "attachments": {},
      "cell_type": "markdown",
      "metadata": {
        "colab_type": "text",
        "id": "EjlVsp8e9OYf"
      },
      "source": [
        "###2.a) Use MinMaxScaler() to preprocess the dataset.\n",
        "This is similar to standardization but will transform all the feature values to between 0 and 1.\n",
        "\\\n",
        "**Hint: read information on MinMaxScaler (and other preprocessing transforms here):https://scikit-learn.org/stable/modules/preprocessing.html#normalization"
      ]
    },
    {
      "cell_type": "code",
      "execution_count": 35,
      "metadata": {
        "colab": {},
        "colab_type": "code",
        "id": "ONPM0qASs_RH",
        "vscode": {
          "languageId": "python"
        }
      },
      "outputs": [],
      "source": [
        "from sklearn import preprocessing\n",
        "\n",
        "X = X.values # Returns a numpy array\n",
        "min_max_scaler = preprocessing.MinMaxScaler() # Define the MinMaxScaler object\n",
        "X = min_max_scaler.fit_transform(X) # Fit the MinMaxScaler\n",
        "\n",
        "# Create numpy array of labels\n",
        "y = y.values"
      ]
    },
    {
      "cell_type": "code",
      "execution_count": 36,
      "metadata": {
        "colab": {
          "base_uri": "https://localhost:8080/",
          "height": 54
        },
        "colab_type": "code",
        "id": "bCIJ9pspiaDx",
        "outputId": "08c10a3e-3e9f-490e-c5db-30b3fb094160",
        "vscode": {
          "languageId": "python"
        }
      },
      "outputs": [
        {
          "name": "stdout",
          "output_type": "stream",
          "text": [
            "(299, 12)\n",
            "(299,)\n"
          ]
        }
      ],
      "source": [
        "print(X.shape)\n",
        "print(y.shape)"
      ]
    },
    {
      "cell_type": "markdown",
      "metadata": {
        "colab_type": "text",
        "id": "7Vq_1fsx8APo"
      },
      "source": [
        "###2.b) Implement an Artificial Neural network\n",
        "Make a neural network to your liking. Define the input layer. Add Layers, specify the number of neurons in each layer, and the activation. and define the out layer."
      ]
    },
    {
      "cell_type": "code",
      "execution_count": 37,
      "metadata": {
        "colab": {},
        "colab_type": "code",
        "id": "FPlsmcCj70Cg",
        "vscode": {
          "languageId": "python"
        }
      },
      "outputs": [],
      "source": [
        "from tensorflow.keras.models import Sequential\n",
        "\n",
        "# Building network here\n",
        "model = Sequential()\n",
        "model.add(Dense(units = 8, input_dim=12, activation='tanh'))\n",
        "model.add(Dense(units = 6, activation='tanh'))\n",
        "model.add(Dense(units = 6, activation='tanh'))\n",
        "model.add(Dense(units = 1, activation='tanh'))\n",
        "model.add(Dense(units = 1, activation='sigmoid'))"
      ]
    },
    {
      "cell_type": "code",
      "execution_count": 38,
      "metadata": {
        "colab": {
          "base_uri": "https://localhost:8080/",
          "height": 349
        },
        "colab_type": "code",
        "id": "DNsNcghG8ar8",
        "outputId": "59b609c6-c444-46ef-8954-e8880eca0bb8",
        "vscode": {
          "languageId": "python"
        }
      },
      "outputs": [
        {
          "name": "stdout",
          "output_type": "stream",
          "text": [
            "Model: \"sequential\"\n",
            "_________________________________________________________________\n",
            "Layer (type)                 Output Shape              Param #   \n",
            "=================================================================\n",
            "dense_4 (Dense)              (None, 8)                 104       \n",
            "_________________________________________________________________\n",
            "dense_5 (Dense)              (None, 6)                 54        \n",
            "_________________________________________________________________\n",
            "dense_6 (Dense)              (None, 6)                 42        \n",
            "_________________________________________________________________\n",
            "dense_7 (Dense)              (None, 1)                 7         \n",
            "_________________________________________________________________\n",
            "dense_8 (Dense)              (None, 1)                 2         \n",
            "=================================================================\n",
            "Total params: 209\n",
            "Trainable params: 209\n",
            "Non-trainable params: 0\n",
            "_________________________________________________________________\n"
          ]
        }
      ],
      "source": [
        "# Show a summary of your model\n",
        "model.summary()"
      ]
    },
    {
      "cell_type": "code",
      "execution_count": 39,
      "metadata": {
        "colab": {},
        "colab_type": "code",
        "id": "sKkah73t8e6Q",
        "vscode": {
          "languageId": "python"
        }
      },
      "outputs": [],
      "source": [
        "# Compile your model with the chosen optimizer, binary cross entropy for the loss, and accuracy as the metric\n",
        "optimizer = Adam()\n",
        "model.compile(optimizer=optimizer,loss='bce',metrics=['accuracy'])"
      ]
    },
    {
      "cell_type": "code",
      "execution_count": 40,
      "metadata": {
        "colab": {
          "base_uri": "https://localhost:8080/",
          "height": 1000
        },
        "colab_type": "code",
        "id": "M9VxLYDf8h-d",
        "outputId": "82e231ee-498f-4792-9f3d-5f230d26fd27",
        "vscode": {
          "languageId": "python"
        }
      },
      "outputs": [
        {
          "name": "stdout",
          "output_type": "stream",
          "text": [
            "Epoch 1/100\n",
            "8/8 [==============================] - 0s 19ms/step - loss: 0.6756 - accuracy: 0.6067 - val_loss: 0.6040 - val_accuracy: 0.9500\n",
            "Epoch 2/100\n",
            "8/8 [==============================] - 0s 6ms/step - loss: 0.6694 - accuracy: 0.6360 - val_loss: 0.5815 - val_accuracy: 0.9500\n",
            "Epoch 3/100\n",
            "8/8 [==============================] - 0s 6ms/step - loss: 0.6654 - accuracy: 0.6318 - val_loss: 0.5652 - val_accuracy: 0.9500\n",
            "Epoch 4/100\n",
            "8/8 [==============================] - 0s 6ms/step - loss: 0.6630 - accuracy: 0.6318 - val_loss: 0.5533 - val_accuracy: 0.9500\n",
            "Epoch 5/100\n",
            "8/8 [==============================] - 0s 6ms/step - loss: 0.6610 - accuracy: 0.6276 - val_loss: 0.5468 - val_accuracy: 0.9500\n",
            "Epoch 6/100\n",
            "8/8 [==============================] - 0s 6ms/step - loss: 0.6594 - accuracy: 0.6276 - val_loss: 0.5414 - val_accuracy: 0.9500\n",
            "Epoch 7/100\n",
            "8/8 [==============================] - 0s 6ms/step - loss: 0.6578 - accuracy: 0.6318 - val_loss: 0.5353 - val_accuracy: 0.9500\n",
            "Epoch 8/100\n",
            "8/8 [==============================] - 0s 8ms/step - loss: 0.6562 - accuracy: 0.6318 - val_loss: 0.5296 - val_accuracy: 0.9500\n",
            "Epoch 9/100\n",
            "8/8 [==============================] - 0s 6ms/step - loss: 0.6541 - accuracy: 0.6318 - val_loss: 0.5243 - val_accuracy: 0.9500\n",
            "Epoch 10/100\n",
            "8/8 [==============================] - 0s 5ms/step - loss: 0.6519 - accuracy: 0.6402 - val_loss: 0.5209 - val_accuracy: 0.9500\n",
            "Epoch 11/100\n",
            "8/8 [==============================] - 0s 6ms/step - loss: 0.6493 - accuracy: 0.6360 - val_loss: 0.5175 - val_accuracy: 0.9500\n",
            "Epoch 12/100\n",
            "8/8 [==============================] - 0s 6ms/step - loss: 0.6461 - accuracy: 0.6318 - val_loss: 0.5163 - val_accuracy: 0.9500\n",
            "Epoch 13/100\n",
            "8/8 [==============================] - 0s 6ms/step - loss: 0.6430 - accuracy: 0.6444 - val_loss: 0.5127 - val_accuracy: 0.9500\n",
            "Epoch 14/100\n",
            "8/8 [==============================] - 0s 6ms/step - loss: 0.6405 - accuracy: 0.6402 - val_loss: 0.5116 - val_accuracy: 0.9500\n",
            "Epoch 15/100\n",
            "8/8 [==============================] - 0s 6ms/step - loss: 0.6361 - accuracy: 0.6653 - val_loss: 0.5037 - val_accuracy: 0.9500\n",
            "Epoch 16/100\n",
            "8/8 [==============================] - 0s 7ms/step - loss: 0.6322 - accuracy: 0.6778 - val_loss: 0.4926 - val_accuracy: 0.9500\n",
            "Epoch 17/100\n",
            "8/8 [==============================] - 0s 6ms/step - loss: 0.6281 - accuracy: 0.6820 - val_loss: 0.4878 - val_accuracy: 0.9500\n",
            "Epoch 18/100\n",
            "8/8 [==============================] - 0s 6ms/step - loss: 0.6234 - accuracy: 0.6946 - val_loss: 0.4796 - val_accuracy: 0.9500\n",
            "Epoch 19/100\n",
            "8/8 [==============================] - 0s 6ms/step - loss: 0.6185 - accuracy: 0.6987 - val_loss: 0.4751 - val_accuracy: 0.9500\n",
            "Epoch 20/100\n",
            "8/8 [==============================] - 0s 5ms/step - loss: 0.6139 - accuracy: 0.7113 - val_loss: 0.4707 - val_accuracy: 0.9500\n",
            "Epoch 21/100\n",
            "8/8 [==============================] - 0s 6ms/step - loss: 0.6091 - accuracy: 0.7406 - val_loss: 0.4644 - val_accuracy: 0.9500\n",
            "Epoch 22/100\n",
            "8/8 [==============================] - 0s 6ms/step - loss: 0.6043 - accuracy: 0.7448 - val_loss: 0.4560 - val_accuracy: 0.9500\n",
            "Epoch 23/100\n",
            "8/8 [==============================] - 0s 6ms/step - loss: 0.5998 - accuracy: 0.7448 - val_loss: 0.4495 - val_accuracy: 0.9500\n",
            "Epoch 24/100\n",
            "8/8 [==============================] - 0s 6ms/step - loss: 0.5950 - accuracy: 0.7573 - val_loss: 0.4460 - val_accuracy: 0.9500\n",
            "Epoch 25/100\n",
            "8/8 [==============================] - 0s 8ms/step - loss: 0.5900 - accuracy: 0.7782 - val_loss: 0.4408 - val_accuracy: 0.9500\n",
            "Epoch 26/100\n",
            "8/8 [==============================] - 0s 7ms/step - loss: 0.5872 - accuracy: 0.7782 - val_loss: 0.4343 - val_accuracy: 0.9500\n",
            "Epoch 27/100\n",
            "8/8 [==============================] - 0s 5ms/step - loss: 0.5806 - accuracy: 0.7824 - val_loss: 0.4298 - val_accuracy: 0.9500\n",
            "Epoch 28/100\n",
            "8/8 [==============================] - 0s 6ms/step - loss: 0.5764 - accuracy: 0.7866 - val_loss: 0.4263 - val_accuracy: 0.9500\n",
            "Epoch 29/100\n",
            "8/8 [==============================] - 0s 6ms/step - loss: 0.5727 - accuracy: 0.7824 - val_loss: 0.4217 - val_accuracy: 0.9500\n",
            "Epoch 30/100\n",
            "8/8 [==============================] - 0s 6ms/step - loss: 0.5684 - accuracy: 0.7908 - val_loss: 0.4169 - val_accuracy: 0.9500\n",
            "Epoch 31/100\n",
            "8/8 [==============================] - 0s 6ms/step - loss: 0.5640 - accuracy: 0.7950 - val_loss: 0.4130 - val_accuracy: 0.9500\n",
            "Epoch 32/100\n",
            "8/8 [==============================] - 0s 6ms/step - loss: 0.5609 - accuracy: 0.7908 - val_loss: 0.4095 - val_accuracy: 0.9500\n",
            "Epoch 33/100\n",
            "8/8 [==============================] - 0s 6ms/step - loss: 0.5565 - accuracy: 0.7992 - val_loss: 0.4054 - val_accuracy: 0.9500\n",
            "Epoch 34/100\n",
            "8/8 [==============================] - 0s 6ms/step - loss: 0.5534 - accuracy: 0.7992 - val_loss: 0.4018 - val_accuracy: 0.9500\n",
            "Epoch 35/100\n",
            "8/8 [==============================] - 0s 7ms/step - loss: 0.5492 - accuracy: 0.7992 - val_loss: 0.3983 - val_accuracy: 0.9500\n",
            "Epoch 36/100\n",
            "8/8 [==============================] - 0s 6ms/step - loss: 0.5459 - accuracy: 0.7992 - val_loss: 0.3952 - val_accuracy: 0.9500\n",
            "Epoch 37/100\n",
            "8/8 [==============================] - 0s 6ms/step - loss: 0.5425 - accuracy: 0.8075 - val_loss: 0.3921 - val_accuracy: 0.9500\n",
            "Epoch 38/100\n",
            "8/8 [==============================] - 0s 6ms/step - loss: 0.5395 - accuracy: 0.8117 - val_loss: 0.3885 - val_accuracy: 0.9500\n",
            "Epoch 39/100\n",
            "8/8 [==============================] - 0s 6ms/step - loss: 0.5373 - accuracy: 0.8033 - val_loss: 0.3858 - val_accuracy: 0.9500\n",
            "Epoch 40/100\n",
            "8/8 [==============================] - 0s 6ms/step - loss: 0.5328 - accuracy: 0.8201 - val_loss: 0.3829 - val_accuracy: 0.9500\n",
            "Epoch 41/100\n",
            "8/8 [==============================] - 0s 6ms/step - loss: 0.5295 - accuracy: 0.8117 - val_loss: 0.3799 - val_accuracy: 0.9500\n",
            "Epoch 42/100\n",
            "8/8 [==============================] - 0s 6ms/step - loss: 0.5269 - accuracy: 0.8159 - val_loss: 0.3771 - val_accuracy: 0.9500\n",
            "Epoch 43/100\n",
            "8/8 [==============================] - 0s 7ms/step - loss: 0.5235 - accuracy: 0.8243 - val_loss: 0.3747 - val_accuracy: 0.9500\n",
            "Epoch 44/100\n",
            "8/8 [==============================] - 0s 7ms/step - loss: 0.5203 - accuracy: 0.8243 - val_loss: 0.3719 - val_accuracy: 0.9500\n",
            "Epoch 45/100\n",
            "8/8 [==============================] - 0s 7ms/step - loss: 0.5168 - accuracy: 0.8243 - val_loss: 0.3694 - val_accuracy: 0.9500\n",
            "Epoch 46/100\n",
            "8/8 [==============================] - 0s 6ms/step - loss: 0.5146 - accuracy: 0.8159 - val_loss: 0.3670 - val_accuracy: 0.9500\n",
            "Epoch 47/100\n",
            "8/8 [==============================] - 0s 6ms/step - loss: 0.5117 - accuracy: 0.8243 - val_loss: 0.3642 - val_accuracy: 0.9500\n",
            "Epoch 48/100\n",
            "8/8 [==============================] - 0s 7ms/step - loss: 0.5090 - accuracy: 0.8243 - val_loss: 0.3616 - val_accuracy: 0.9500\n",
            "Epoch 49/100\n",
            "8/8 [==============================] - 0s 6ms/step - loss: 0.5049 - accuracy: 0.8285 - val_loss: 0.3593 - val_accuracy: 0.9500\n",
            "Epoch 50/100\n",
            "8/8 [==============================] - 0s 6ms/step - loss: 0.5021 - accuracy: 0.8326 - val_loss: 0.3572 - val_accuracy: 0.9500\n",
            "Epoch 51/100\n",
            "8/8 [==============================] - 0s 6ms/step - loss: 0.4995 - accuracy: 0.8326 - val_loss: 0.3551 - val_accuracy: 0.9500\n",
            "Epoch 52/100\n",
            "8/8 [==============================] - 0s 6ms/step - loss: 0.4965 - accuracy: 0.8368 - val_loss: 0.3528 - val_accuracy: 0.9500\n",
            "Epoch 53/100\n",
            "8/8 [==============================] - 0s 8ms/step - loss: 0.4939 - accuracy: 0.8326 - val_loss: 0.3506 - val_accuracy: 0.9500\n",
            "Epoch 54/100\n",
            "8/8 [==============================] - 0s 7ms/step - loss: 0.4922 - accuracy: 0.8368 - val_loss: 0.3485 - val_accuracy: 0.9500\n",
            "Epoch 55/100\n",
            "8/8 [==============================] - 0s 6ms/step - loss: 0.4890 - accuracy: 0.8410 - val_loss: 0.3465 - val_accuracy: 0.9500\n",
            "Epoch 56/100\n",
            "8/8 [==============================] - 0s 7ms/step - loss: 0.4869 - accuracy: 0.8536 - val_loss: 0.3446 - val_accuracy: 0.9500\n",
            "Epoch 57/100\n",
            "8/8 [==============================] - 0s 6ms/step - loss: 0.4858 - accuracy: 0.8494 - val_loss: 0.3426 - val_accuracy: 0.9500\n",
            "Epoch 58/100\n",
            "8/8 [==============================] - 0s 7ms/step - loss: 0.4839 - accuracy: 0.8452 - val_loss: 0.3404 - val_accuracy: 0.9500\n",
            "Epoch 59/100\n",
            "8/8 [==============================] - 0s 6ms/step - loss: 0.4804 - accuracy: 0.8494 - val_loss: 0.3386 - val_accuracy: 0.9500\n",
            "Epoch 60/100\n",
            "8/8 [==============================] - 0s 6ms/step - loss: 0.4797 - accuracy: 0.8452 - val_loss: 0.3368 - val_accuracy: 0.9500\n",
            "Epoch 61/100\n",
            "8/8 [==============================] - 0s 7ms/step - loss: 0.4784 - accuracy: 0.8494 - val_loss: 0.3350 - val_accuracy: 0.9500\n",
            "Epoch 62/100\n",
            "8/8 [==============================] - 0s 6ms/step - loss: 0.4743 - accuracy: 0.8452 - val_loss: 0.3333 - val_accuracy: 0.9500\n",
            "Epoch 63/100\n",
            "8/8 [==============================] - 0s 6ms/step - loss: 0.4743 - accuracy: 0.8494 - val_loss: 0.3316 - val_accuracy: 0.9500\n",
            "Epoch 64/100\n",
            "8/8 [==============================] - 0s 7ms/step - loss: 0.4732 - accuracy: 0.8494 - val_loss: 0.3300 - val_accuracy: 0.9500\n",
            "Epoch 65/100\n",
            "8/8 [==============================] - 0s 6ms/step - loss: 0.4707 - accuracy: 0.8536 - val_loss: 0.3283 - val_accuracy: 0.9500\n",
            "Epoch 66/100\n",
            "8/8 [==============================] - 0s 7ms/step - loss: 0.4686 - accuracy: 0.8494 - val_loss: 0.3266 - val_accuracy: 0.9500\n",
            "Epoch 67/100\n",
            "8/8 [==============================] - 0s 6ms/step - loss: 0.4677 - accuracy: 0.8536 - val_loss: 0.3250 - val_accuracy: 0.9500\n",
            "Epoch 68/100\n",
            "8/8 [==============================] - 0s 7ms/step - loss: 0.4664 - accuracy: 0.8494 - val_loss: 0.3236 - val_accuracy: 0.9500\n",
            "Epoch 69/100\n",
            "8/8 [==============================] - 0s 6ms/step - loss: 0.4639 - accuracy: 0.8536 - val_loss: 0.3223 - val_accuracy: 0.9500\n",
            "Epoch 70/100\n",
            "8/8 [==============================] - 0s 6ms/step - loss: 0.4639 - accuracy: 0.8536 - val_loss: 0.3209 - val_accuracy: 0.9500\n",
            "Epoch 71/100\n",
            "8/8 [==============================] - 0s 6ms/step - loss: 0.4622 - accuracy: 0.8619 - val_loss: 0.3193 - val_accuracy: 0.9500\n",
            "Epoch 72/100\n",
            "8/8 [==============================] - 0s 6ms/step - loss: 0.4609 - accuracy: 0.8536 - val_loss: 0.3178 - val_accuracy: 0.9500\n",
            "Epoch 73/100\n",
            "8/8 [==============================] - 0s 7ms/step - loss: 0.4592 - accuracy: 0.8536 - val_loss: 0.3162 - val_accuracy: 0.9500\n",
            "Epoch 74/100\n",
            "8/8 [==============================] - 0s 7ms/step - loss: 0.4576 - accuracy: 0.8536 - val_loss: 0.3148 - val_accuracy: 0.9500\n",
            "Epoch 75/100\n",
            "8/8 [==============================] - 0s 6ms/step - loss: 0.4574 - accuracy: 0.8494 - val_loss: 0.3133 - val_accuracy: 0.9500\n",
            "Epoch 76/100\n",
            "8/8 [==============================] - 0s 6ms/step - loss: 0.4556 - accuracy: 0.8494 - val_loss: 0.3122 - val_accuracy: 0.9500\n",
            "Epoch 77/100\n",
            "8/8 [==============================] - 0s 6ms/step - loss: 0.4542 - accuracy: 0.8619 - val_loss: 0.3108 - val_accuracy: 0.9500\n",
            "Epoch 78/100\n",
            "8/8 [==============================] - 0s 7ms/step - loss: 0.4524 - accuracy: 0.8536 - val_loss: 0.3097 - val_accuracy: 0.9500\n",
            "Epoch 79/100\n",
            "8/8 [==============================] - 0s 6ms/step - loss: 0.4525 - accuracy: 0.8536 - val_loss: 0.3086 - val_accuracy: 0.9500\n",
            "Epoch 80/100\n",
            "8/8 [==============================] - 0s 6ms/step - loss: 0.4516 - accuracy: 0.8536 - val_loss: 0.3075 - val_accuracy: 0.9500\n",
            "Epoch 81/100\n",
            "8/8 [==============================] - 0s 6ms/step - loss: 0.4496 - accuracy: 0.8577 - val_loss: 0.3065 - val_accuracy: 0.9500\n",
            "Epoch 82/100\n",
            "8/8 [==============================] - 0s 6ms/step - loss: 0.4501 - accuracy: 0.8536 - val_loss: 0.3052 - val_accuracy: 0.9500\n",
            "Epoch 83/100\n",
            "8/8 [==============================] - 0s 7ms/step - loss: 0.4476 - accuracy: 0.8536 - val_loss: 0.3042 - val_accuracy: 0.9500\n",
            "Epoch 84/100\n",
            "8/8 [==============================] - 0s 6ms/step - loss: 0.4466 - accuracy: 0.8577 - val_loss: 0.3033 - val_accuracy: 0.9500\n",
            "Epoch 85/100\n",
            "8/8 [==============================] - 0s 6ms/step - loss: 0.4464 - accuracy: 0.8536 - val_loss: 0.3021 - val_accuracy: 0.9500\n",
            "Epoch 86/100\n",
            "8/8 [==============================] - 0s 6ms/step - loss: 0.4442 - accuracy: 0.8577 - val_loss: 0.3012 - val_accuracy: 0.9500\n",
            "Epoch 87/100\n",
            "8/8 [==============================] - 0s 6ms/step - loss: 0.4444 - accuracy: 0.8494 - val_loss: 0.3002 - val_accuracy: 0.9500\n",
            "Epoch 88/100\n",
            "8/8 [==============================] - 0s 6ms/step - loss: 0.4429 - accuracy: 0.8577 - val_loss: 0.2991 - val_accuracy: 0.9500\n",
            "Epoch 89/100\n",
            "8/8 [==============================] - 0s 6ms/step - loss: 0.4429 - accuracy: 0.8577 - val_loss: 0.2981 - val_accuracy: 0.9500\n",
            "Epoch 90/100\n",
            "8/8 [==============================] - 0s 6ms/step - loss: 0.4409 - accuracy: 0.8577 - val_loss: 0.2971 - val_accuracy: 0.9500\n",
            "Epoch 91/100\n",
            "8/8 [==============================] - 0s 6ms/step - loss: 0.4401 - accuracy: 0.8577 - val_loss: 0.2963 - val_accuracy: 0.9500\n",
            "Epoch 92/100\n",
            "8/8 [==============================] - 0s 7ms/step - loss: 0.4399 - accuracy: 0.8577 - val_loss: 0.2954 - val_accuracy: 0.9500\n",
            "Epoch 93/100\n",
            "8/8 [==============================] - 0s 6ms/step - loss: 0.4390 - accuracy: 0.8494 - val_loss: 0.2945 - val_accuracy: 0.9500\n",
            "Epoch 94/100\n",
            "8/8 [==============================] - 0s 6ms/step - loss: 0.4382 - accuracy: 0.8577 - val_loss: 0.2936 - val_accuracy: 0.9500\n",
            "Epoch 95/100\n",
            "8/8 [==============================] - 0s 6ms/step - loss: 0.4367 - accuracy: 0.8577 - val_loss: 0.2929 - val_accuracy: 0.9500\n",
            "Epoch 96/100\n",
            "8/8 [==============================] - 0s 6ms/step - loss: 0.4363 - accuracy: 0.8577 - val_loss: 0.2920 - val_accuracy: 0.9500\n",
            "Epoch 97/100\n",
            "8/8 [==============================] - 0s 6ms/step - loss: 0.4358 - accuracy: 0.8577 - val_loss: 0.2912 - val_accuracy: 0.9500\n",
            "Epoch 98/100\n",
            "8/8 [==============================] - 0s 7ms/step - loss: 0.4342 - accuracy: 0.8661 - val_loss: 0.2904 - val_accuracy: 0.9500\n",
            "Epoch 99/100\n",
            "8/8 [==============================] - 0s 6ms/step - loss: 0.4338 - accuracy: 0.8577 - val_loss: 0.2895 - val_accuracy: 0.9500\n",
            "Epoch 100/100\n",
            "8/8 [==============================] - 0s 6ms/step - loss: 0.4335 - accuracy: 0.8619 - val_loss: 0.2891 - val_accuracy: 0.9500\n"
          ]
        }
      ],
      "source": [
        "# Call fit on your model passing in the X, y data above, train for 100 epochs\n",
        "hist = model.fit(X, y, epochs=100, validation_split=0.2)"
      ]
    },
    {
      "cell_type": "markdown",
      "metadata": {
        "colab_type": "text",
        "id": "gfI0hDAF99HJ"
      },
      "source": [
        "###2.c) How did the model perform.\n",
        "How did your neural network preform? What hyperparameters and optimizer did you choose? What activation did you use?"
      ]
    },
    {
      "attachments": {},
      "cell_type": "markdown",
      "metadata": {
        "colab_type": "text",
        "id": "kCtOgL-h99HL"
      },
      "source": [
        "The neural network performed well with a final result of: \\\n",
        "Epoch 100/100\n",
        "8/8 [==============================] - 0s 6ms/step - loss: 0.4128 - accuracy: 0.8536 - val_loss: 0.2319 - val_accuracy: 0.9500 \\\n",
        "My model contains 1 input layer, 1 output layer, and 3 hidden layers. \\\n",
        "The input layer contains 8 neurons, and the input dimension of 12, to reflect the number of feautures involved in our dataset. \\\n",
        "The following 2 hidden layers, contain 6 neurons; I explored using 7, but that nettted me a worst accuracy, and I decided on 6 since I wanted to scale down the number of neurons from the input layer. \\\n",
        "The last hidden layer, with 1 neuron, was added as a boost of accuracy; previously I was netting ~83%, so I noticed the boost in accuracy by adding this layer, which was also inspired by the previous exercise. \\\n",
        "My output layer also consists on 1 neuron, and this too was inspired by all NN exercises prior to this segment, as well the needed implementation for binary classifcation. \\\n",
        "For the optimizer I left it at default, Adam(), all I know for certain is that this algorithm works well across a wide range of DL architectures. \\\n",
        "For all activation functions preceding the output layer, I chose 'tanh', given that it is as useful as the sigmoid function activation, however the only difference being its range -1 to 1. \\\n",
        "For the last layer, the output layer, I chose sigmoid function activation, given what we've discussed in lectures and through this exercise, the output of 0 or 1, is extremely useful for the classifcation of the dataset.\n"
      ]
    }
  ],
  "metadata": {
    "colab": {
      "collapsed_sections": [],
      "name": "Copy of Assignment 3.ipynb",
      "provenance": []
    },
    "kernelspec": {
      "display_name": "Python 3",
      "name": "python3"
    }
  },
  "nbformat": 4,
  "nbformat_minor": 0
}
